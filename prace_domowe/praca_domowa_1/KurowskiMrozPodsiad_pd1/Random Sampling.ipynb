{
 "cells": [
  {
   "cell_type": "markdown",
   "id": "desirable-richmond",
   "metadata": {},
   "source": [
    "Stworzenie zbioru z nazwami zdjęć i dopasowaniem typu"
   ]
  },
  {
   "cell_type": "code",
   "execution_count": 1,
   "id": "specialized-composer",
   "metadata": {
    "scrolled": true
   },
   "outputs": [],
   "source": [
    "import pandas as pd\n",
    "import numpy as np\n",
    "\n",
    "df_test = pd.read_csv('test_split.txt',\n",
    "                 delimiter = \" \",\n",
    "                index_col=False)\n",
    "df_test.columns = [\"patient\", \"filename\", \"label_str\", \"data\"]\n",
    "\n",
    "df_train = pd.read_csv('train_split.txt',\n",
    "                 delimiter = \" \",\n",
    "                index_col=False)\n",
    "df_train.columns = [\"patient\", \"filename\", \"label_str\", \"data\"]\n",
    "\n",
    "df_test = df_test.assign(label=pd.Series(np.zeros(len(df_test['label_str']))).values)\n",
    "df_train = df_train.assign(label=pd.Series(np.zeros(len(df_train['label_str']))).values)\n",
    "\n",
    "df_test.loc[df_test['label_str']== \"normal\", 'label'] = 0\n",
    "df_test.loc[df_test['label_str']== \"COVID-19\", 'label'] = 1\n",
    "df_test.loc[df_test['label_str']== \"pneumonia\", 'label'] = 2\n",
    "\n",
    "df_train.loc[df_train['label_str']== \"normal\", 'label'] = 0\n",
    "df_train.loc[df_train['label_str']== \"COVID-19\", 'label'] = 1\n",
    "df_train.loc[df_train['label_str']== \"pneumonia\", 'label'] = 2"
   ]
  },
  {
   "cell_type": "code",
   "execution_count": 2,
   "id": "congressional-button",
   "metadata": {},
   "outputs": [],
   "source": [
    "test = df_test[['filename', 'label', 'label_str']]\n",
    "train = df_train[['filename', 'label', 'label_str']]"
   ]
  },
  {
   "cell_type": "markdown",
   "id": "infinite-usage",
   "metadata": {},
   "source": [
    "Oversampling"
   ]
  },
  {
   "cell_type": "code",
   "execution_count": 3,
   "id": "southern-advertiser",
   "metadata": {},
   "outputs": [],
   "source": [
    "from imblearn.over_sampling import RandomOverSampler"
   ]
  },
  {
   "cell_type": "code",
   "execution_count": 4,
   "id": "limiting-vacuum",
   "metadata": {},
   "outputs": [],
   "source": [
    "def random_minority_oversample(train_set):\n",
    "    '''\n",
    "    Oversample the minority class using the specified algorithm\n",
    "    :param train_set: Training set image file names and labels\n",
    "    :return: A new training set containing oversampled examples\n",
    "    '''\n",
    "    X_train = train_set[[x for x in train_set.columns if x != 'label']].to_numpy()\n",
    "    if X_train.shape[1] == 1:\n",
    "        X_train = np.expand_dims(X_train, axis=-1)\n",
    "    Y_train = train_set['label'].to_numpy()\n",
    "    sampler = RandomOverSampler(random_state=np.random.randint(0, high=1000))\n",
    "    X_resampled, Y_resampled = sampler.fit_resample(X_train, Y_train)\n",
    "    filenames = X_resampled[:, 0]     # Filename is in first column\n",
    "    label_strs = X_resampled[:, 1]    # Class name is in second column\n",
    "    print(\"Train set shape before oversampling: \", X_train.shape, \n",
    "          \" Train set shape after resampling: \", X_resampled.shape)\n",
    "    train_set_resampled = pd.DataFrame({'filename': filenames, 'label': Y_resampled, 'label_str': label_strs})\n",
    "    return train_set_resampled"
   ]
  },
  {
   "cell_type": "code",
   "execution_count": 5,
   "id": "destroyed-maine",
   "metadata": {
    "scrolled": true
   },
   "outputs": [
    {
     "name": "stdout",
     "output_type": "stream",
     "text": [
      "Train set shape before oversampling:  (15110, 2)  Train set shape after resampling:  (23898, 2)\n"
     ]
    }
   ],
   "source": [
    "np.random.seed(2137)\n",
    "train_o = random_minority_oversample(train)"
   ]
  },
  {
   "cell_type": "markdown",
   "id": "mathematical-illinois",
   "metadata": {},
   "source": [
    "Undersampling"
   ]
  },
  {
   "cell_type": "code",
   "execution_count": 6,
   "id": "norman-english",
   "metadata": {},
   "outputs": [],
   "source": [
    "from imblearn.under_sampling import RandomUnderSampler"
   ]
  },
  {
   "cell_type": "code",
   "execution_count": 7,
   "id": "apparent-colon",
   "metadata": {},
   "outputs": [],
   "source": [
    "def random_majority_undersample(train_set):\n",
    "    '''\n",
    "    Undersample the majority class using the specified algorithm\n",
    "    :param train_set: Training set image file names and labels\n",
    "    :return: A new training set containing undersampled examples\n",
    "    '''\n",
    "    X_train = train_set[[x for x in train_set.columns if x != 'label']].to_numpy()\n",
    "    if X_train.shape[1] == 1:\n",
    "        X_train = np.expand_dims(X_train, axis=-1)\n",
    "    Y_train = train_set['label'].to_numpy()\n",
    "    sampler = RandomUnderSampler(random_state=np.random.randint(0, high=1000))\n",
    "    X_resampled, Y_resampled = sampler.fit_resample(X_train, Y_train)\n",
    "    filenames = X_resampled[:, 0]     # Filename is in first column\n",
    "    label_strs = X_resampled[:, 1]    # Class name is in second column\n",
    "    print(\"Train set shape before oversampling: \", X_train.shape, \n",
    "          \" Train set shape after resampling: \", X_resampled.shape)\n",
    "    train_set_resampled = pd.DataFrame({'filename': filenames, 'label': Y_resampled, 'label_str': label_strs})\n",
    "    return train_set_resampled"
   ]
  },
  {
   "cell_type": "code",
   "execution_count": 8,
   "id": "broke-monthly",
   "metadata": {},
   "outputs": [
    {
     "name": "stdout",
     "output_type": "stream",
     "text": [
      "Train set shape before oversampling:  (15110, 2)  Train set shape after resampling:  (5010, 2)\n"
     ]
    }
   ],
   "source": [
    "np.random.seed(2137)\n",
    "train_u = random_majority_undersample(train)"
   ]
  },
  {
   "cell_type": "markdown",
   "id": "concrete-charter",
   "metadata": {},
   "source": [
    "Ładowanie zdjęć"
   ]
  },
  {
   "cell_type": "code",
   "execution_count": 9,
   "id": "postal-assignment",
   "metadata": {},
   "outputs": [
    {
     "data": {
      "text/plain": [
       "Index(['filename', 'label', 'label_str'], dtype='object')"
      ]
     },
     "execution_count": 9,
     "metadata": {},
     "output_type": "execute_result"
    }
   ],
   "source": [
    "train_o.columns"
   ]
  },
  {
   "cell_type": "code",
   "execution_count": 10,
   "id": "tough-equilibrium",
   "metadata": {},
   "outputs": [
    {
     "data": {
      "text/plain": [
       "Index(['filename', 'label', 'label_str'], dtype='object')"
      ]
     },
     "execution_count": 10,
     "metadata": {},
     "output_type": "execute_result"
    }
   ],
   "source": [
    "train_u.columns"
   ]
  },
  {
   "cell_type": "code",
   "execution_count": 11,
   "id": "lasting-moral",
   "metadata": {},
   "outputs": [],
   "source": [
    "import os\n",
    "from PIL import Image\n",
    "\n",
    "def load_images2(data_split_table, img_path):\n",
    "    n_images = len(data_split_table)\n",
    "    images = np.zeros((n_images, 224, 224, 3))\n",
    "    labels = np.empty(n_images, dtype='object')\n",
    "    for i in range(n_images):\n",
    "        name = data_split_table.filename[i]\n",
    "        image = Image.open(os.path.join(img_path, name))\n",
    "        image = image.convert('RGB').resize((224,224))\n",
    "        image = np.asarray(image)\n",
    "        images[i] = image\n",
    "        labels[i] = dict_train[name]\n",
    "    return images, labels"
   ]
  },
  {
   "cell_type": "code",
   "execution_count": 12,
   "id": "regional-shepherd",
   "metadata": {},
   "outputs": [],
   "source": [
    "# tworzenie datasetu po over/under samplingu"
   ]
  },
  {
   "cell_type": "code",
   "execution_count": 13,
   "id": "executive-tiger",
   "metadata": {},
   "outputs": [],
   "source": [
    "train_path = os.path.join(\"data2\", \"train\")\n",
    "test_path = os.path.join(\"data2\", \"test\")"
   ]
  },
  {
   "cell_type": "code",
   "execution_count": 14,
   "id": "intense-dallas",
   "metadata": {
    "scrolled": true
   },
   "outputs": [
    {
     "data": {
      "text/plain": [
       "(23898, 3)"
      ]
     },
     "execution_count": 14,
     "metadata": {},
     "output_type": "execute_result"
    }
   ],
   "source": [
    "train_o.shape"
   ]
  },
  {
   "cell_type": "code",
   "execution_count": 15,
   "id": "controlling-retail",
   "metadata": {},
   "outputs": [
    {
     "data": {
      "text/plain": [
       "(5010, 3)"
      ]
     },
     "execution_count": 15,
     "metadata": {},
     "output_type": "execute_result"
    }
   ],
   "source": [
    "train_u.shape"
   ]
  },
  {
   "cell_type": "code",
   "execution_count": 16,
   "id": "simple-electricity",
   "metadata": {},
   "outputs": [],
   "source": [
    "#x_train, y_train = load_images2(train_o, train_path)\n",
    "#x_test, y_test = load_images2(train_u, test_path)"
   ]
  }
 ],
 "metadata": {
  "kernelspec": {
   "display_name": "Python 3",
   "language": "python",
   "name": "python3"
  },
  "language_info": {
   "codemirror_mode": {
    "name": "ipython",
    "version": 3
   },
   "file_extension": ".py",
   "mimetype": "text/x-python",
   "name": "python",
   "nbconvert_exporter": "python",
   "pygments_lexer": "ipython3",
   "version": "3.6.12"
  }
 },
 "nbformat": 4,
 "nbformat_minor": 5
}

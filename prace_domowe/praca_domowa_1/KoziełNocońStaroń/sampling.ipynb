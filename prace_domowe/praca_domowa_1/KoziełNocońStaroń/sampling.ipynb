{
 "cells": [
  {
   "cell_type": "code",
   "execution_count": 2,
   "metadata": {},
   "outputs": [],
   "source": [
    "import pandas as pd\n",
    "import random\n",
    "import numpy as np"
   ]
  },
  {
   "cell_type": "code",
   "execution_count": 6,
   "metadata": {},
   "outputs": [],
   "source": [
    "data = pd.read_csv(\".\\\\projekt\\\\COVIDNet-CXR4-A\\\\COVID-Net-master\\\\labels\\\\train_COVIDx5.txt\", sep=\" \", header = None)"
   ]
  },
  {
   "cell_type": "code",
   "execution_count": 9,
   "metadata": {},
   "outputs": [
    {
     "data": {
      "text/html": [
       "<div>\n",
       "<style scoped>\n",
       "    .dataframe tbody tr th:only-of-type {\n",
       "        vertical-align: middle;\n",
       "    }\n",
       "\n",
       "    .dataframe tbody tr th {\n",
       "        vertical-align: top;\n",
       "    }\n",
       "\n",
       "    .dataframe thead th {\n",
       "        text-align: right;\n",
       "    }\n",
       "</style>\n",
       "<table border=\"1\" class=\"dataframe\">\n",
       "  <thead>\n",
       "    <tr style=\"text-align: right;\">\n",
       "      <th></th>\n",
       "      <th>0</th>\n",
       "      <th>1</th>\n",
       "      <th>2</th>\n",
       "      <th>3</th>\n",
       "    </tr>\n",
       "  </thead>\n",
       "  <tbody>\n",
       "    <tr>\n",
       "      <th>0</th>\n",
       "      <td>3</td>\n",
       "      <td>SARS-10.1148rg.242035193-g04mr34g0-Fig8a-day0....</td>\n",
       "      <td>pneumonia</td>\n",
       "      <td>cohen</td>\n",
       "    </tr>\n",
       "    <tr>\n",
       "      <th>1</th>\n",
       "      <td>3</td>\n",
       "      <td>SARS-10.1148rg.242035193-g04mr34g0-Fig8b-day5....</td>\n",
       "      <td>pneumonia</td>\n",
       "      <td>cohen</td>\n",
       "    </tr>\n",
       "    <tr>\n",
       "      <th>2</th>\n",
       "      <td>3</td>\n",
       "      <td>SARS-10.1148rg.242035193-g04mr34g0-Fig8c-day10...</td>\n",
       "      <td>pneumonia</td>\n",
       "      <td>cohen</td>\n",
       "    </tr>\n",
       "    <tr>\n",
       "      <th>3</th>\n",
       "      <td>7</td>\n",
       "      <td>SARS-10.1148rg.242035193-g04mr34g04a-Fig4a-day...</td>\n",
       "      <td>pneumonia</td>\n",
       "      <td>cohen</td>\n",
       "    </tr>\n",
       "    <tr>\n",
       "      <th>4</th>\n",
       "      <td>7</td>\n",
       "      <td>SARS-10.1148rg.242035193-g04mr34g04b-Fig4b-day...</td>\n",
       "      <td>pneumonia</td>\n",
       "      <td>cohen</td>\n",
       "    </tr>\n",
       "    <tr>\n",
       "      <th>...</th>\n",
       "      <td>...</td>\n",
       "      <td>...</td>\n",
       "      <td>...</td>\n",
       "      <td>...</td>\n",
       "    </tr>\n",
       "    <tr>\n",
       "      <th>13953</th>\n",
       "      <td>c1628c47-5ba3-42dd-8df3-7ad3abd57ad0</td>\n",
       "      <td>c1628c47-5ba3-42dd-8df3-7ad3abd57ad0.png</td>\n",
       "      <td>pneumonia</td>\n",
       "      <td>rsna</td>\n",
       "    </tr>\n",
       "    <tr>\n",
       "      <th>13954</th>\n",
       "      <td>c1cddf32-b957-4753-acaa-472ab1447e86</td>\n",
       "      <td>c1cddf32-b957-4753-acaa-472ab1447e86.png</td>\n",
       "      <td>pneumonia</td>\n",
       "      <td>rsna</td>\n",
       "    </tr>\n",
       "    <tr>\n",
       "      <th>13955</th>\n",
       "      <td>c1e73a4e-7afe-4ec5-8af6-ce8315d7a2f2</td>\n",
       "      <td>c1e73a4e-7afe-4ec5-8af6-ce8315d7a2f2.png</td>\n",
       "      <td>pneumonia</td>\n",
       "      <td>rsna</td>\n",
       "    </tr>\n",
       "    <tr>\n",
       "      <th>13956</th>\n",
       "      <td>c1ec14ff-f6d7-4b38-b0cb-fe07041cbdc8</td>\n",
       "      <td>c1ec14ff-f6d7-4b38-b0cb-fe07041cbdc8.png</td>\n",
       "      <td>pneumonia</td>\n",
       "      <td>rsna</td>\n",
       "    </tr>\n",
       "    <tr>\n",
       "      <th>13957</th>\n",
       "      <td>c1f7889a-9ea9-4acb-b64c-b737c929599a</td>\n",
       "      <td>c1f7889a-9ea9-4acb-b64c-b737c929599a.png</td>\n",
       "      <td>pneumonia</td>\n",
       "      <td>rsna</td>\n",
       "    </tr>\n",
       "  </tbody>\n",
       "</table>\n",
       "<p>5475 rows × 4 columns</p>\n",
       "</div>"
      ],
      "text/plain": [
       "                                          0  \\\n",
       "0                                         3   \n",
       "1                                         3   \n",
       "2                                         3   \n",
       "3                                         7   \n",
       "4                                         7   \n",
       "...                                     ...   \n",
       "13953  c1628c47-5ba3-42dd-8df3-7ad3abd57ad0   \n",
       "13954  c1cddf32-b957-4753-acaa-472ab1447e86   \n",
       "13955  c1e73a4e-7afe-4ec5-8af6-ce8315d7a2f2   \n",
       "13956  c1ec14ff-f6d7-4b38-b0cb-fe07041cbdc8   \n",
       "13957  c1f7889a-9ea9-4acb-b64c-b737c929599a   \n",
       "\n",
       "                                                       1          2      3  \n",
       "0      SARS-10.1148rg.242035193-g04mr34g0-Fig8a-day0....  pneumonia  cohen  \n",
       "1      SARS-10.1148rg.242035193-g04mr34g0-Fig8b-day5....  pneumonia  cohen  \n",
       "2      SARS-10.1148rg.242035193-g04mr34g0-Fig8c-day10...  pneumonia  cohen  \n",
       "3      SARS-10.1148rg.242035193-g04mr34g04a-Fig4a-day...  pneumonia  cohen  \n",
       "4      SARS-10.1148rg.242035193-g04mr34g04b-Fig4b-day...  pneumonia  cohen  \n",
       "...                                                  ...        ...    ...  \n",
       "13953           c1628c47-5ba3-42dd-8df3-7ad3abd57ad0.png  pneumonia   rsna  \n",
       "13954           c1cddf32-b957-4753-acaa-472ab1447e86.png  pneumonia   rsna  \n",
       "13955           c1e73a4e-7afe-4ec5-8af6-ce8315d7a2f2.png  pneumonia   rsna  \n",
       "13956           c1ec14ff-f6d7-4b38-b0cb-fe07041cbdc8.png  pneumonia   rsna  \n",
       "13957           c1f7889a-9ea9-4acb-b64c-b737c929599a.png  pneumonia   rsna  \n",
       "\n",
       "[5475 rows x 4 columns]"
      ]
     },
     "execution_count": 9,
     "metadata": {},
     "output_type": "execute_result"
    }
   ],
   "source": [
    "data[data[2] == 'pneumonia']"
   ]
  },
  {
   "cell_type": "code",
   "execution_count": 17,
   "metadata": {},
   "outputs": [
    {
     "data": {
      "text/plain": [
       "(5475, 4)"
      ]
     },
     "execution_count": 17,
     "metadata": {},
     "output_type": "execute_result"
    }
   ],
   "source": [
    "data[data[2] == 'pneumonia'].shape"
   ]
  },
  {
   "cell_type": "code",
   "execution_count": 18,
   "metadata": {},
   "outputs": [
    {
     "data": {
      "text/plain": [
       "(7966, 4)"
      ]
     },
     "execution_count": 18,
     "metadata": {},
     "output_type": "execute_result"
    }
   ],
   "source": [
    "data[data[2] == 'normal'].shape"
   ]
  },
  {
   "cell_type": "code",
   "execution_count": 24,
   "metadata": {},
   "outputs": [
    {
     "data": {
      "text/plain": [
       "(517, 4)"
      ]
     },
     "execution_count": 24,
     "metadata": {},
     "output_type": "execute_result"
    }
   ],
   "source": [
    "data[data[2] == 'COVID-19'].shape"
   ]
  },
  {
   "cell_type": "code",
   "execution_count": 31,
   "metadata": {},
   "outputs": [],
   "source": [
    "d1 = data[data[2] == 'pneumonia'].sample(517)\n",
    "d2 = data[data[2] == 'normal'].sample(517)"
   ]
  },
  {
   "cell_type": "code",
   "execution_count": 33,
   "metadata": {},
   "outputs": [],
   "source": [
    "d = pd.concat([d1, d2, data[data[2] == 'COVID-19']])"
   ]
  },
  {
   "cell_type": "code",
   "execution_count": 35,
   "metadata": {},
   "outputs": [
    {
     "data": {
      "text/plain": [
       "(1551, 4)"
      ]
     },
     "execution_count": 35,
     "metadata": {},
     "output_type": "execute_result"
    }
   ],
   "source": [
    "d.shape"
   ]
  },
  {
   "cell_type": "code",
   "execution_count": 43,
   "metadata": {},
   "outputs": [],
   "source": [
    "d.to_csv(\".\\\\projekt\\\\COVIDNet-CXR4-A\\\\COVID-Net-master\\\\labels\\\\under.txt\", sep = \" \", columns = None, header = False, index = False)"
   ]
  },
  {
   "cell_type": "code",
   "execution_count": 40,
   "metadata": {},
   "outputs": [],
   "source": [
    "x = [data[data[2] == 'COVID-19']] * 9"
   ]
  },
  {
   "cell_type": "code",
   "execution_count": 41,
   "metadata": {},
   "outputs": [],
   "source": [
    "x.append(data)"
   ]
  },
  {
   "cell_type": "code",
   "execution_count": 42,
   "metadata": {},
   "outputs": [],
   "source": [
    "d = pd.concat(x)"
   ]
  },
  {
   "cell_type": "code",
   "execution_count": 43,
   "metadata": {},
   "outputs": [],
   "source": [
    "d.to_csv(\".\\\\projekt\\\\COVIDNet-CXR4-A\\\\COVID-Net-master\\\\labels\\\\over.txt\", sep = \" \", columns = None, header = False, index = False)"
   ]
  }
 ],
 "metadata": {
  "kernelspec": {
   "display_name": "projektWB",
   "language": "python",
   "name": "projektwb"
  },
  "language_info": {
   "codemirror_mode": {
    "name": "ipython",
    "version": 3
   },
   "file_extension": ".py",
   "mimetype": "text/x-python",
   "name": "python",
   "nbconvert_exporter": "python",
   "pygments_lexer": "ipython3",
   "version": "3.8.2"
  }
 },
 "nbformat": 4,
 "nbformat_minor": 4
}

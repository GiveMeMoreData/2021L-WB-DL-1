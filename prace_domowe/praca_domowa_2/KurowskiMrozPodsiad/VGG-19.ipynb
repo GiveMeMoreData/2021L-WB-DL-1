{
 "cells": [
  {
   "cell_type": "code",
   "execution_count": 1,
   "metadata": {},
   "outputs": [],
   "source": [
    "import cv2\n",
    "import numpy as np\n",
    "import matplotlib.pyplot as plt\n",
    "import os"
   ]
  },
  {
   "cell_type": "code",
   "execution_count": 2,
   "metadata": {},
   "outputs": [],
   "source": [
    "x_train = np.load('data/x_train_undersampled.npy')\n",
    "y_train = np.load('data/y_train_undersampled.npy')\n",
    "x_test = np.load('data/x_test_undersampled.npy')\n",
    "y_test = np.load('data/y_test_undersampled.npy')"
   ]
  },
  {
   "cell_type": "code",
   "execution_count": 3,
   "metadata": {},
   "outputs": [
    {
     "name": "stdout",
     "output_type": "stream",
     "text": [
      "(5010, 224, 224, 3)\n",
      "(300, 224, 224, 3)\n"
     ]
    }
   ],
   "source": [
    "print(x_train.shape)\n",
    "print(x_test.shape)"
   ]
  },
  {
   "cell_type": "code",
   "execution_count": 4,
   "metadata": {},
   "outputs": [
    {
     "name": "stdout",
     "output_type": "stream",
     "text": [
      "(5010,)\n",
      "(300,)\n"
     ]
    }
   ],
   "source": [
    "print(y_train.shape)\n",
    "print(y_test.shape)"
   ]
  },
  {
   "cell_type": "code",
   "execution_count": 5,
   "metadata": {},
   "outputs": [],
   "source": [
    "#x_train /= 255????"
   ]
  },
  {
   "cell_type": "code",
   "execution_count": 6,
   "metadata": {
    "scrolled": true
   },
   "outputs": [
    {
     "name": "stderr",
     "output_type": "stream",
     "text": [
      "C:\\Users\\hp\\Anaconda3\\envs\\wbvenv36\\lib\\site-packages\\tensorflow\\python\\framework\\dtypes.py:516: FutureWarning: Passing (type, 1) or '1type' as a synonym of type is deprecated; in a future version of numpy, it will be understood as (type, (1,)) / '(1,)type'.\n",
      "  _np_qint8 = np.dtype([(\"qint8\", np.int8, 1)])\n",
      "C:\\Users\\hp\\Anaconda3\\envs\\wbvenv36\\lib\\site-packages\\tensorflow\\python\\framework\\dtypes.py:517: FutureWarning: Passing (type, 1) or '1type' as a synonym of type is deprecated; in a future version of numpy, it will be understood as (type, (1,)) / '(1,)type'.\n",
      "  _np_quint8 = np.dtype([(\"quint8\", np.uint8, 1)])\n",
      "C:\\Users\\hp\\Anaconda3\\envs\\wbvenv36\\lib\\site-packages\\tensorflow\\python\\framework\\dtypes.py:518: FutureWarning: Passing (type, 1) or '1type' as a synonym of type is deprecated; in a future version of numpy, it will be understood as (type, (1,)) / '(1,)type'.\n",
      "  _np_qint16 = np.dtype([(\"qint16\", np.int16, 1)])\n",
      "C:\\Users\\hp\\Anaconda3\\envs\\wbvenv36\\lib\\site-packages\\tensorflow\\python\\framework\\dtypes.py:519: FutureWarning: Passing (type, 1) or '1type' as a synonym of type is deprecated; in a future version of numpy, it will be understood as (type, (1,)) / '(1,)type'.\n",
      "  _np_quint16 = np.dtype([(\"quint16\", np.uint16, 1)])\n",
      "C:\\Users\\hp\\Anaconda3\\envs\\wbvenv36\\lib\\site-packages\\tensorflow\\python\\framework\\dtypes.py:520: FutureWarning: Passing (type, 1) or '1type' as a synonym of type is deprecated; in a future version of numpy, it will be understood as (type, (1,)) / '(1,)type'.\n",
      "  _np_qint32 = np.dtype([(\"qint32\", np.int32, 1)])\n",
      "C:\\Users\\hp\\Anaconda3\\envs\\wbvenv36\\lib\\site-packages\\tensorflow\\python\\framework\\dtypes.py:525: FutureWarning: Passing (type, 1) or '1type' as a synonym of type is deprecated; in a future version of numpy, it will be understood as (type, (1,)) / '(1,)type'.\n",
      "  np_resource = np.dtype([(\"resource\", np.ubyte, 1)])\n",
      "C:\\Users\\hp\\Anaconda3\\envs\\wbvenv36\\lib\\site-packages\\tensorboard\\compat\\tensorflow_stub\\dtypes.py:541: FutureWarning: Passing (type, 1) or '1type' as a synonym of type is deprecated; in a future version of numpy, it will be understood as (type, (1,)) / '(1,)type'.\n",
      "  _np_qint8 = np.dtype([(\"qint8\", np.int8, 1)])\n",
      "C:\\Users\\hp\\Anaconda3\\envs\\wbvenv36\\lib\\site-packages\\tensorboard\\compat\\tensorflow_stub\\dtypes.py:542: FutureWarning: Passing (type, 1) or '1type' as a synonym of type is deprecated; in a future version of numpy, it will be understood as (type, (1,)) / '(1,)type'.\n",
      "  _np_quint8 = np.dtype([(\"quint8\", np.uint8, 1)])\n",
      "C:\\Users\\hp\\Anaconda3\\envs\\wbvenv36\\lib\\site-packages\\tensorboard\\compat\\tensorflow_stub\\dtypes.py:543: FutureWarning: Passing (type, 1) or '1type' as a synonym of type is deprecated; in a future version of numpy, it will be understood as (type, (1,)) / '(1,)type'.\n",
      "  _np_qint16 = np.dtype([(\"qint16\", np.int16, 1)])\n",
      "C:\\Users\\hp\\Anaconda3\\envs\\wbvenv36\\lib\\site-packages\\tensorboard\\compat\\tensorflow_stub\\dtypes.py:544: FutureWarning: Passing (type, 1) or '1type' as a synonym of type is deprecated; in a future version of numpy, it will be understood as (type, (1,)) / '(1,)type'.\n",
      "  _np_quint16 = np.dtype([(\"quint16\", np.uint16, 1)])\n",
      "C:\\Users\\hp\\Anaconda3\\envs\\wbvenv36\\lib\\site-packages\\tensorboard\\compat\\tensorflow_stub\\dtypes.py:545: FutureWarning: Passing (type, 1) or '1type' as a synonym of type is deprecated; in a future version of numpy, it will be understood as (type, (1,)) / '(1,)type'.\n",
      "  _np_qint32 = np.dtype([(\"qint32\", np.int32, 1)])\n",
      "C:\\Users\\hp\\Anaconda3\\envs\\wbvenv36\\lib\\site-packages\\tensorboard\\compat\\tensorflow_stub\\dtypes.py:550: FutureWarning: Passing (type, 1) or '1type' as a synonym of type is deprecated; in a future version of numpy, it will be understood as (type, (1,)) / '(1,)type'.\n",
      "  np_resource = np.dtype([(\"resource\", np.ubyte, 1)])\n",
      "Using TensorFlow backend.\n"
     ]
    }
   ],
   "source": [
    "from __future__ import print_function\n",
    "\n",
    "import numpy as np\n",
    "from random import shuffle\n",
    "import time\n",
    "import csv\n",
    "from PIL import Image\n",
    "import os\n",
    "import tensorflow as tf\n",
    "import keras\n",
    "from keras.callbacks import EarlyStopping, LearningRateScheduler\n",
    "from keras import initializers\n",
    "from keras.optimizers import SGD\n",
    "from keras.preprocessing import sequence\n",
    "from keras.utils import np_utils\n",
    "from keras.models import Sequential,load_model,Model\n",
    "from keras.layers import Dense, Dropout, Activation, Flatten\n",
    "from keras.layers import *\n",
    "from keras.callbacks import CSVLogger\n",
    "from keras import callbacks\n",
    "from keras.preprocessing.image import ImageDataGenerator\n",
    "\n",
    "from sklearn.metrics import classification_report\n",
    "from sklearn.model_selection import train_test_split\n",
    "import sklearn.metrics as sklm\n",
    "import sys\n",
    "sys.path.insert(0,'..')\n",
    "from utils import lossprettifier\n",
    "from Classifier.VGG import *"
   ]
  },
  {
   "cell_type": "code",
   "execution_count": 7,
   "metadata": {},
   "outputs": [],
   "source": [
    "# for reproducibility\n",
    "np.random.seed(3768)\n",
    "\n",
    "# use this environment flag to change which GPU to use \n",
    "os.environ[\"CUDA_DEVICE_ORDER\"]=\"PCI_BUS_ID\"\n",
    "os.environ[\"CUDA_VISIBLE_DEVICES\"]=\"0\"  # specify which GPU(s) to be used\n",
    "\n",
    "#Get TensorFlow session\n",
    "def get_session(): \n",
    "  config = tf.ConfigProto() \n",
    "  config.gpu_options.allow_growth = True \n",
    "  return tf.Session(config=config) \n",
    "  \n",
    "# One hot encoding of labels \n",
    "def dense_to_one_hot(labels_dense,num_clases=4):\n",
    "  return np.eye(num_clases)[labels_dense]"
   ]
  },
  {
   "cell_type": "code",
   "execution_count": 8,
   "metadata": {},
   "outputs": [],
   "source": [
    "# Preparing training and test sets\n",
    "x_train, x_valid, y_train, y_valid = train_test_split(x_train, y_train, test_size=0.10, random_state=42)"
   ]
  },
  {
   "cell_type": "code",
   "execution_count": 9,
   "metadata": {},
   "outputs": [],
   "source": [
    "y_train = dense_to_one_hot(y_train,num_clases=3)\n",
    "y_valid= dense_to_one_hot(y_valid,num_clases=3)"
   ]
  },
  {
   "cell_type": "code",
   "execution_count": 10,
   "metadata": {},
   "outputs": [
    {
     "name": "stderr",
     "output_type": "stream",
     "text": [
      "C:\\Users\\hp\\Anaconda3\\envs\\wbvenv36\\lib\\site-packages\\keras_preprocessing\\image\\image_data_generator.py:349: UserWarning: This ImageDataGenerator specifies `featurewise_std_normalization`, which overrides setting of `featurewise_center`.\n",
      "  warnings.warn('This ImageDataGenerator specifies '\n"
     ]
    }
   ],
   "source": [
    "#Image data generation for the training \n",
    "datagen = ImageDataGenerator(\n",
    "               featurewise_center = False, \n",
    "               samplewise_center = False,  # set each sample mean to 0\n",
    "               featurewise_std_normalization = True,  \n",
    "               samplewise_std_normalization = False)  \n",
    "\n",
    "datagen.fit(x_train) \n",
    "for i in range(len(x_test)):\n",
    "      x_test[i] = datagen.standardize(x_test[i])"
   ]
  },
  {
   "cell_type": "code",
   "execution_count": 11,
   "metadata": {
    "scrolled": true
   },
   "outputs": [
    {
     "name": "stdout",
     "output_type": "stream",
     "text": [
      "WARNING:tensorflow:From C:\\Users\\hp\\AppData\\Roaming\\Python\\Python36\\site-packages\\keras\\backend\\tensorflow_backend.py:4070: The name tf.nn.max_pool is deprecated. Please use tf.nn.max_pool2d instead.\n",
      "\n",
      "WARNING:tensorflow:From C:\\Users\\hp\\AppData\\Roaming\\Python\\Python36\\site-packages\\keras\\backend\\tensorflow_backend.py:422: The name tf.global_variables is deprecated. Please use tf.compat.v1.global_variables instead.\n",
      "\n",
      "Epoch 1/50\n",
      "32/32 [==============================] - 3s 104ms/step - loss: 1.0863 - accuracy: 0.3633 - val_loss: 1.0307 - val_accuracy: 0.5409\n",
      "Epoch 2/50\n",
      "32/32 [==============================] - 1s 44ms/step - loss: 1.0223 - accuracy: 0.5254 - val_loss: 1.0552 - val_accuracy: 0.5749\n",
      "Epoch 3/50\n",
      "32/32 [==============================] - 1s 44ms/step - loss: 0.9500 - accuracy: 0.5537 - val_loss: 0.9301 - val_accuracy: 0.5509\n",
      "Epoch 4/50\n",
      "32/32 [==============================] - 2s 53ms/step - loss: 0.9689 - accuracy: 0.5573 - val_loss: 1.0795 - val_accuracy: 0.6008\n",
      "Epoch 5/50\n",
      "32/32 [==============================] - 1s 47ms/step - loss: 0.9291 - accuracy: 0.5742 - val_loss: 0.8121 - val_accuracy: 0.5589\n",
      "Epoch 6/50\n",
      "32/32 [==============================] - 1s 44ms/step - loss: 0.8946 - accuracy: 0.5965 - val_loss: 0.9525 - val_accuracy: 0.5848\n",
      "Epoch 7/50\n",
      "32/32 [==============================] - 1s 44ms/step - loss: 0.8608 - accuracy: 0.6279 - val_loss: 0.7811 - val_accuracy: 0.5948\n",
      "Epoch 8/50\n",
      "32/32 [==============================] - 1s 44ms/step - loss: 0.8239 - accuracy: 0.6416 - val_loss: 1.0923 - val_accuracy: 0.7006\n",
      "Epoch 9/50\n",
      "32/32 [==============================] - 1s 46ms/step - loss: 0.8444 - accuracy: 0.6239 - val_loss: 1.2109 - val_accuracy: 0.6587\n",
      "Epoch 10/50\n",
      "32/32 [==============================] - 1s 44ms/step - loss: 0.7620 - accuracy: 0.6914 - val_loss: 0.6253 - val_accuracy: 0.7365\n",
      "Epoch 11/50\n",
      "32/32 [==============================] - 1s 43ms/step - loss: 0.7328 - accuracy: 0.6982 - val_loss: 1.0162 - val_accuracy: 0.7206\n",
      "Epoch 12/50\n",
      "32/32 [==============================] - 1s 44ms/step - loss: 0.7354 - accuracy: 0.6846 - val_loss: 0.6194 - val_accuracy: 0.6966\n",
      "Epoch 13/50\n",
      "32/32 [==============================] - 1s 43ms/step - loss: 0.7291 - accuracy: 0.7002 - val_loss: 0.6032 - val_accuracy: 0.7006\n",
      "Epoch 14/50\n",
      "32/32 [==============================] - 1s 45ms/step - loss: 0.6756 - accuracy: 0.7363 - val_loss: 0.8572 - val_accuracy: 0.7226\n",
      "Epoch 15/50\n",
      "32/32 [==============================] - 1s 43ms/step - loss: 0.6840 - accuracy: 0.7139 - val_loss: 0.7311 - val_accuracy: 0.7545\n",
      "Epoch 16/50\n",
      "32/32 [==============================] - 1s 43ms/step - loss: 0.6459 - accuracy: 0.7522 - val_loss: 0.6736 - val_accuracy: 0.7166\n",
      "Epoch 17/50\n",
      "32/32 [==============================] - 1s 43ms/step - loss: 0.7340 - accuracy: 0.6816 - val_loss: 0.6809 - val_accuracy: 0.7365\n",
      "Epoch 18/50\n",
      "32/32 [==============================] - 1s 46ms/step - loss: 0.6981 - accuracy: 0.7266 - val_loss: 0.6984 - val_accuracy: 0.7665\n",
      "Epoch 19/50\n",
      "32/32 [==============================] - 1s 44ms/step - loss: 0.6819 - accuracy: 0.7295 - val_loss: 0.6612 - val_accuracy: 0.7265\n",
      "Epoch 20/50\n",
      "32/32 [==============================] - 1s 44ms/step - loss: 0.6590 - accuracy: 0.7395 - val_loss: 0.5534 - val_accuracy: 0.7425\n",
      "Epoch 21/50\n",
      "32/32 [==============================] - 1s 44ms/step - loss: 0.7215 - accuracy: 0.7051 - val_loss: 0.3738 - val_accuracy: 0.7465\n",
      "Epoch 22/50\n",
      "32/32 [==============================] - 1s 44ms/step - loss: 0.6519 - accuracy: 0.7393 - val_loss: 0.6978 - val_accuracy: 0.7265\n",
      "Epoch 23/50\n",
      "32/32 [==============================] - 1s 44ms/step - loss: 0.6712 - accuracy: 0.7207 - val_loss: 0.4578 - val_accuracy: 0.7565\n",
      "Epoch 24/50\n",
      "32/32 [==============================] - 1s 43ms/step - loss: 0.6668 - accuracy: 0.7275 - val_loss: 0.5499 - val_accuracy: 0.7864\n",
      "Epoch 25/50\n",
      "32/32 [==============================] - 1s 43ms/step - loss: 0.5774 - accuracy: 0.7630 - val_loss: 0.4418 - val_accuracy: 0.7784\n",
      "Epoch 26/50\n",
      "32/32 [==============================] - 1s 44ms/step - loss: 0.6135 - accuracy: 0.7539 - val_loss: 0.6162 - val_accuracy: 0.7725\n",
      "Epoch 27/50\n",
      "32/32 [==============================] - 2s 48ms/step - loss: 0.6077 - accuracy: 0.7529 - val_loss: 0.5668 - val_accuracy: 0.7465\n",
      "Epoch 28/50\n",
      "32/32 [==============================] - 1s 44ms/step - loss: 0.5795 - accuracy: 0.7598 - val_loss: 0.4397 - val_accuracy: 0.7645\n",
      "Epoch 29/50\n",
      "32/32 [==============================] - 1s 44ms/step - loss: 0.6173 - accuracy: 0.7549 - val_loss: 0.5330 - val_accuracy: 0.7605\n",
      "Epoch 30/50\n",
      "32/32 [==============================] - 1s 44ms/step - loss: 0.6584 - accuracy: 0.7207 - val_loss: 0.8024 - val_accuracy: 0.7186\n",
      "Epoch 31/50\n",
      "32/32 [==============================] - 1s 47ms/step - loss: 0.6729 - accuracy: 0.7150 - val_loss: 0.7730 - val_accuracy: 0.7565\n",
      "Epoch 32/50\n",
      "32/32 [==============================] - 1s 44ms/step - loss: 0.6067 - accuracy: 0.7630 - val_loss: 0.3291 - val_accuracy: 0.7745\n",
      "Epoch 33/50\n",
      "32/32 [==============================] - 1s 44ms/step - loss: 0.6285 - accuracy: 0.7461 - val_loss: 0.4851 - val_accuracy: 0.7964\n",
      "Epoch 34/50\n",
      "32/32 [==============================] - 1s 44ms/step - loss: 0.5434 - accuracy: 0.7891 - val_loss: 0.3459 - val_accuracy: 0.7944\n",
      "Epoch 35/50\n",
      "32/32 [==============================] - 1s 44ms/step - loss: 0.5762 - accuracy: 0.7559 - val_loss: 0.4852 - val_accuracy: 0.7645\n",
      "Epoch 36/50\n",
      "32/32 [==============================] - 1s 44ms/step - loss: 0.6090 - accuracy: 0.7549 - val_loss: 0.4567 - val_accuracy: 0.7884\n",
      "Epoch 37/50\n",
      "32/32 [==============================] - 1s 43ms/step - loss: 0.6188 - accuracy: 0.7441 - val_loss: 0.5298 - val_accuracy: 0.7685\n",
      "Epoch 38/50\n",
      "32/32 [==============================] - 1s 43ms/step - loss: 0.6015 - accuracy: 0.7676 - val_loss: 0.3716 - val_accuracy: 0.7804\n",
      "Epoch 39/50\n",
      "32/32 [==============================] - 1s 44ms/step - loss: 0.6090 - accuracy: 0.7549 - val_loss: 0.5178 - val_accuracy: 0.7764\n",
      "Epoch 40/50\n",
      "32/32 [==============================] - 1s 46ms/step - loss: 0.5925 - accuracy: 0.7532 - val_loss: 0.4091 - val_accuracy: 0.7884\n",
      "Epoch 41/50\n",
      "32/32 [==============================] - 1s 44ms/step - loss: 0.5479 - accuracy: 0.7676 - val_loss: 0.5293 - val_accuracy: 0.8044\n",
      "Epoch 42/50\n",
      "32/32 [==============================] - 1s 44ms/step - loss: 0.5805 - accuracy: 0.7715 - val_loss: 0.4534 - val_accuracy: 0.7525\n",
      "Epoch 43/50\n",
      "32/32 [==============================] - 1s 44ms/step - loss: 0.5852 - accuracy: 0.7637 - val_loss: 0.4481 - val_accuracy: 0.7605\n",
      "Epoch 44/50\n",
      "32/32 [==============================] - 1s 44ms/step - loss: 0.5881 - accuracy: 0.7581 - val_loss: 0.4913 - val_accuracy: 0.7784\n",
      "Epoch 45/50\n",
      "32/32 [==============================] - 1s 44ms/step - loss: 0.6370 - accuracy: 0.7346 - val_loss: 0.8027 - val_accuracy: 0.7465\n",
      "Epoch 46/50\n",
      "32/32 [==============================] - 1s 43ms/step - loss: 0.6376 - accuracy: 0.7402 - val_loss: 0.6796 - val_accuracy: 0.7605\n",
      "Epoch 47/50\n",
      "32/32 [==============================] - 1s 44ms/step - loss: 0.5901 - accuracy: 0.7666 - val_loss: 0.5836 - val_accuracy: 0.7465\n",
      "Epoch 48/50\n",
      "32/32 [==============================] - 1s 43ms/step - loss: 0.6267 - accuracy: 0.7363 - val_loss: 0.5421 - val_accuracy: 0.7824\n",
      "Epoch 49/50\n",
      "32/32 [==============================] - 2s 47ms/step - loss: 0.5631 - accuracy: 0.7783 - val_loss: 0.7001 - val_accuracy: 0.7745\n",
      "Epoch 50/50\n",
      "32/32 [==============================] - 1s 43ms/step - loss: 0.5818 - accuracy: 0.7666 - val_loss: 0.6320 - val_accuracy: 0.7745\n"
     ]
    }
   ],
   "source": [
    "#Defining hyperparameters\n",
    "batch_Size = 32\n",
    "steps_Per_Epoch = 32\n",
    "numEpochs = 50\n",
    "\n",
    "#Instantating VGG19 model\n",
    "model = VGG19((224,224,3),classes=3) #VGG19_dense for revised VGG19, VGG19 for VGG19. Please pay attention to VGG16(), chnage the input shape and class number in VGG.py.\n",
    "\n",
    "#Creating an optimizers\n",
    "adaDelta = keras.optimizers.Adadelta(lr=1.0, rho=0.95)\n",
    "sgd = SGD(lr=0.01, decay=1e-6, momentum=0.95, nesterov=True)\n",
    "model.compile(optimizer = sgd , loss = 'categorical_crossentropy', metrics = ['accuracy'])\n",
    "\n",
    "#Creating early stopping \n",
    "earlystop = EarlyStopping(monitor = 'val_accuracy', min_delta = 0, patience = 50, verbose = 1, mode = 'auto', restore_best_weights = True)       \n",
    "\n",
    "train_generator = datagen.flow(x_train, y_train, batch_size = batch_Size)\n",
    "validation_generator = datagen.flow(x_valid, y_valid, batch_size = batch_Size)\n",
    "\n",
    "# Model training\n",
    "history = model.fit_generator(\n",
    "    train_generator,\n",
    "    steps_per_epoch = steps_Per_Epoch,\n",
    "    validation_data = validation_generator, \n",
    "    validation_steps = 16,\n",
    "    epochs = numEpochs,\n",
    "    shuffle = True, \n",
    "    verbose = 1)"
   ]
  },
  {
   "cell_type": "code",
   "execution_count": 12,
   "metadata": {},
   "outputs": [],
   "source": [
    "modelPath = \"VGG19_COVID19.h5\"\n",
    "resultPath = 'VGG19_COVID19.txt'"
   ]
  },
  {
   "cell_type": "code",
   "execution_count": 13,
   "metadata": {},
   "outputs": [
    {
     "name": "stdout",
     "output_type": "stream",
     "text": [
      "Epoch     0 | LossA: 1.09(+0.00%) \u001b[0m\t| LossAB: 1.03(+0.00%) \u001b[0m\t\n",
      "Epoch     1 | LossA: \u001b[32m1.02(-5.89%) ▼\u001b[0m\t| LossAB: \u001b[91m1.06(+2.38%) ▲\u001b[0m\t\n",
      "Epoch     2 | LossA: \u001b[32m0.95(-7.07%) ▼\u001b[0m\t| LossAB: \u001b[32m0.93(-11.86%) ▼\u001b[0m\t\n",
      "Epoch     3 | LossA: \u001b[91m0.97(+2.01%) ▲\u001b[0m\t| LossAB: \u001b[91m1.08(+16.07%) ▲\u001b[0m\t\n",
      "Epoch     4 | LossA: \u001b[32m0.93(-4.13%) ▼\u001b[0m\t| LossAB: \u001b[32m0.81(-24.77%) ▼\u001b[0m\t\n",
      "Epoch     5 | LossA: \u001b[32m0.89(-3.72%) ▼\u001b[0m\t| LossAB: \u001b[91m0.95(+17.29%) ▲\u001b[0m\t\n",
      "Epoch     6 | LossA: \u001b[32m0.86(-3.78%) ▼\u001b[0m\t| LossAB: \u001b[32m0.78(-17.99%) ▼\u001b[0m\t\n",
      "Epoch     7 | LossA: \u001b[32m0.82(-4.28%) ▼\u001b[0m\t| LossAB: \u001b[91m1.09(+39.85%) ▲\u001b[0m\t\n",
      "Epoch     8 | LossA: \u001b[91m0.84(+2.48%) ▲\u001b[0m\t| LossAB: \u001b[91m1.21(+10.86%) ▲\u001b[0m\t\n",
      "Epoch     9 | LossA: \u001b[32m0.76(-9.75%) ▼\u001b[0m\t| LossAB: \u001b[32m0.63(-48.36%) ▼\u001b[0m\t\n",
      "Epoch    10 | LossA: \u001b[32m0.73(-3.83%) ▼\u001b[0m\t| LossAB: \u001b[91m1.02(+62.51%) ▲\u001b[0m\t\n",
      "Epoch    11 | LossA: \u001b[91m0.74(+0.35%) ▲\u001b[0m\t| LossAB: \u001b[32m0.62(-39.05%) ▼\u001b[0m\t\n",
      "Epoch    12 | LossA: \u001b[32m0.73(-0.86%) ▼\u001b[0m\t| LossAB: \u001b[32m0.60(-2.61%) ▼\u001b[0m\t\n",
      "Epoch    13 | LossA: \u001b[32m0.68(-7.34%) ▼\u001b[0m\t| LossAB: \u001b[91m0.86(+42.10%) ▲\u001b[0m\t\n",
      "Epoch    14 | LossA: \u001b[91m0.68(+1.25%) ▲\u001b[0m\t| LossAB: \u001b[32m0.73(-14.71%) ▼\u001b[0m\t\n",
      "Epoch    15 | LossA: \u001b[32m0.65(-5.64%) ▼\u001b[0m\t| LossAB: \u001b[32m0.67(-7.87%) ▼\u001b[0m\t\n",
      "Epoch    16 | LossA: \u001b[91m0.73(+13.72%) ▲\u001b[0m\t| LossAB: \u001b[91m0.68(+1.10%) ▲\u001b[0m\t\n",
      "Epoch    17 | LossA: \u001b[32m0.70(-4.89%) ▼\u001b[0m\t| LossAB: \u001b[91m0.70(+2.57%) ▲\u001b[0m\t\n",
      "Epoch    18 | LossA: \u001b[32m0.68(-2.31%) ▼\u001b[0m\t| LossAB: \u001b[32m0.66(-5.32%) ▼\u001b[0m\t\n",
      "Epoch    19 | LossA: \u001b[32m0.66(-3.40%) ▼\u001b[0m\t| LossAB: \u001b[32m0.55(-16.31%) ▼\u001b[0m\t\n",
      "Epoch    20 | LossA: \u001b[91m0.72(+9.53%) ▲\u001b[0m\t| LossAB: \u001b[32m0.37(-32.45%) ▼\u001b[0m\t\n",
      "Epoch    21 | LossA: \u001b[32m0.65(-9.64%) ▼\u001b[0m\t| LossAB: \u001b[91m0.70(+86.69%) ▲\u001b[0m\t\n",
      "Epoch    22 | LossA: \u001b[91m0.67(+2.96%) ▲\u001b[0m\t| LossAB: \u001b[32m0.46(-34.40%) ▼\u001b[0m\t\n",
      "Epoch    23 | LossA: \u001b[32m0.67(-0.65%) ▼\u001b[0m\t| LossAB: \u001b[91m0.55(+20.12%) ▲\u001b[0m\t\n",
      "Epoch    24 | LossA: \u001b[32m0.58(-13.40%) ▼\u001b[0m\t| LossAB: \u001b[32m0.44(-19.66%) ▼\u001b[0m\t\n",
      "Epoch    25 | LossA: \u001b[91m0.61(+6.24%) ▲\u001b[0m\t| LossAB: \u001b[91m0.62(+39.49%) ▲\u001b[0m\t\n",
      "Epoch    26 | LossA: \u001b[32m0.61(-0.95%) ▼\u001b[0m\t| LossAB: \u001b[32m0.57(-8.03%) ▼\u001b[0m\t\n",
      "Epoch    27 | LossA: \u001b[32m0.58(-4.64%) ▼\u001b[0m\t| LossAB: \u001b[32m0.44(-22.42%) ▼\u001b[0m\t\n",
      "Epoch    28 | LossA: \u001b[91m0.62(+6.52%) ▲\u001b[0m\t| LossAB: \u001b[91m0.53(+21.21%) ▲\u001b[0m\t\n",
      "Epoch    29 | LossA: \u001b[91m0.66(+6.66%) ▲\u001b[0m\t| LossAB: \u001b[91m0.80(+50.53%) ▲\u001b[0m\t\n",
      "Epoch    30 | LossA: \u001b[91m0.67(+2.16%) ▲\u001b[0m\t| LossAB: \u001b[32m0.77(-3.66%) ▼\u001b[0m\t\n",
      "Epoch    31 | LossA: \u001b[32m0.61(-9.87%) ▼\u001b[0m\t| LossAB: \u001b[32m0.33(-57.43%) ▼\u001b[0m\t\n",
      "Epoch    32 | LossA: \u001b[91m0.63(+3.67%) ▲\u001b[0m\t| LossAB: \u001b[91m0.49(+47.43%) ▲\u001b[0m\t\n",
      "Epoch    33 | LossA: \u001b[32m0.54(-13.54%) ▼\u001b[0m\t| LossAB: \u001b[32m0.35(-28.70%) ▼\u001b[0m\t\n",
      "Epoch    34 | LossA: \u001b[91m0.58(+6.03%) ▲\u001b[0m\t| LossAB: \u001b[91m0.49(+40.29%) ▲\u001b[0m\t\n",
      "Epoch    35 | LossA: \u001b[91m0.61(+5.70%) ▲\u001b[0m\t| LossAB: \u001b[32m0.46(-5.88%) ▼\u001b[0m\t\n",
      "Epoch    36 | LossA: \u001b[91m0.62(+1.61%) ▲\u001b[0m\t| LossAB: \u001b[91m0.53(+16.01%) ▲\u001b[0m\t\n",
      "Epoch    37 | LossA: \u001b[32m0.60(-2.81%) ▼\u001b[0m\t| LossAB: \u001b[32m0.37(-29.85%) ▼\u001b[0m\t\n",
      "Epoch    38 | LossA: \u001b[91m0.61(+1.25%) ▲\u001b[0m\t| LossAB: \u001b[91m0.52(+39.33%) ▲\u001b[0m\t\n",
      "Epoch    39 | LossA: \u001b[32m0.59(-2.72%) ▼\u001b[0m\t| LossAB: \u001b[32m0.41(-20.99%) ▼\u001b[0m\t\n",
      "Epoch    40 | LossA: \u001b[32m0.55(-7.52%) ▼\u001b[0m\t| LossAB: \u001b[91m0.53(+29.37%) ▲\u001b[0m\t\n",
      "Epoch    41 | LossA: \u001b[91m0.58(+5.96%) ▲\u001b[0m\t| LossAB: \u001b[32m0.45(-14.34%) ▼\u001b[0m\t\n",
      "Epoch    42 | LossA: \u001b[91m0.59(+0.81%) ▲\u001b[0m\t| LossAB: \u001b[32m0.45(-1.15%) ▼\u001b[0m\t\n",
      "Epoch    43 | LossA: \u001b[91m0.59(+0.55%) ▲\u001b[0m\t| LossAB: \u001b[91m0.49(+9.62%) ▲\u001b[0m\t\n",
      "Epoch    44 | LossA: \u001b[91m0.64(+8.25%) ▲\u001b[0m\t| LossAB: \u001b[91m0.80(+63.40%) ▲\u001b[0m\t\n",
      "Epoch    45 | LossA: \u001b[91m0.64(+0.09%) ▲\u001b[0m\t| LossAB: \u001b[32m0.68(-15.34%) ▼\u001b[0m\t\n",
      "Epoch    46 | LossA: \u001b[32m0.59(-7.44%) ▼\u001b[0m\t| LossAB: \u001b[32m0.58(-14.13%) ▼\u001b[0m\t\n",
      "Epoch    47 | LossA: \u001b[91m0.63(+6.19%) ▲\u001b[0m\t| LossAB: \u001b[32m0.54(-7.10%) ▼\u001b[0m\t\n",
      "Epoch    48 | LossA: \u001b[32m0.56(-10.15%) ▼\u001b[0m\t| LossAB: \u001b[91m0.70(+29.13%) ▲\u001b[0m\t\n",
      "300/300 [==============================] - 0s 1ms/step\n",
      "Accuracy: 0.7666666507720947\n"
     ]
    }
   ],
   "source": [
    "y_test_oh = dense_to_one_hot(y_test, num_clases=3)\n",
    "\n",
    "# visualizing losses and accuracy\n",
    "train_loss = history.history['loss']\n",
    "val_loss = history.history['val_loss']\n",
    "\n",
    "#Observing the losses but can be commented out as it's not mandatory \n",
    "reporter = lossprettifier.LossPrettifier(show_percentage=True)\n",
    "\n",
    "for i in range(numEpochs-1):\n",
    "    reporter(epoch=i, LossA = train_loss[i], LossAB = val_loss[i])\n",
    "\n",
    "# Model evaluation \n",
    "score, acc = model.evaluate(x_test, y_test_oh, batch_size=batch_Size)\n",
    "print(\"Accuracy:\", acc)\n",
    "\n",
    "#if acc>0.675:\n",
    "model.save_weights(modelPath)"
   ]
  },
  {
   "cell_type": "code",
   "execution_count": 14,
   "metadata": {},
   "outputs": [
    {
     "name": "stdout",
     "output_type": "stream",
     "text": [
      "              precision    recall  f1-score   support\n",
      "\n",
      "           0       0.81      0.79      0.80       100\n",
      "           1       0.75      0.74      0.74       100\n",
      "           2       0.74      0.77      0.75       100\n",
      "\n",
      "    accuracy                           0.77       300\n",
      "   macro avg       0.77      0.77      0.77       300\n",
      "weighted avg       0.77      0.77      0.77       300\n",
      "\n"
     ]
    }
   ],
   "source": [
    "y_pred = model.predict(x_test)\n",
    "y_pred = y_pred.reshape(len(y_test), 3)\n",
    "y_pred = np.argmax(y_pred, axis=1)\n",
    "\n",
    "# Writing results on file\n",
    "f = open(resultPath,'a') #create classification report\n",
    "f.write(classification_report(y_test, y_pred))\n",
    "f.write(str(sklm.cohen_kappa_score(y_test, y_pred))+\",\"+str(acc)+\",\"+str(score)+\"\\n\")\n",
    "\n",
    "#Print class-wise classification metrics\n",
    "print(classification_report(y_test, y_pred))"
   ]
  },
  {
   "cell_type": "code",
   "execution_count": 15,
   "metadata": {},
   "outputs": [
    {
     "data": {
      "image/png": "[encoded data removed]",
      "text/plain": [
       "<Figure size 432x288 with 2 Axes>"
      ]
     },
     "metadata": {
      "needs_background": "light"
     },
     "output_type": "display_data"
    }
   ],
   "source": [
    "from sklearn.metrics import confusion_matrix, ConfusionMatrixDisplay\n",
    "cm = confusion_matrix(y_test, y_pred)\n",
    "disp = ConfusionMatrixDisplay(confusion_matrix=cm, display_labels=np.array(['normal', 'COVID19', 'pneumonia']))\n",
    "disp.plot(cmap='Blues') \n",
    "disp.ax_.get_images()[0].set_clim(0, 100)"
   ]
  },
  {
   "cell_type": "code",
   "execution_count": 16,
   "metadata": {},
   "outputs": [],
   "source": [
    "f.close()"
   ]
  }
 ],
 "metadata": {
  "kernelspec": {
   "display_name": "wbvenv36",
   "language": "python",
   "name": "wbvenv36"
  },
  "language_info": {
   "codemirror_mode": {
    "name": "ipython",
    "version": 3
   },
   "file_extension": ".py",
   "mimetype": "text/x-python",
   "name": "python",
   "nbconvert_exporter": "python",
   "pygments_lexer": "ipython3",
   "version": "3.6.12"
  }
 },
 "nbformat": 4,
 "nbformat_minor": 2
}

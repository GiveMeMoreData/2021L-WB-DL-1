{
 "cells": [
  {
   "cell_type": "code",
   "execution_count": 1,
   "metadata": {},
   "outputs": [],
   "source": [
    "import cv2\n",
    "import numpy as np\n",
    "import matplotlib.pyplot as plt\n",
    "import os"
   ]
  },
  {
   "cell_type": "code",
   "execution_count": 2,
   "metadata": {},
   "outputs": [
    {
     "name": "stderr",
     "output_type": "stream",
     "text": [
      "Using TensorFlow backend.\n",
      "C:\\Users\\Aleksander Podsiad\\.conda\\envs\\WB_env\\lib\\site-packages\\tensorflow\\python\\framework\\dtypes.py:516: FutureWarning: Passing (type, 1) or '1type' as a synonym of type is deprecated; in a future version of numpy, it will be understood as (type, (1,)) / '(1,)type'.\n",
      "  _np_qint8 = np.dtype([(\"qint8\", np.int8, 1)])\n",
      "C:\\Users\\Aleksander Podsiad\\.conda\\envs\\WB_env\\lib\\site-packages\\tensorflow\\python\\framework\\dtypes.py:517: FutureWarning: Passing (type, 1) or '1type' as a synonym of type is deprecated; in a future version of numpy, it will be understood as (type, (1,)) / '(1,)type'.\n",
      "  _np_quint8 = np.dtype([(\"quint8\", np.uint8, 1)])\n",
      "C:\\Users\\Aleksander Podsiad\\.conda\\envs\\WB_env\\lib\\site-packages\\tensorflow\\python\\framework\\dtypes.py:518: FutureWarning: Passing (type, 1) or '1type' as a synonym of type is deprecated; in a future version of numpy, it will be understood as (type, (1,)) / '(1,)type'.\n",
      "  _np_qint16 = np.dtype([(\"qint16\", np.int16, 1)])\n",
      "C:\\Users\\Aleksander Podsiad\\.conda\\envs\\WB_env\\lib\\site-packages\\tensorflow\\python\\framework\\dtypes.py:519: FutureWarning: Passing (type, 1) or '1type' as a synonym of type is deprecated; in a future version of numpy, it will be understood as (type, (1,)) / '(1,)type'.\n",
      "  _np_quint16 = np.dtype([(\"quint16\", np.uint16, 1)])\n",
      "C:\\Users\\Aleksander Podsiad\\.conda\\envs\\WB_env\\lib\\site-packages\\tensorflow\\python\\framework\\dtypes.py:520: FutureWarning: Passing (type, 1) or '1type' as a synonym of type is deprecated; in a future version of numpy, it will be understood as (type, (1,)) / '(1,)type'.\n",
      "  _np_qint32 = np.dtype([(\"qint32\", np.int32, 1)])\n",
      "C:\\Users\\Aleksander Podsiad\\.conda\\envs\\WB_env\\lib\\site-packages\\tensorflow\\python\\framework\\dtypes.py:525: FutureWarning: Passing (type, 1) or '1type' as a synonym of type is deprecated; in a future version of numpy, it will be understood as (type, (1,)) / '(1,)type'.\n",
      "  np_resource = np.dtype([(\"resource\", np.ubyte, 1)])\n",
      "C:\\Users\\Aleksander Podsiad\\.conda\\envs\\WB_env\\lib\\site-packages\\tensorboard\\compat\\tensorflow_stub\\dtypes.py:541: FutureWarning: Passing (type, 1) or '1type' as a synonym of type is deprecated; in a future version of numpy, it will be understood as (type, (1,)) / '(1,)type'.\n",
      "  _np_qint8 = np.dtype([(\"qint8\", np.int8, 1)])\n",
      "C:\\Users\\Aleksander Podsiad\\.conda\\envs\\WB_env\\lib\\site-packages\\tensorboard\\compat\\tensorflow_stub\\dtypes.py:542: FutureWarning: Passing (type, 1) or '1type' as a synonym of type is deprecated; in a future version of numpy, it will be understood as (type, (1,)) / '(1,)type'.\n",
      "  _np_quint8 = np.dtype([(\"quint8\", np.uint8, 1)])\n",
      "C:\\Users\\Aleksander Podsiad\\.conda\\envs\\WB_env\\lib\\site-packages\\tensorboard\\compat\\tensorflow_stub\\dtypes.py:543: FutureWarning: Passing (type, 1) or '1type' as a synonym of type is deprecated; in a future version of numpy, it will be understood as (type, (1,)) / '(1,)type'.\n",
      "  _np_qint16 = np.dtype([(\"qint16\", np.int16, 1)])\n",
      "C:\\Users\\Aleksander Podsiad\\.conda\\envs\\WB_env\\lib\\site-packages\\tensorboard\\compat\\tensorflow_stub\\dtypes.py:544: FutureWarning: Passing (type, 1) or '1type' as a synonym of type is deprecated; in a future version of numpy, it will be understood as (type, (1,)) / '(1,)type'.\n",
      "  _np_quint16 = np.dtype([(\"quint16\", np.uint16, 1)])\n",
      "C:\\Users\\Aleksander Podsiad\\.conda\\envs\\WB_env\\lib\\site-packages\\tensorboard\\compat\\tensorflow_stub\\dtypes.py:545: FutureWarning: Passing (type, 1) or '1type' as a synonym of type is deprecated; in a future version of numpy, it will be understood as (type, (1,)) / '(1,)type'.\n",
      "  _np_qint32 = np.dtype([(\"qint32\", np.int32, 1)])\n",
      "C:\\Users\\Aleksander Podsiad\\.conda\\envs\\WB_env\\lib\\site-packages\\tensorboard\\compat\\tensorflow_stub\\dtypes.py:550: FutureWarning: Passing (type, 1) or '1type' as a synonym of type is deprecated; in a future version of numpy, it will be understood as (type, (1,)) / '(1,)type'.\n",
      "  np_resource = np.dtype([(\"resource\", np.ubyte, 1)])\n"
     ]
    }
   ],
   "source": [
    "import sys\n",
    "sys.path.insert(0,'..')\n",
    "from utils import lossprettifier\n",
    "from Classifier.VGG import *"
   ]
  },
  {
   "cell_type": "code",
   "execution_count": 3,
   "metadata": {},
   "outputs": [],
   "source": [
    "x_train = np.load('data1/x_train.npy')\n",
    "y_train = np.load('data1/y_train.npy')\n",
    "x_test = np.load('data1/x_test.npy')\n",
    "y_test = np.load('data1/y_test.npy')"
   ]
  },
  {
   "cell_type": "code",
   "execution_count": 4,
   "metadata": {},
   "outputs": [
    {
     "name": "stdout",
     "output_type": "stream",
     "text": [
      "(3000, 224, 224, 3)\n",
      "(300, 224, 224, 3)\n"
     ]
    }
   ],
   "source": [
    "print(x_train.shape)\n",
    "print(x_test.shape)"
   ]
  },
  {
   "cell_type": "code",
   "execution_count": 5,
   "metadata": {},
   "outputs": [
    {
     "name": "stdout",
     "output_type": "stream",
     "text": [
      "(3000,)\n",
      "(300,)\n"
     ]
    }
   ],
   "source": [
    "print(y_train.shape)\n",
    "print(y_test.shape)"
   ]
  },
  {
   "cell_type": "code",
   "execution_count": 6,
   "metadata": {},
   "outputs": [],
   "source": [
    "#x_train /= 255????"
   ]
  },
  {
   "cell_type": "code",
   "execution_count": 7,
   "metadata": {},
   "outputs": [],
   "source": [
    "from __future__ import print_function\n",
    "\n",
    "import numpy as np\n",
    "from random import shuffle\n",
    "import time\n",
    "import csv\n",
    "from PIL import Image\n",
    "import os\n",
    "import tensorflow as tf\n",
    "import keras\n",
    "from keras.callbacks import EarlyStopping, LearningRateScheduler\n",
    "from keras import initializers\n",
    "from keras.optimizers import SGD\n",
    "from keras.preprocessing import sequence\n",
    "from keras.utils import np_utils\n",
    "from keras.models import Sequential,load_model,Model\n",
    "from keras.layers import Dense, Dropout, Activation, Flatten\n",
    "from keras.layers import *\n",
    "from keras.callbacks import CSVLogger\n",
    "from keras import callbacks\n",
    "from keras.preprocessing.image import ImageDataGenerator\n",
    "\n",
    "from sklearn.metrics import classification_report\n",
    "from sklearn.model_selection import train_test_split\n",
    "import sklearn.metrics as sklm\n",
    "#import lossprettifier\n",
    "#from VGG import *"
   ]
  },
  {
   "cell_type": "code",
   "execution_count": 8,
   "metadata": {},
   "outputs": [],
   "source": [
    "# for reproducibility\n",
    "np.random.seed(3768)\n",
    "\n",
    "# use this environment flag to change which GPU to use \n",
    "os.environ[\"CUDA_DEVICE_ORDER\"]=\"PCI_BUS_ID\"\n",
    "os.environ[\"CUDA_VISIBLE_DEVICES\"]=\"0\"  # specify which GPU(s) to be used\n",
    "\n",
    "#Get TensorFlow session\n",
    "def get_session(): \n",
    "  config = tf.ConfigProto() \n",
    "  config.gpu_options.allow_growth = True \n",
    "  return tf.Session(config=config) \n",
    "  \n",
    "# One hot encoding of labels \n",
    "def dense_to_one_hot(labels_dense,num_clases=3):\n",
    "  return np.eye(num_clases)[labels_dense]"
   ]
  },
  {
   "cell_type": "code",
   "execution_count": 9,
   "metadata": {},
   "outputs": [],
   "source": [
    "# Preparing training and test sets\n",
    "x_train, x_valid, y_train, y_valid = train_test_split(x_train, y_train, test_size=0.10, random_state=42)"
   ]
  },
  {
   "cell_type": "code",
   "execution_count": 10,
   "metadata": {},
   "outputs": [],
   "source": [
    "y_train = dense_to_one_hot(y_train,num_clases=3)\n",
    "y_valid= dense_to_one_hot(y_valid,num_clases=3)"
   ]
  },
  {
   "cell_type": "code",
   "execution_count": 11,
   "metadata": {
    "scrolled": true
   },
   "outputs": [
    {
     "name": "stderr",
     "output_type": "stream",
     "text": [
      "C:\\Users\\Aleksander Podsiad\\.conda\\envs\\WB_env\\lib\\site-packages\\keras_preprocessing\\image\\image_data_generator.py:349: UserWarning: This ImageDataGenerator specifies `featurewise_std_normalization`, which overrides setting of `featurewise_center`.\n",
      "  warnings.warn('This ImageDataGenerator specifies '\n"
     ]
    }
   ],
   "source": [
    "#Image data generation for the training \n",
    "datagen = ImageDataGenerator(\n",
    "               featurewise_center = False, \n",
    "               samplewise_center = False,  # set each sample mean to 0\n",
    "               featurewise_std_normalization = True,  \n",
    "               samplewise_std_normalization = False)  \n",
    "\n",
    "datagen.fit(x_train) \n",
    "for i in range(len(x_test)):\n",
    "      x_test[i] = datagen.standardize(x_test[i])"
   ]
  },
  {
   "cell_type": "markdown",
   "metadata": {},
   "source": [
    "Ze zmianą nr 1 - filtry w ostaniej warstwie na 32"
   ]
  },
  {
   "cell_type": "code",
   "execution_count": 12,
   "metadata": {},
   "outputs": [
    {
     "name": "stdout",
     "output_type": "stream",
     "text": [
      "WARNING:tensorflow:From C:\\Users\\Aleksander Podsiad\\.conda\\envs\\WB_env\\lib\\site-packages\\keras\\backend\\tensorflow_backend.py:74: The name tf.get_default_graph is deprecated. Please use tf.compat.v1.get_default_graph instead.\n",
      "\n",
      "WARNING:tensorflow:From C:\\Users\\Aleksander Podsiad\\.conda\\envs\\WB_env\\lib\\site-packages\\keras\\backend\\tensorflow_backend.py:517: The name tf.placeholder is deprecated. Please use tf.compat.v1.placeholder instead.\n",
      "\n",
      "WARNING:tensorflow:From C:\\Users\\Aleksander Podsiad\\.conda\\envs\\WB_env\\lib\\site-packages\\keras\\backend\\tensorflow_backend.py:4185: The name tf.truncated_normal is deprecated. Please use tf.random.truncated_normal instead.\n",
      "\n",
      "WARNING:tensorflow:From C:\\Users\\Aleksander Podsiad\\.conda\\envs\\WB_env\\lib\\site-packages\\keras\\backend\\tensorflow_backend.py:3976: The name tf.nn.max_pool is deprecated. Please use tf.nn.max_pool2d instead.\n",
      "\n",
      "WARNING:tensorflow:From C:\\Users\\Aleksander Podsiad\\.conda\\envs\\WB_env\\lib\\site-packages\\keras\\backend\\tensorflow_backend.py:4138: The name tf.random_uniform is deprecated. Please use tf.random.uniform instead.\n",
      "\n",
      "WARNING:tensorflow:From C:\\Users\\Aleksander Podsiad\\.conda\\envs\\WB_env\\lib\\site-packages\\keras\\backend\\tensorflow_backend.py:133: The name tf.placeholder_with_default is deprecated. Please use tf.compat.v1.placeholder_with_default instead.\n",
      "\n",
      "WARNING:tensorflow:From C:\\Users\\Aleksander Podsiad\\.conda\\envs\\WB_env\\lib\\site-packages\\keras\\backend\\tensorflow_backend.py:3445: calling dropout (from tensorflow.python.ops.nn_ops) with keep_prob is deprecated and will be removed in a future version.\n",
      "Instructions for updating:\n",
      "Please use `rate` instead of `keep_prob`. Rate should be set to `rate = 1 - keep_prob`.\n",
      "WARNING:tensorflow:From C:\\Users\\Aleksander Podsiad\\.conda\\envs\\WB_env\\lib\\site-packages\\keras\\optimizers.py:790: The name tf.train.Optimizer is deprecated. Please use tf.compat.v1.train.Optimizer instead.\n",
      "\n",
      "WARNING:tensorflow:From C:\\Users\\Aleksander Podsiad\\.conda\\envs\\WB_env\\lib\\site-packages\\tensorflow\\python\\ops\\math_grad.py:1250: add_dispatch_support.<locals>.wrapper (from tensorflow.python.ops.array_ops) is deprecated and will be removed in a future version.\n",
      "Instructions for updating:\n",
      "Use tf.where in 2.0, which has the same broadcast rule as np.where\n",
      "Epoch 1/34\n",
      "32/32 [==============================] - 31s 962ms/step - loss: 1.0725 - acc: 0.3975 - val_loss: 0.9290 - val_acc: 0.6626\n",
      "Epoch 2/34\n",
      "32/32 [==============================] - 1s 41ms/step - loss: 0.9494 - acc: 0.5742 - val_loss: 0.8516 - val_acc: 0.6674\n",
      "Epoch 3/34\n",
      "32/32 [==============================] - 1s 44ms/step - loss: 0.8571 - acc: 0.6282 - val_loss: 0.8243 - val_acc: 0.6463\n",
      "Epoch 4/34\n",
      "32/32 [==============================] - 1s 41ms/step - loss: 0.8497 - acc: 0.6357 - val_loss: 0.7385 - val_acc: 0.6864\n",
      "Epoch 5/34\n",
      "32/32 [==============================] - 1s 41ms/step - loss: 0.8623 - acc: 0.6230 - val_loss: 0.8007 - val_acc: 0.6674\n",
      "Epoch 6/34\n",
      "32/32 [==============================] - 1s 41ms/step - loss: 0.7939 - acc: 0.6640 - val_loss: 0.6869 - val_acc: 0.7236\n",
      "Epoch 7/34\n",
      "32/32 [==============================] - 1s 42ms/step - loss: 0.7615 - acc: 0.6797 - val_loss: 0.7558 - val_acc: 0.6949\n",
      "Epoch 8/34\n",
      "32/32 [==============================] - 1s 41ms/step - loss: 0.7629 - acc: 0.6754 - val_loss: 0.7394 - val_acc: 0.6870\n",
      "Epoch 9/34\n",
      "32/32 [==============================] - 1s 42ms/step - loss: 0.7526 - acc: 0.6895 - val_loss: 0.6833 - val_acc: 0.7352\n",
      "Epoch 10/34\n",
      "32/32 [==============================] - 1s 42ms/step - loss: 0.6979 - acc: 0.7295 - val_loss: 0.6913 - val_acc: 0.7119\n",
      "Epoch 11/34\n",
      "32/32 [==============================] - 1s 41ms/step - loss: 0.7649 - acc: 0.6642 - val_loss: 0.6926 - val_acc: 0.7358\n",
      "Epoch 12/34\n",
      "32/32 [==============================] - 1s 42ms/step - loss: 0.6717 - acc: 0.7383 - val_loss: 0.6444 - val_acc: 0.7458\n",
      "Epoch 13/34\n",
      "32/32 [==============================] - 1s 42ms/step - loss: 0.6472 - acc: 0.7412 - val_loss: 0.6037 - val_acc: 0.7398\n",
      "Epoch 14/34\n",
      "32/32 [==============================] - 1s 41ms/step - loss: 0.6152 - acc: 0.7600 - val_loss: 0.6315 - val_acc: 0.7436\n",
      "Epoch 15/34\n",
      "32/32 [==============================] - 1s 42ms/step - loss: 0.6489 - acc: 0.7393 - val_loss: 0.6603 - val_acc: 0.7394\n",
      "Epoch 16/34\n",
      "32/32 [==============================] - 1s 41ms/step - loss: 0.6750 - acc: 0.7308 - val_loss: 0.6327 - val_acc: 0.7378\n",
      "Epoch 17/34\n",
      "32/32 [==============================] - 1s 42ms/step - loss: 0.6118 - acc: 0.7686 - val_loss: 0.6090 - val_acc: 0.7881\n",
      "Epoch 18/34\n",
      "32/32 [==============================] - 1s 42ms/step - loss: 0.6459 - acc: 0.7451 - val_loss: 0.6452 - val_acc: 0.7337\n",
      "Epoch 19/34\n",
      "32/32 [==============================] - 1s 41ms/step - loss: 0.5917 - acc: 0.7729 - val_loss: 0.6162 - val_acc: 0.7479\n",
      "Epoch 20/34\n",
      "32/32 [==============================] - 1s 42ms/step - loss: 0.5960 - acc: 0.7734 - val_loss: 0.5547 - val_acc: 0.7669\n",
      "Epoch 21/34\n",
      "32/32 [==============================] - 1s 42ms/step - loss: 0.5908 - acc: 0.7715 - val_loss: 0.5402 - val_acc: 0.7846\n",
      "Epoch 22/34\n",
      "32/32 [==============================] - 1s 41ms/step - loss: 0.5725 - acc: 0.7874 - val_loss: 0.6082 - val_acc: 0.7436\n",
      "Epoch 23/34\n",
      "32/32 [==============================] - 1s 42ms/step - loss: 0.5813 - acc: 0.7744 - val_loss: 0.6264 - val_acc: 0.7419\n",
      "Epoch 24/34\n",
      "32/32 [==============================] - 1s 41ms/step - loss: 0.5780 - acc: 0.7741 - val_loss: 0.5914 - val_acc: 0.7585\n",
      "Epoch 25/34\n",
      "32/32 [==============================] - 1s 42ms/step - loss: 0.5522 - acc: 0.7920 - val_loss: 0.5736 - val_acc: 0.8051\n",
      "Epoch 26/34\n",
      "32/32 [==============================] - 1s 42ms/step - loss: 0.5511 - acc: 0.7773 - val_loss: 0.4998 - val_acc: 0.7866\n",
      "Epoch 27/34\n",
      "32/32 [==============================] - 1s 41ms/step - loss: 0.5435 - acc: 0.7940 - val_loss: 0.6029 - val_acc: 0.7564\n",
      "Epoch 28/34\n",
      "32/32 [==============================] - 1s 42ms/step - loss: 0.5204 - acc: 0.7969 - val_loss: 0.5610 - val_acc: 0.8069\n",
      "Epoch 29/34\n",
      "32/32 [==============================] - 1s 42ms/step - loss: 0.5345 - acc: 0.8018 - val_loss: 0.5121 - val_acc: 0.7839\n",
      "Epoch 30/34\n",
      "32/32 [==============================] - 1s 41ms/step - loss: 0.6018 - acc: 0.7565 - val_loss: 0.5880 - val_acc: 0.7521\n",
      "Epoch 31/34\n",
      "32/32 [==============================] - 1s 43ms/step - loss: 0.5684 - acc: 0.7803 - val_loss: 0.6238 - val_acc: 0.7724\n",
      "Epoch 32/34\n",
      "32/32 [==============================] - 1s 41ms/step - loss: 0.5426 - acc: 0.8010 - val_loss: 0.4865 - val_acc: 0.8178\n",
      "Epoch 33/34\n",
      "32/32 [==============================] - 1s 42ms/step - loss: 0.5278 - acc: 0.7881 - val_loss: 0.5724 - val_acc: 0.7866\n",
      "Epoch 34/34\n",
      "32/32 [==============================] - 1s 41ms/step - loss: 0.5739 - acc: 0.7803 - val_loss: 0.6110 - val_acc: 0.7373\n"
     ]
    }
   ],
   "source": [
    "#Defining hyperparameters\n",
    "batch_Size = 32\n",
    "steps_Per_Epoch = 32\n",
    "numEpochs = 34\n",
    "\n",
    "#Instantating VGG19 model\n",
    "model = VGG19((224,224,3),3) #VGG19_dense for revised VGG19, VGG19 for VGG19. Please pay attention to VGG16(), chnage the input shape and class number in VGG.py.\n",
    "\n",
    "#Creating an optimizers\n",
    "adaDelta = keras.optimizers.Adadelta(lr=1.0, rho=0.95)\n",
    "sgd = SGD(lr=0.01, decay=1e-6, momentum=0.95, nesterov=True)\n",
    "model.compile(optimizer = sgd , loss = 'categorical_crossentropy', metrics = ['accuracy'])\n",
    "\n",
    "#Creating early stopping \n",
    "earlystop = EarlyStopping(monitor = 'val_accuracy', min_delta = 0, patience = 50, verbose = 1, mode = 'auto', restore_best_weights = True)       \n",
    "\n",
    "train_generator = datagen.flow(x_train, y_train, batch_size = batch_Size)\n",
    "validation_generator = datagen.flow(x_valid, y_valid, batch_size = batch_Size)\n",
    "\n",
    "# Model training\n",
    "history = model.fit_generator(\n",
    "    train_generator,\n",
    "    steps_per_epoch = steps_Per_Epoch,\n",
    "    validation_data = validation_generator, \n",
    "    validation_steps = 16,\n",
    "    epochs = numEpochs,\n",
    "    shuffle = True, \n",
    "    verbose = 1)"
   ]
  },
  {
   "cell_type": "code",
   "execution_count": 13,
   "metadata": {},
   "outputs": [],
   "source": [
    "modelPath = \"VGG19_COVID19.h5\"\n",
    "resultPath = 'VGG19_COVID19.txt'"
   ]
  },
  {
   "cell_type": "code",
   "execution_count": 14,
   "metadata": {},
   "outputs": [
    {
     "name": "stdout",
     "output_type": "stream",
     "text": [
      "Epoch     0 | LossA: 1.07(+0.00%) \u001b[0m\t| LossAB: 0.93(+0.00%) \u001b[0m\t\n",
      "Epoch     1 | LossA: \u001b[32m0.95(-11.47%) ▼\u001b[0m\t| LossAB: \u001b[32m0.85(-8.34%) ▼\u001b[0m\t\n",
      "Epoch     2 | LossA: \u001b[32m0.86(-9.87%) ▼\u001b[0m\t| LossAB: \u001b[32m0.82(-3.20%) ▼\u001b[0m\t\n",
      "Epoch     3 | LossA: \u001b[32m0.85(-0.70%) ▼\u001b[0m\t| LossAB: \u001b[32m0.74(-10.42%) ▼\u001b[0m\t\n",
      "Epoch     4 | LossA: \u001b[91m0.86(+1.47%) ▲\u001b[0m\t| LossAB: \u001b[91m0.80(+8.43%) ▲\u001b[0m\t\n",
      "Epoch     5 | LossA: \u001b[32m0.80(-7.73%) ▼\u001b[0m\t| LossAB: \u001b[32m0.69(-14.21%) ▼\u001b[0m\t\n",
      "Epoch     6 | LossA: \u001b[32m0.76(-4.28%) ▼\u001b[0m\t| LossAB: \u001b[91m0.76(+10.03%) ▲\u001b[0m\t\n",
      "Epoch     7 | LossA: \u001b[32m0.76(-0.24%) ▼\u001b[0m\t| LossAB: \u001b[32m0.74(-2.17%) ▼\u001b[0m\t\n",
      "Epoch     8 | LossA: \u001b[32m0.75(-0.93%) ▼\u001b[0m\t| LossAB: \u001b[32m0.68(-7.59%) ▼\u001b[0m\t\n",
      "Epoch     9 | LossA: \u001b[32m0.70(-7.27%) ▼\u001b[0m\t| LossAB: \u001b[91m0.69(+1.16%) ▲\u001b[0m\t\n",
      "Epoch    10 | LossA: \u001b[91m0.76(+9.28%) ▲\u001b[0m\t| LossAB: \u001b[91m0.69(+0.19%) ▲\u001b[0m\t\n",
      "Epoch    11 | LossA: \u001b[32m0.67(-11.93%) ▼\u001b[0m\t| LossAB: \u001b[32m0.64(-6.96%) ▼\u001b[0m\t\n",
      "Epoch    12 | LossA: \u001b[32m0.65(-3.64%) ▼\u001b[0m\t| LossAB: \u001b[32m0.60(-6.31%) ▼\u001b[0m\t\n",
      "Epoch    13 | LossA: \u001b[32m0.62(-4.21%) ▼\u001b[0m\t| LossAB: \u001b[91m0.63(+4.60%) ▲\u001b[0m\t\n",
      "Epoch    14 | LossA: \u001b[91m0.65(+4.67%) ▲\u001b[0m\t| LossAB: \u001b[91m0.66(+4.56%) ▲\u001b[0m\t\n",
      "Epoch    15 | LossA: \u001b[91m0.67(+3.98%) ▲\u001b[0m\t| LossAB: \u001b[32m0.63(-4.17%) ▼\u001b[0m\t\n",
      "Epoch    16 | LossA: \u001b[32m0.61(-9.33%) ▼\u001b[0m\t| LossAB: \u001b[32m0.61(-3.75%) ▼\u001b[0m\t\n",
      "Epoch    17 | LossA: \u001b[91m0.65(+5.57%) ▲\u001b[0m\t| LossAB: \u001b[91m0.65(+5.94%) ▲\u001b[0m\t\n",
      "Epoch    18 | LossA: \u001b[32m0.59(-8.65%) ▼\u001b[0m\t| LossAB: \u001b[32m0.62(-4.49%) ▼\u001b[0m\t\n",
      "Epoch    19 | LossA: \u001b[91m0.60(+1.02%) ▲\u001b[0m\t| LossAB: \u001b[32m0.55(-9.98%) ▼\u001b[0m\t\n",
      "Epoch    20 | LossA: \u001b[32m0.59(-0.89%) ▼\u001b[0m\t| LossAB: \u001b[32m0.54(-2.61%) ▼\u001b[0m\t\n",
      "Epoch    21 | LossA: \u001b[32m0.58(-2.39%) ▼\u001b[0m\t| LossAB: \u001b[91m0.61(+12.58%) ▲\u001b[0m\t\n",
      "Epoch    22 | LossA: \u001b[91m0.58(+0.81%) ▲\u001b[0m\t| LossAB: \u001b[91m0.63(+2.99%) ▲\u001b[0m\t\n",
      "Epoch    23 | LossA: \u001b[32m0.58(-0.32%) ▼\u001b[0m\t| LossAB: \u001b[32m0.59(-5.60%) ▼\u001b[0m\t\n",
      "Epoch    24 | LossA: \u001b[32m0.55(-4.70%) ▼\u001b[0m\t| LossAB: \u001b[32m0.57(-3.00%) ▼\u001b[0m\t\n",
      "Epoch    25 | LossA: \u001b[32m0.55(-0.20%) ▼\u001b[0m\t| LossAB: \u001b[32m0.50(-12.87%) ▼\u001b[0m\t\n",
      "Epoch    26 | LossA: \u001b[32m0.54(-1.85%) ▼\u001b[0m\t| LossAB: \u001b[91m0.60(+20.62%) ▲\u001b[0m\t\n",
      "Epoch    27 | LossA: \u001b[32m0.52(-3.78%) ▼\u001b[0m\t| LossAB: \u001b[32m0.56(-6.94%) ▼\u001b[0m\t\n",
      "Epoch    28 | LossA: \u001b[91m0.53(+2.71%) ▲\u001b[0m\t| LossAB: \u001b[32m0.51(-8.71%) ▼\u001b[0m\t\n",
      "Epoch    29 | LossA: \u001b[91m0.61(+13.28%) ▲\u001b[0m\t| LossAB: \u001b[91m0.59(+14.81%) ▲\u001b[0m\t\n",
      "Epoch    30 | LossA: \u001b[32m0.57(-6.13%) ▼\u001b[0m\t| LossAB: \u001b[91m0.62(+6.10%) ▲\u001b[0m\t\n",
      "Epoch    31 | LossA: \u001b[32m0.55(-3.58%) ▼\u001b[0m\t| LossAB: \u001b[32m0.49(-22.02%) ▼\u001b[0m\t\n",
      "Epoch    32 | LossA: \u001b[32m0.53(-3.70%) ▼\u001b[0m\t| LossAB: \u001b[91m0.57(+17.67%) ▲\u001b[0m\t\n",
      "300/300 [==============================] - 0s 1ms/step\n",
      "Accuracy: 0.7866666658719381\n"
     ]
    }
   ],
   "source": [
    "y_test_oh = dense_to_one_hot(y_test, num_clases=3)\n",
    "\n",
    "# visualizing losses and accuracy\n",
    "train_loss = history.history['loss']\n",
    "val_loss = history.history['val_loss']\n",
    "\n",
    "#Observing the losses but can be commented out as it's not mandatory \n",
    "reporter = lossprettifier.LossPrettifier(show_percentage=True)\n",
    "\n",
    "for i in range(numEpochs-1):\n",
    "    reporter(epoch=i, LossA = train_loss[i], LossAB = val_loss[i])\n",
    "\n",
    "# Model evaluation \n",
    "score, acc = model.evaluate(x_test, y_test_oh, batch_size=batch_Size)\n",
    "print(\"Accuracy:\", acc)\n",
    "\n",
    "#if acc>0.675:\n",
    "model.save_weights(modelPath)"
   ]
  },
  {
   "cell_type": "code",
   "execution_count": 15,
   "metadata": {},
   "outputs": [
    {
     "name": "stdout",
     "output_type": "stream",
     "text": [
      "              precision    recall  f1-score   support\n",
      "\n",
      "           0       0.76      0.80      0.78       100\n",
      "           1       0.90      0.82      0.86       100\n",
      "           2       0.71      0.74      0.73       100\n",
      "\n",
      "    accuracy                           0.79       300\n",
      "   macro avg       0.79      0.79      0.79       300\n",
      "weighted avg       0.79      0.79      0.79       300\n",
      "\n"
     ]
    }
   ],
   "source": [
    "y_pred = model.predict(x_test)\n",
    "y_pred = y_pred.reshape(len(y_test), 3)\n",
    "y_pred = np.argmax(y_pred, axis=1)\n",
    "\n",
    "# Writing results on file\n",
    "f = open(resultPath,'a') #create classification report\n",
    "f.write(classification_report(y_test, y_pred))\n",
    "f.write(str(sklm.cohen_kappa_score(y_test, y_pred))+\",\"+str(acc)+\",\"+str(score)+\"\\n\")\n",
    "\n",
    "#Print class-wise classification metrics\n",
    "print(classification_report(y_test, y_pred))"
   ]
  },
  {
   "cell_type": "code",
   "execution_count": 16,
   "metadata": {},
   "outputs": [],
   "source": [
    "f.close()"
   ]
  },
  {
   "cell_type": "code",
   "execution_count": 17,
   "metadata": {},
   "outputs": [
    {
     "data": {
      "image/png": "[encoded data removed]",
      "text/plain": [
       "<Figure size 432x288 with 2 Axes>"
      ]
     },
     "metadata": {
      "needs_background": "light"
     },
     "output_type": "display_data"
    }
   ],
   "source": [
    "from sklearn.metrics import confusion_matrix, ConfusionMatrixDisplay\n",
    "cm = confusion_matrix(y_test, y_pred)\n",
    "disp = ConfusionMatrixDisplay(confusion_matrix=cm, display_labels=np.array(['normal', 'COVID19', 'pneumonia']))\n",
    "disp.plot(cmap='Blues') \n",
    "disp.ax_.get_images()[0].set_clim(0, 100)"
   ]
  }
 ],
 "metadata": {
  "kernelspec": {
   "display_name": "Python 3",
   "language": "python",
   "name": "python3"
  },
  "language_info": {
   "codemirror_mode": {
    "name": "ipython",
    "version": 3
   },
   "file_extension": ".py",
   "mimetype": "text/x-python",
   "name": "python",
   "nbconvert_exporter": "python",
   "pygments_lexer": "ipython3",
   "version": "3.6.12"
  }
 },
 "nbformat": 4,
 "nbformat_minor": 2
}

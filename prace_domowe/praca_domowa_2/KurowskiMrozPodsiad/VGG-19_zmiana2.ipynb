{
 "cells": [
  {
   "cell_type": "code",
   "execution_count": 1,
   "metadata": {},
   "outputs": [],
   "source": [
    "import cv2\n",
    "import numpy as np\n",
    "import matplotlib.pyplot as plt\n",
    "import os"
   ]
  },
  {
   "cell_type": "code",
   "execution_count": 2,
   "metadata": {},
   "outputs": [],
   "source": [
    "x_train = np.load('data/x_train_undersampled.npy')\n",
    "y_train = np.load('data/y_train_undersampled.npy')\n",
    "x_test = np.load('data/x_test_undersampled.npy')\n",
    "y_test = np.load('data/y_test_undersampled.npy')"
   ]
  },
  {
   "cell_type": "code",
   "execution_count": 3,
   "metadata": {},
   "outputs": [
    {
     "name": "stdout",
     "output_type": "stream",
     "text": [
      "(5010, 224, 224, 3)\n",
      "(300, 224, 224, 3)\n"
     ]
    }
   ],
   "source": [
    "print(x_train.shape)\n",
    "print(x_test.shape)"
   ]
  },
  {
   "cell_type": "code",
   "execution_count": 4,
   "metadata": {},
   "outputs": [
    {
     "name": "stdout",
     "output_type": "stream",
     "text": [
      "(5010,)\n",
      "(300,)\n"
     ]
    }
   ],
   "source": [
    "print(y_train.shape)\n",
    "print(y_test.shape)"
   ]
  },
  {
   "cell_type": "code",
   "execution_count": 5,
   "metadata": {},
   "outputs": [],
   "source": [
    "#x_train /= 255????"
   ]
  },
  {
   "cell_type": "code",
   "execution_count": 6,
   "metadata": {
    "scrolled": true
   },
   "outputs": [
    {
     "name": "stderr",
     "output_type": "stream",
     "text": [
      "C:\\Users\\hp\\Anaconda3\\envs\\wbvenv36\\lib\\site-packages\\tensorflow\\python\\framework\\dtypes.py:516: FutureWarning: Passing (type, 1) or '1type' as a synonym of type is deprecated; in a future version of numpy, it will be understood as (type, (1,)) / '(1,)type'.\n",
      "  _np_qint8 = np.dtype([(\"qint8\", np.int8, 1)])\n",
      "C:\\Users\\hp\\Anaconda3\\envs\\wbvenv36\\lib\\site-packages\\tensorflow\\python\\framework\\dtypes.py:517: FutureWarning: Passing (type, 1) or '1type' as a synonym of type is deprecated; in a future version of numpy, it will be understood as (type, (1,)) / '(1,)type'.\n",
      "  _np_quint8 = np.dtype([(\"quint8\", np.uint8, 1)])\n",
      "C:\\Users\\hp\\Anaconda3\\envs\\wbvenv36\\lib\\site-packages\\tensorflow\\python\\framework\\dtypes.py:518: FutureWarning: Passing (type, 1) or '1type' as a synonym of type is deprecated; in a future version of numpy, it will be understood as (type, (1,)) / '(1,)type'.\n",
      "  _np_qint16 = np.dtype([(\"qint16\", np.int16, 1)])\n",
      "C:\\Users\\hp\\Anaconda3\\envs\\wbvenv36\\lib\\site-packages\\tensorflow\\python\\framework\\dtypes.py:519: FutureWarning: Passing (type, 1) or '1type' as a synonym of type is deprecated; in a future version of numpy, it will be understood as (type, (1,)) / '(1,)type'.\n",
      "  _np_quint16 = np.dtype([(\"quint16\", np.uint16, 1)])\n",
      "C:\\Users\\hp\\Anaconda3\\envs\\wbvenv36\\lib\\site-packages\\tensorflow\\python\\framework\\dtypes.py:520: FutureWarning: Passing (type, 1) or '1type' as a synonym of type is deprecated; in a future version of numpy, it will be understood as (type, (1,)) / '(1,)type'.\n",
      "  _np_qint32 = np.dtype([(\"qint32\", np.int32, 1)])\n",
      "C:\\Users\\hp\\Anaconda3\\envs\\wbvenv36\\lib\\site-packages\\tensorflow\\python\\framework\\dtypes.py:525: FutureWarning: Passing (type, 1) or '1type' as a synonym of type is deprecated; in a future version of numpy, it will be understood as (type, (1,)) / '(1,)type'.\n",
      "  np_resource = np.dtype([(\"resource\", np.ubyte, 1)])\n",
      "C:\\Users\\hp\\Anaconda3\\envs\\wbvenv36\\lib\\site-packages\\tensorboard\\compat\\tensorflow_stub\\dtypes.py:541: FutureWarning: Passing (type, 1) or '1type' as a synonym of type is deprecated; in a future version of numpy, it will be understood as (type, (1,)) / '(1,)type'.\n",
      "  _np_qint8 = np.dtype([(\"qint8\", np.int8, 1)])\n",
      "C:\\Users\\hp\\Anaconda3\\envs\\wbvenv36\\lib\\site-packages\\tensorboard\\compat\\tensorflow_stub\\dtypes.py:542: FutureWarning: Passing (type, 1) or '1type' as a synonym of type is deprecated; in a future version of numpy, it will be understood as (type, (1,)) / '(1,)type'.\n",
      "  _np_quint8 = np.dtype([(\"quint8\", np.uint8, 1)])\n",
      "C:\\Users\\hp\\Anaconda3\\envs\\wbvenv36\\lib\\site-packages\\tensorboard\\compat\\tensorflow_stub\\dtypes.py:543: FutureWarning: Passing (type, 1) or '1type' as a synonym of type is deprecated; in a future version of numpy, it will be understood as (type, (1,)) / '(1,)type'.\n",
      "  _np_qint16 = np.dtype([(\"qint16\", np.int16, 1)])\n",
      "C:\\Users\\hp\\Anaconda3\\envs\\wbvenv36\\lib\\site-packages\\tensorboard\\compat\\tensorflow_stub\\dtypes.py:544: FutureWarning: Passing (type, 1) or '1type' as a synonym of type is deprecated; in a future version of numpy, it will be understood as (type, (1,)) / '(1,)type'.\n",
      "  _np_quint16 = np.dtype([(\"quint16\", np.uint16, 1)])\n",
      "C:\\Users\\hp\\Anaconda3\\envs\\wbvenv36\\lib\\site-packages\\tensorboard\\compat\\tensorflow_stub\\dtypes.py:545: FutureWarning: Passing (type, 1) or '1type' as a synonym of type is deprecated; in a future version of numpy, it will be understood as (type, (1,)) / '(1,)type'.\n",
      "  _np_qint32 = np.dtype([(\"qint32\", np.int32, 1)])\n",
      "C:\\Users\\hp\\Anaconda3\\envs\\wbvenv36\\lib\\site-packages\\tensorboard\\compat\\tensorflow_stub\\dtypes.py:550: FutureWarning: Passing (type, 1) or '1type' as a synonym of type is deprecated; in a future version of numpy, it will be understood as (type, (1,)) / '(1,)type'.\n",
      "  np_resource = np.dtype([(\"resource\", np.ubyte, 1)])\n",
      "Using TensorFlow backend.\n"
     ]
    }
   ],
   "source": [
    "from __future__ import print_function\n",
    "\n",
    "import numpy as np\n",
    "from random import shuffle\n",
    "import time\n",
    "import csv\n",
    "from PIL import Image\n",
    "import os\n",
    "import tensorflow as tf\n",
    "import keras\n",
    "from keras.callbacks import EarlyStopping, LearningRateScheduler\n",
    "from keras import initializers\n",
    "from keras.optimizers import SGD\n",
    "from keras.preprocessing import sequence\n",
    "from keras.utils import np_utils\n",
    "from keras.models import Sequential,load_model,Model\n",
    "from keras.layers import Dense, Dropout, Activation, Flatten\n",
    "from keras.layers import *\n",
    "from keras.callbacks import CSVLogger\n",
    "from keras import callbacks\n",
    "from keras.preprocessing.image import ImageDataGenerator\n",
    "\n",
    "from sklearn.metrics import classification_report\n",
    "from sklearn.model_selection import train_test_split\n",
    "import sklearn.metrics as sklm\n",
    "import sys\n",
    "sys.path.insert(0,'..')\n",
    "from utils import lossprettifier\n",
    "from Classifier.VGG_zmiana2 import *"
   ]
  },
  {
   "cell_type": "code",
   "execution_count": 7,
   "metadata": {},
   "outputs": [],
   "source": [
    "# for reproducibility\n",
    "np.random.seed(3768)\n",
    "\n",
    "# use this environment flag to change which GPU to use \n",
    "os.environ[\"CUDA_DEVICE_ORDER\"]=\"PCI_BUS_ID\"\n",
    "os.environ[\"CUDA_VISIBLE_DEVICES\"]=\"0\"  # specify which GPU(s) to be used\n",
    "\n",
    "#Get TensorFlow session\n",
    "def get_session(): \n",
    "  config = tf.ConfigProto() \n",
    "  config.gpu_options.allow_growth = True \n",
    "  return tf.Session(config=config) \n",
    "  \n",
    "# One hot encoding of labels \n",
    "def dense_to_one_hot(labels_dense,num_clases=4):\n",
    "  return np.eye(num_clases)[labels_dense]"
   ]
  },
  {
   "cell_type": "code",
   "execution_count": 8,
   "metadata": {},
   "outputs": [],
   "source": [
    "# Preparing training and test sets\n",
    "x_train, x_valid, y_train, y_valid = train_test_split(x_train, y_train, test_size=0.10, random_state=42)"
   ]
  },
  {
   "cell_type": "code",
   "execution_count": 9,
   "metadata": {},
   "outputs": [],
   "source": [
    "y_train = dense_to_one_hot(y_train,num_clases=3)\n",
    "y_valid= dense_to_one_hot(y_valid,num_clases=3)"
   ]
  },
  {
   "cell_type": "code",
   "execution_count": 10,
   "metadata": {},
   "outputs": [
    {
     "name": "stderr",
     "output_type": "stream",
     "text": [
      "C:\\Users\\hp\\Anaconda3\\envs\\wbvenv36\\lib\\site-packages\\keras_preprocessing\\image\\image_data_generator.py:349: UserWarning: This ImageDataGenerator specifies `featurewise_std_normalization`, which overrides setting of `featurewise_center`.\n",
      "  warnings.warn('This ImageDataGenerator specifies '\n"
     ]
    }
   ],
   "source": [
    "#Image data generation for the training \n",
    "datagen = ImageDataGenerator(\n",
    "               featurewise_center = False, \n",
    "               samplewise_center = False,  # set each sample mean to 0\n",
    "               featurewise_std_normalization = True,  \n",
    "               samplewise_std_normalization = False)  \n",
    "\n",
    "datagen.fit(x_train) \n",
    "for i in range(len(x_test)):\n",
    "      x_test[i] = datagen.standardize(x_test[i])"
   ]
  },
  {
   "cell_type": "code",
   "execution_count": 11,
   "metadata": {
    "scrolled": true
   },
   "outputs": [
    {
     "name": "stdout",
     "output_type": "stream",
     "text": [
      "WARNING:tensorflow:From C:\\Users\\hp\\AppData\\Roaming\\Python\\Python36\\site-packages\\keras\\backend\\tensorflow_backend.py:4070: The name tf.nn.max_pool is deprecated. Please use tf.nn.max_pool2d instead.\n",
      "\n",
      "WARNING:tensorflow:From C:\\Users\\hp\\AppData\\Roaming\\Python\\Python36\\site-packages\\keras\\backend\\tensorflow_backend.py:422: The name tf.global_variables is deprecated. Please use tf.compat.v1.global_variables instead.\n",
      "\n",
      "Epoch 1/50\n",
      "32/32 [==============================] - 4s 112ms/step - loss: 1.0982 - accuracy: 0.3662 - val_loss: 1.0638 - val_accuracy: 0.4072\n",
      "Epoch 2/50\n",
      "32/32 [==============================] - 1s 47ms/step - loss: 1.0265 - accuracy: 0.4941 - val_loss: 1.0404 - val_accuracy: 0.5250\n",
      "Epoch 3/50\n",
      "32/32 [==============================] - 2s 54ms/step - loss: 0.9972 - accuracy: 0.5152 - val_loss: 0.9063 - val_accuracy: 0.5968\n",
      "Epoch 4/50\n",
      "32/32 [==============================] - 1s 46ms/step - loss: 0.9739 - accuracy: 0.5547 - val_loss: 0.9341 - val_accuracy: 0.6048\n",
      "Epoch 5/50\n",
      "32/32 [==============================] - 2s 48ms/step - loss: 0.8773 - accuracy: 0.6240 - val_loss: 0.6270 - val_accuracy: 0.6248\n",
      "Epoch 6/50\n",
      "32/32 [==============================] - 1s 45ms/step - loss: 0.8914 - accuracy: 0.6014 - val_loss: 0.7879 - val_accuracy: 0.6148\n",
      "Epoch 7/50\n",
      "32/32 [==============================] - 1s 45ms/step - loss: 0.8694 - accuracy: 0.5996 - val_loss: 0.7655 - val_accuracy: 0.6248\n",
      "Epoch 8/50\n",
      "32/32 [==============================] - 1s 46ms/step - loss: 0.8857 - accuracy: 0.6055 - val_loss: 0.9628 - val_accuracy: 0.5988\n",
      "Epoch 9/50\n",
      "32/32 [==============================] - 2s 48ms/step - loss: 0.8700 - accuracy: 0.6182 - val_loss: 0.6853 - val_accuracy: 0.6168\n",
      "Epoch 10/50\n",
      "32/32 [==============================] - 1s 46ms/step - loss: 0.8313 - accuracy: 0.6180 - val_loss: 0.7851 - val_accuracy: 0.6347\n",
      "Epoch 11/50\n",
      "32/32 [==============================] - 1s 47ms/step - loss: 0.8158 - accuracy: 0.6318 - val_loss: 0.8090 - val_accuracy: 0.6467\n",
      "Epoch 12/50\n",
      "32/32 [==============================] - 1s 46ms/step - loss: 0.8140 - accuracy: 0.6582 - val_loss: 0.8295 - val_accuracy: 0.6986\n",
      "Epoch 13/50\n",
      "32/32 [==============================] - 1s 46ms/step - loss: 0.7990 - accuracy: 0.6621 - val_loss: 0.7222 - val_accuracy: 0.6627\n",
      "Epoch 14/50\n",
      "32/32 [==============================] - 1s 46ms/step - loss: 0.7845 - accuracy: 0.6494 - val_loss: 0.6636 - val_accuracy: 0.6886\n",
      "Epoch 15/50\n",
      "32/32 [==============================] - 1s 46ms/step - loss: 0.7863 - accuracy: 0.6523 - val_loss: 0.6797 - val_accuracy: 0.6527\n",
      "Epoch 16/50\n",
      "32/32 [==============================] - 1s 47ms/step - loss: 0.7654 - accuracy: 0.6885 - val_loss: 0.6647 - val_accuracy: 0.6866\n",
      "Epoch 17/50\n",
      "32/32 [==============================] - 1s 47ms/step - loss: 0.7357 - accuracy: 0.6777 - val_loss: 0.6009 - val_accuracy: 0.6986\n",
      "Epoch 18/50\n",
      "32/32 [==============================] - 2s 48ms/step - loss: 0.7773 - accuracy: 0.6690 - val_loss: 0.6344 - val_accuracy: 0.6547\n",
      "Epoch 19/50\n",
      "32/32 [==============================] - 1s 45ms/step - loss: 0.7415 - accuracy: 0.6943 - val_loss: 0.6311 - val_accuracy: 0.7046\n",
      "Epoch 20/50\n",
      "32/32 [==============================] - 1s 45ms/step - loss: 0.7181 - accuracy: 0.7041 - val_loss: 0.7474 - val_accuracy: 0.7006\n",
      "Epoch 21/50\n",
      "32/32 [==============================] - 1s 45ms/step - loss: 0.7301 - accuracy: 0.7002 - val_loss: 0.7278 - val_accuracy: 0.7086\n",
      "Epoch 22/50\n",
      "32/32 [==============================] - 1s 46ms/step - loss: 0.7777 - accuracy: 0.6631 - val_loss: 0.7061 - val_accuracy: 0.6946\n",
      "Epoch 23/50\n",
      "32/32 [==============================] - 1s 47ms/step - loss: 0.7425 - accuracy: 0.6904 - val_loss: 0.7936 - val_accuracy: 0.6806\n",
      "Epoch 24/50\n",
      "32/32 [==============================] - 1s 47ms/step - loss: 0.7367 - accuracy: 0.7042 - val_loss: 0.6979 - val_accuracy: 0.6966\n",
      "Epoch 25/50\n",
      "32/32 [==============================] - 1s 47ms/step - loss: 0.7275 - accuracy: 0.6895 - val_loss: 0.7013 - val_accuracy: 0.6567\n",
      "Epoch 26/50\n",
      "32/32 [==============================] - 1s 46ms/step - loss: 0.7218 - accuracy: 0.7041 - val_loss: 0.8013 - val_accuracy: 0.7186\n",
      "Epoch 27/50\n",
      "32/32 [==============================] - 2s 49ms/step - loss: 0.7391 - accuracy: 0.6846 - val_loss: 0.4870 - val_accuracy: 0.6906\n",
      "Epoch 28/50\n",
      "32/32 [==============================] - 1s 46ms/step - loss: 0.7009 - accuracy: 0.7080 - val_loss: 0.7034 - val_accuracy: 0.6846\n",
      "Epoch 29/50\n",
      "32/32 [==============================] - 1s 46ms/step - loss: 0.7532 - accuracy: 0.6729 - val_loss: 0.6184 - val_accuracy: 0.6707\n",
      "Epoch 30/50\n",
      "32/32 [==============================] - 1s 47ms/step - loss: 0.7417 - accuracy: 0.6729 - val_loss: 0.8666 - val_accuracy: 0.6926\n",
      "Epoch 31/50\n",
      "32/32 [==============================] - 1s 47ms/step - loss: 0.7823 - accuracy: 0.6602 - val_loss: 0.7785 - val_accuracy: 0.7026\n",
      "Epoch 32/50\n",
      "32/32 [==============================] - 1s 46ms/step - loss: 0.6924 - accuracy: 0.7209 - val_loss: 0.5461 - val_accuracy: 0.6926\n",
      "Epoch 33/50\n",
      "32/32 [==============================] - 1s 45ms/step - loss: 0.7371 - accuracy: 0.6885 - val_loss: 0.8772 - val_accuracy: 0.7026\n",
      "Epoch 34/50\n",
      "32/32 [==============================] - 1s 45ms/step - loss: 0.6914 - accuracy: 0.7217 - val_loss: 0.6595 - val_accuracy: 0.6846\n",
      "Epoch 35/50\n",
      "32/32 [==============================] - 1s 46ms/step - loss: 0.7016 - accuracy: 0.7217 - val_loss: 0.3998 - val_accuracy: 0.6866\n",
      "Epoch 36/50\n",
      "32/32 [==============================] - 2s 49ms/step - loss: 0.6677 - accuracy: 0.7169 - val_loss: 0.6398 - val_accuracy: 0.7425\n",
      "Epoch 37/50\n",
      "32/32 [==============================] - 1s 47ms/step - loss: 0.6771 - accuracy: 0.7188 - val_loss: 0.7516 - val_accuracy: 0.6846\n",
      "Epoch 38/50\n",
      "32/32 [==============================] - 1s 46ms/step - loss: 0.8074 - accuracy: 0.6484 - val_loss: 0.6847 - val_accuracy: 0.7066\n",
      "Epoch 39/50\n",
      "32/32 [==============================] - 1s 46ms/step - loss: 0.7296 - accuracy: 0.7041 - val_loss: 0.5410 - val_accuracy: 0.6906\n",
      "Epoch 40/50\n",
      "32/32 [==============================] - 2s 47ms/step - loss: 0.6444 - accuracy: 0.7502 - val_loss: 0.3613 - val_accuracy: 0.7285\n",
      "Epoch 41/50\n",
      "32/32 [==============================] - 1s 46ms/step - loss: 0.7029 - accuracy: 0.7236 - val_loss: 0.6521 - val_accuracy: 0.7345\n",
      "Epoch 42/50\n",
      "32/32 [==============================] - 1s 47ms/step - loss: 0.6502 - accuracy: 0.7402 - val_loss: 0.6618 - val_accuracy: 0.7246\n",
      "Epoch 43/50\n",
      "32/32 [==============================] - 1s 46ms/step - loss: 0.6639 - accuracy: 0.7275 - val_loss: 0.5267 - val_accuracy: 0.7146\n",
      "Epoch 44/50\n",
      "32/32 [==============================] - 1s 47ms/step - loss: 0.7880 - accuracy: 0.6592 - val_loss: 0.5935 - val_accuracy: 0.6906\n",
      "Epoch 45/50\n",
      "32/32 [==============================] - 2s 49ms/step - loss: 0.7736 - accuracy: 0.6504 - val_loss: 0.7214 - val_accuracy: 0.6727\n",
      "Epoch 46/50\n",
      "32/32 [==============================] - 1s 46ms/step - loss: 0.7218 - accuracy: 0.6924 - val_loss: 0.9059 - val_accuracy: 0.7285\n",
      "Epoch 47/50\n",
      "32/32 [==============================] - 1s 46ms/step - loss: 0.6709 - accuracy: 0.7324 - val_loss: 0.6295 - val_accuracy: 0.7026\n",
      "Epoch 48/50\n",
      "32/32 [==============================] - 1s 46ms/step - loss: 0.6807 - accuracy: 0.7002 - val_loss: 0.5549 - val_accuracy: 0.7325\n",
      "Epoch 49/50\n",
      "32/32 [==============================] - 2s 48ms/step - loss: 0.6946 - accuracy: 0.7169 - val_loss: 0.7480 - val_accuracy: 0.7305\n",
      "Epoch 50/50\n",
      "32/32 [==============================] - 1s 46ms/step - loss: 0.6590 - accuracy: 0.7432 - val_loss: 0.6762 - val_accuracy: 0.7365\n"
     ]
    }
   ],
   "source": [
    "#Defining hyperparameters\n",
    "batch_Size = 32\n",
    "steps_Per_Epoch = 32\n",
    "numEpochs = 50\n",
    "\n",
    "#Instantating VGG19 model\n",
    "model = VGG19((224,224,3),classes=3) #VGG19_dense for revised VGG19, VGG19 for VGG19. Please pay attention to VGG16(), chnage the input shape and class number in VGG.py.\n",
    "\n",
    "#Creating an optimizers\n",
    "adaDelta = keras.optimizers.Adadelta(lr=1.0, rho=0.95)\n",
    "sgd = SGD(lr=0.01, decay=1e-6, momentum=0.95, nesterov=True)\n",
    "model.compile(optimizer = sgd , loss = 'categorical_crossentropy', metrics = ['accuracy'])\n",
    "\n",
    "#Creating early stopping \n",
    "earlystop = EarlyStopping(monitor = 'val_accuracy', min_delta = 0, patience = 50, verbose = 1, mode = 'auto', restore_best_weights = True)       \n",
    "\n",
    "train_generator = datagen.flow(x_train, y_train, batch_size = batch_Size)\n",
    "validation_generator = datagen.flow(x_valid, y_valid, batch_size = batch_Size)\n",
    "\n",
    "# Model training\n",
    "history = model.fit_generator(\n",
    "    train_generator,\n",
    "    steps_per_epoch = steps_Per_Epoch,\n",
    "    validation_data = validation_generator, \n",
    "    validation_steps = 16,\n",
    "    epochs = numEpochs,\n",
    "    shuffle = True, \n",
    "    verbose = 1)"
   ]
  },
  {
   "cell_type": "code",
   "execution_count": 12,
   "metadata": {},
   "outputs": [],
   "source": [
    "modelPath = \"VGG19_COVID19.h5\"\n",
    "resultPath = 'VGG19_COVID19.txt'"
   ]
  },
  {
   "cell_type": "code",
   "execution_count": 13,
   "metadata": {},
   "outputs": [
    {
     "name": "stdout",
     "output_type": "stream",
     "text": [
      "Epoch     0 | LossA: 1.10(+0.00%) \u001b[0m\t| LossAB: 1.06(+0.00%) \u001b[0m\t\n",
      "Epoch     1 | LossA: \u001b[32m1.03(-6.53%) ▼\u001b[0m\t| LossAB: \u001b[32m1.04(-2.20%) ▼\u001b[0m\t\n",
      "Epoch     2 | LossA: \u001b[32m1.00(-2.85%) ▼\u001b[0m\t| LossAB: \u001b[32m0.91(-12.89%) ▼\u001b[0m\t\n",
      "Epoch     3 | LossA: \u001b[32m0.97(-2.35%) ▼\u001b[0m\t| LossAB: \u001b[91m0.93(+3.07%) ▲\u001b[0m\t\n",
      "Epoch     4 | LossA: \u001b[32m0.88(-9.92%) ▼\u001b[0m\t| LossAB: \u001b[32m0.63(-32.88%) ▼\u001b[0m\t\n",
      "Epoch     5 | LossA: \u001b[91m0.89(+1.60%) ▲\u001b[0m\t| LossAB: \u001b[91m0.79(+25.66%) ▲\u001b[0m\t\n",
      "Epoch     6 | LossA: \u001b[32m0.87(-2.46%) ▼\u001b[0m\t| LossAB: \u001b[32m0.77(-2.84%) ▼\u001b[0m\t\n",
      "Epoch     7 | LossA: \u001b[91m0.89(+1.87%) ▲\u001b[0m\t| LossAB: \u001b[91m0.96(+25.77%) ▲\u001b[0m\t\n",
      "Epoch     8 | LossA: \u001b[32m0.87(-1.76%) ▼\u001b[0m\t| LossAB: \u001b[32m0.69(-28.82%) ▼\u001b[0m\t\n",
      "Epoch     9 | LossA: \u001b[32m0.83(-4.44%) ▼\u001b[0m\t| LossAB: \u001b[91m0.79(+14.56%) ▲\u001b[0m\t\n",
      "Epoch    10 | LossA: \u001b[32m0.82(-1.88%) ▼\u001b[0m\t| LossAB: \u001b[91m0.81(+3.03%) ▲\u001b[0m\t\n",
      "Epoch    11 | LossA: \u001b[32m0.81(-0.22%) ▼\u001b[0m\t| LossAB: \u001b[91m0.83(+2.53%) ▲\u001b[0m\t\n",
      "Epoch    12 | LossA: \u001b[32m0.80(-1.84%) ▼\u001b[0m\t| LossAB: \u001b[32m0.72(-12.93%) ▼\u001b[0m\t\n",
      "Epoch    13 | LossA: \u001b[32m0.78(-1.83%) ▼\u001b[0m\t| LossAB: \u001b[32m0.66(-8.11%) ▼\u001b[0m\t\n",
      "Epoch    14 | LossA: \u001b[91m0.79(+0.15%) ▲\u001b[0m\t| LossAB: \u001b[91m0.68(+2.44%) ▲\u001b[0m\t\n",
      "Epoch    15 | LossA: \u001b[32m0.77(-2.58%) ▼\u001b[0m\t| LossAB: \u001b[32m0.66(-2.21%) ▼\u001b[0m\t\n",
      "Epoch    16 | LossA: \u001b[32m0.74(-3.87%) ▼\u001b[0m\t| LossAB: \u001b[32m0.60(-9.60%) ▼\u001b[0m\t\n",
      "Epoch    17 | LossA: \u001b[91m0.78(+5.59%) ▲\u001b[0m\t| LossAB: \u001b[91m0.63(+5.58%) ▲\u001b[0m\t\n",
      "Epoch    18 | LossA: \u001b[32m0.74(-4.55%) ▼\u001b[0m\t| LossAB: \u001b[32m0.63(-0.53%) ▼\u001b[0m\t\n",
      "Epoch    19 | LossA: \u001b[32m0.72(-3.16%) ▼\u001b[0m\t| LossAB: \u001b[91m0.75(+18.44%) ▲\u001b[0m\t\n",
      "Epoch    20 | LossA: \u001b[91m0.73(+1.68%) ▲\u001b[0m\t| LossAB: \u001b[32m0.73(-2.62%) ▼\u001b[0m\t\n",
      "Epoch    21 | LossA: \u001b[91m0.78(+6.51%) ▲\u001b[0m\t| LossAB: \u001b[32m0.71(-2.98%) ▼\u001b[0m\t\n",
      "Epoch    22 | LossA: \u001b[32m0.74(-4.52%) ▼\u001b[0m\t| LossAB: \u001b[91m0.79(+12.38%) ▲\u001b[0m\t\n",
      "Epoch    23 | LossA: \u001b[32m0.74(-0.75%) ▼\u001b[0m\t| LossAB: \u001b[32m0.70(-12.06%) ▼\u001b[0m\t\n",
      "Epoch    24 | LossA: \u001b[32m0.73(-1.28%) ▼\u001b[0m\t| LossAB: \u001b[91m0.70(+0.49%) ▲\u001b[0m\t\n",
      "Epoch    25 | LossA: \u001b[32m0.72(-0.79%) ▼\u001b[0m\t| LossAB: \u001b[91m0.80(+14.25%) ▲\u001b[0m\t\n",
      "Epoch    26 | LossA: \u001b[91m0.74(+2.41%) ▲\u001b[0m\t| LossAB: \u001b[32m0.49(-39.22%) ▼\u001b[0m\t\n",
      "Epoch    27 | LossA: \u001b[32m0.70(-5.18%) ▼\u001b[0m\t| LossAB: \u001b[91m0.70(+44.43%) ▲\u001b[0m\t\n",
      "Epoch    28 | LossA: \u001b[91m0.75(+7.40%) ▲\u001b[0m\t| LossAB: \u001b[32m0.62(-12.09%) ▼\u001b[0m\t\n",
      "Epoch    29 | LossA: \u001b[32m0.74(-1.46%) ▼\u001b[0m\t| LossAB: \u001b[91m0.87(+40.15%) ▲\u001b[0m\t\n",
      "Epoch    30 | LossA: \u001b[91m0.78(+5.48%) ▲\u001b[0m\t| LossAB: \u001b[32m0.78(-10.16%) ▼\u001b[0m\t\n",
      "Epoch    31 | LossA: \u001b[32m0.69(-11.41%) ▼\u001b[0m\t| LossAB: \u001b[32m0.55(-29.85%) ▼\u001b[0m\t\n",
      "Epoch    32 | LossA: \u001b[91m0.74(+6.35%) ▲\u001b[0m\t| LossAB: \u001b[91m0.88(+60.62%) ▲\u001b[0m\t\n",
      "Epoch    33 | LossA: \u001b[32m0.69(-6.20%) ▼\u001b[0m\t| LossAB: \u001b[32m0.66(-24.82%) ▼\u001b[0m\t\n",
      "Epoch    34 | LossA: \u001b[91m0.70(+1.48%) ▲\u001b[0m\t| LossAB: \u001b[32m0.40(-39.38%) ▼\u001b[0m\t\n",
      "Epoch    35 | LossA: \u001b[32m0.67(-4.89%) ▼\u001b[0m\t| LossAB: \u001b[91m0.64(+60.04%) ▲\u001b[0m\t\n",
      "Epoch    36 | LossA: \u001b[91m0.68(+1.47%) ▲\u001b[0m\t| LossAB: \u001b[91m0.75(+17.48%) ▲\u001b[0m\t\n",
      "Epoch    37 | LossA: \u001b[91m0.81(+19.25%) ▲\u001b[0m\t| LossAB: \u001b[32m0.68(-8.91%) ▼\u001b[0m\t\n",
      "Epoch    38 | LossA: \u001b[32m0.73(-9.64%) ▼\u001b[0m\t| LossAB: \u001b[32m0.54(-20.99%) ▼\u001b[0m\t\n",
      "Epoch    39 | LossA: \u001b[32m0.65(-11.56%) ▼\u001b[0m\t| LossAB: \u001b[32m0.36(-33.21%) ▼\u001b[0m\t\n",
      "Epoch    40 | LossA: \u001b[91m0.70(+8.93%) ▲\u001b[0m\t| LossAB: \u001b[91m0.65(+80.46%) ▲\u001b[0m\t\n",
      "Epoch    41 | LossA: \u001b[32m0.65(-7.49%) ▼\u001b[0m\t| LossAB: \u001b[91m0.66(+1.49%) ▲\u001b[0m\t\n",
      "Epoch    42 | LossA: \u001b[91m0.66(+2.10%) ▲\u001b[0m\t| LossAB: \u001b[32m0.53(-20.41%) ▼\u001b[0m\t\n",
      "Epoch    43 | LossA: \u001b[91m0.79(+18.69%) ▲\u001b[0m\t| LossAB: \u001b[91m0.59(+12.68%) ▲\u001b[0m\t\n",
      "Epoch    44 | LossA: \u001b[32m0.77(-1.82%) ▼\u001b[0m\t| LossAB: \u001b[91m0.72(+21.55%) ▲\u001b[0m\t\n",
      "Epoch    45 | LossA: \u001b[32m0.72(-6.70%) ▼\u001b[0m\t| LossAB: \u001b[91m0.91(+25.57%) ▲\u001b[0m\t\n",
      "Epoch    46 | LossA: \u001b[32m0.67(-7.05%) ▼\u001b[0m\t| LossAB: \u001b[32m0.63(-30.50%) ▼\u001b[0m\t\n",
      "Epoch    47 | LossA: \u001b[91m0.68(+1.47%) ▲\u001b[0m\t| LossAB: \u001b[32m0.55(-11.85%) ▼\u001b[0m\t\n",
      "Epoch    48 | LossA: \u001b[91m0.69(+2.10%) ▲\u001b[0m\t| LossAB: \u001b[91m0.75(+34.79%) ▲\u001b[0m\t\n",
      "300/300 [==============================] - 0s 1ms/step\n",
      "Accuracy: 0.75\n"
     ]
    }
   ],
   "source": [
    "y_test_oh = dense_to_one_hot(y_test, num_clases=3)\n",
    "\n",
    "# visualizing losses and accuracy\n",
    "train_loss = history.history['loss']\n",
    "val_loss = history.history['val_loss']\n",
    "\n",
    "#Observing the losses but can be commented out as it's not mandatory \n",
    "reporter = lossprettifier.LossPrettifier(show_percentage=True)\n",
    "\n",
    "for i in range(numEpochs-1):\n",
    "    reporter(epoch=i, LossA = train_loss[i], LossAB = val_loss[i])\n",
    "\n",
    "# Model evaluation \n",
    "score, acc = model.evaluate(x_test, y_test_oh, batch_size=batch_Size)\n",
    "print(\"Accuracy:\", acc)\n",
    "\n",
    "#if acc>0.675:\n",
    "model.save_weights(modelPath)"
   ]
  },
  {
   "cell_type": "code",
   "execution_count": 14,
   "metadata": {},
   "outputs": [
    {
     "name": "stdout",
     "output_type": "stream",
     "text": [
      "              precision    recall  f1-score   support\n",
      "\n",
      "           0       0.70      0.87      0.77       100\n",
      "           1       0.77      0.67      0.72       100\n",
      "           2       0.81      0.71      0.76       100\n",
      "\n",
      "    accuracy                           0.75       300\n",
      "   macro avg       0.76      0.75      0.75       300\n",
      "weighted avg       0.76      0.75      0.75       300\n",
      "\n"
     ]
    }
   ],
   "source": [
    "y_pred = model.predict(x_test)\n",
    "y_pred = y_pred.reshape(len(y_test), 3)\n",
    "y_pred = np.argmax(y_pred, axis=1)\n",
    "\n",
    "# Writing results on file\n",
    "f = open(resultPath,'a') #create classification report\n",
    "f.write(classification_report(y_test, y_pred))\n",
    "f.write(str(sklm.cohen_kappa_score(y_test, y_pred))+\",\"+str(acc)+\",\"+str(score)+\"\\n\")\n",
    "\n",
    "#Print class-wise classification metrics\n",
    "print(classification_report(y_test, y_pred))"
   ]
  },
  {
   "cell_type": "code",
   "execution_count": 15,
   "metadata": {},
   "outputs": [
    {
     "data": {
      "image/png": "[encoded data removed]",
      "text/plain": [
       "<Figure size 432x288 with 2 Axes>"
      ]
     },
     "metadata": {
      "needs_background": "light"
     },
     "output_type": "display_data"
    }
   ],
   "source": [
    "from sklearn.metrics import confusion_matrix, ConfusionMatrixDisplay\n",
    "cm = confusion_matrix(y_test, y_pred)\n",
    "disp = ConfusionMatrixDisplay(confusion_matrix=cm, display_labels=np.array(['normal', 'COVID19', 'pneumonia']))\n",
    "disp.plot(cmap='Blues') \n",
    "disp.ax_.get_images()[0].set_clim(0, 100)"
   ]
  },
  {
   "cell_type": "code",
   "execution_count": 16,
   "metadata": {},
   "outputs": [],
   "source": [
    "f.close()"
   ]
  }
 ],
 "metadata": {
  "kernelspec": {
   "display_name": "wbvenv36",
   "language": "python",
   "name": "wbvenv36"
  },
  "language_info": {
   "codemirror_mode": {
    "name": "ipython",
    "version": 3
   },
   "file_extension": ".py",
   "mimetype": "text/x-python",
   "name": "python",
   "nbconvert_exporter": "python",
   "pygments_lexer": "ipython3",
   "version": "3.6.12"
  }
 },
 "nbformat": 4,
 "nbformat_minor": 2
}

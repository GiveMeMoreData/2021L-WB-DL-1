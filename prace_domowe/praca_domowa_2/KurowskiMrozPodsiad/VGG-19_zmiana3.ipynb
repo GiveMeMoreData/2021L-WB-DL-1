{
 "cells": [
  {
   "cell_type": "code",
   "execution_count": 1,
   "metadata": {},
   "outputs": [],
   "source": [
    "import cv2\n",
    "import numpy as np\n",
    "import matplotlib.pyplot as plt\n",
    "import os"
   ]
  },
  {
   "cell_type": "code",
   "execution_count": 2,
   "metadata": {},
   "outputs": [],
   "source": [
    "x_train = np.load('data/x_train_undersampled.npy')\n",
    "y_train = np.load('data/y_train_undersampled.npy')\n",
    "x_test = np.load('data/x_test_undersampled.npy')\n",
    "y_test = np.load('data/y_test_undersampled.npy')"
   ]
  },
  {
   "cell_type": "code",
   "execution_count": 3,
   "metadata": {},
   "outputs": [
    {
     "name": "stdout",
     "output_type": "stream",
     "text": [
      "(5010, 224, 224, 3)\n",
      "(300, 224, 224, 3)\n"
     ]
    }
   ],
   "source": [
    "print(x_train.shape)\n",
    "print(x_test.shape)"
   ]
  },
  {
   "cell_type": "code",
   "execution_count": 4,
   "metadata": {},
   "outputs": [
    {
     "name": "stdout",
     "output_type": "stream",
     "text": [
      "(5010,)\n",
      "(300,)\n"
     ]
    }
   ],
   "source": [
    "print(y_train.shape)\n",
    "print(y_test.shape)"
   ]
  },
  {
   "cell_type": "code",
   "execution_count": 5,
   "metadata": {},
   "outputs": [],
   "source": [
    "#x_train /= 255????"
   ]
  },
  {
   "cell_type": "code",
   "execution_count": 6,
   "metadata": {
    "scrolled": true
   },
   "outputs": [
    {
     "name": "stderr",
     "output_type": "stream",
     "text": [
      "C:\\Users\\hp\\Anaconda3\\envs\\wbvenv36\\lib\\site-packages\\tensorflow\\python\\framework\\dtypes.py:516: FutureWarning: Passing (type, 1) or '1type' as a synonym of type is deprecated; in a future version of numpy, it will be understood as (type, (1,)) / '(1,)type'.\n",
      "  _np_qint8 = np.dtype([(\"qint8\", np.int8, 1)])\n",
      "C:\\Users\\hp\\Anaconda3\\envs\\wbvenv36\\lib\\site-packages\\tensorflow\\python\\framework\\dtypes.py:517: FutureWarning: Passing (type, 1) or '1type' as a synonym of type is deprecated; in a future version of numpy, it will be understood as (type, (1,)) / '(1,)type'.\n",
      "  _np_quint8 = np.dtype([(\"quint8\", np.uint8, 1)])\n",
      "C:\\Users\\hp\\Anaconda3\\envs\\wbvenv36\\lib\\site-packages\\tensorflow\\python\\framework\\dtypes.py:518: FutureWarning: Passing (type, 1) or '1type' as a synonym of type is deprecated; in a future version of numpy, it will be understood as (type, (1,)) / '(1,)type'.\n",
      "  _np_qint16 = np.dtype([(\"qint16\", np.int16, 1)])\n",
      "C:\\Users\\hp\\Anaconda3\\envs\\wbvenv36\\lib\\site-packages\\tensorflow\\python\\framework\\dtypes.py:519: FutureWarning: Passing (type, 1) or '1type' as a synonym of type is deprecated; in a future version of numpy, it will be understood as (type, (1,)) / '(1,)type'.\n",
      "  _np_quint16 = np.dtype([(\"quint16\", np.uint16, 1)])\n",
      "C:\\Users\\hp\\Anaconda3\\envs\\wbvenv36\\lib\\site-packages\\tensorflow\\python\\framework\\dtypes.py:520: FutureWarning: Passing (type, 1) or '1type' as a synonym of type is deprecated; in a future version of numpy, it will be understood as (type, (1,)) / '(1,)type'.\n",
      "  _np_qint32 = np.dtype([(\"qint32\", np.int32, 1)])\n",
      "C:\\Users\\hp\\Anaconda3\\envs\\wbvenv36\\lib\\site-packages\\tensorflow\\python\\framework\\dtypes.py:525: FutureWarning: Passing (type, 1) or '1type' as a synonym of type is deprecated; in a future version of numpy, it will be understood as (type, (1,)) / '(1,)type'.\n",
      "  np_resource = np.dtype([(\"resource\", np.ubyte, 1)])\n",
      "C:\\Users\\hp\\Anaconda3\\envs\\wbvenv36\\lib\\site-packages\\tensorboard\\compat\\tensorflow_stub\\dtypes.py:541: FutureWarning: Passing (type, 1) or '1type' as a synonym of type is deprecated; in a future version of numpy, it will be understood as (type, (1,)) / '(1,)type'.\n",
      "  _np_qint8 = np.dtype([(\"qint8\", np.int8, 1)])\n",
      "C:\\Users\\hp\\Anaconda3\\envs\\wbvenv36\\lib\\site-packages\\tensorboard\\compat\\tensorflow_stub\\dtypes.py:542: FutureWarning: Passing (type, 1) or '1type' as a synonym of type is deprecated; in a future version of numpy, it will be understood as (type, (1,)) / '(1,)type'.\n",
      "  _np_quint8 = np.dtype([(\"quint8\", np.uint8, 1)])\n",
      "C:\\Users\\hp\\Anaconda3\\envs\\wbvenv36\\lib\\site-packages\\tensorboard\\compat\\tensorflow_stub\\dtypes.py:543: FutureWarning: Passing (type, 1) or '1type' as a synonym of type is deprecated; in a future version of numpy, it will be understood as (type, (1,)) / '(1,)type'.\n",
      "  _np_qint16 = np.dtype([(\"qint16\", np.int16, 1)])\n",
      "C:\\Users\\hp\\Anaconda3\\envs\\wbvenv36\\lib\\site-packages\\tensorboard\\compat\\tensorflow_stub\\dtypes.py:544: FutureWarning: Passing (type, 1) or '1type' as a synonym of type is deprecated; in a future version of numpy, it will be understood as (type, (1,)) / '(1,)type'.\n",
      "  _np_quint16 = np.dtype([(\"quint16\", np.uint16, 1)])\n",
      "C:\\Users\\hp\\Anaconda3\\envs\\wbvenv36\\lib\\site-packages\\tensorboard\\compat\\tensorflow_stub\\dtypes.py:545: FutureWarning: Passing (type, 1) or '1type' as a synonym of type is deprecated; in a future version of numpy, it will be understood as (type, (1,)) / '(1,)type'.\n",
      "  _np_qint32 = np.dtype([(\"qint32\", np.int32, 1)])\n",
      "C:\\Users\\hp\\Anaconda3\\envs\\wbvenv36\\lib\\site-packages\\tensorboard\\compat\\tensorflow_stub\\dtypes.py:550: FutureWarning: Passing (type, 1) or '1type' as a synonym of type is deprecated; in a future version of numpy, it will be understood as (type, (1,)) / '(1,)type'.\n",
      "  np_resource = np.dtype([(\"resource\", np.ubyte, 1)])\n",
      "Using TensorFlow backend.\n"
     ]
    }
   ],
   "source": [
    "from __future__ import print_function\n",
    "\n",
    "import numpy as np\n",
    "from random import shuffle\n",
    "import time\n",
    "import csv\n",
    "from PIL import Image\n",
    "import os\n",
    "import tensorflow as tf\n",
    "import keras\n",
    "from keras.callbacks import EarlyStopping, LearningRateScheduler\n",
    "from keras import initializers\n",
    "from keras.optimizers import SGD\n",
    "from keras.preprocessing import sequence\n",
    "from keras.utils import np_utils\n",
    "from keras.models import Sequential,load_model,Model\n",
    "from keras.layers import Dense, Dropout, Activation, Flatten\n",
    "from keras.layers import *\n",
    "from keras.callbacks import CSVLogger\n",
    "from keras import callbacks\n",
    "from keras.preprocessing.image import ImageDataGenerator\n",
    "\n",
    "from sklearn.metrics import classification_report\n",
    "from sklearn.model_selection import train_test_split\n",
    "import sklearn.metrics as sklm\n",
    "import sys\n",
    "sys.path.insert(0,'..')\n",
    "from utils import lossprettifier\n",
    "from Classifier.VGG_zmiana3 import *"
   ]
  },
  {
   "cell_type": "code",
   "execution_count": 7,
   "metadata": {},
   "outputs": [],
   "source": [
    "# for reproducibility\n",
    "np.random.seed(3768)\n",
    "\n",
    "# use this environment flag to change which GPU to use \n",
    "os.environ[\"CUDA_DEVICE_ORDER\"]=\"PCI_BUS_ID\"\n",
    "os.environ[\"CUDA_VISIBLE_DEVICES\"]=\"0\"  # specify which GPU(s) to be used\n",
    "\n",
    "#Get TensorFlow session\n",
    "def get_session(): \n",
    "  config = tf.ConfigProto() \n",
    "  config.gpu_options.allow_growth = True \n",
    "  return tf.Session(config=config) \n",
    "  \n",
    "# One hot encoding of labels \n",
    "def dense_to_one_hot(labels_dense,num_clases=4):\n",
    "  return np.eye(num_clases)[labels_dense]"
   ]
  },
  {
   "cell_type": "code",
   "execution_count": 8,
   "metadata": {},
   "outputs": [],
   "source": [
    "# Preparing training and test sets\n",
    "x_train, x_valid, y_train, y_valid = train_test_split(x_train, y_train, test_size=0.10, random_state=42)"
   ]
  },
  {
   "cell_type": "code",
   "execution_count": 9,
   "metadata": {},
   "outputs": [],
   "source": [
    "y_train = dense_to_one_hot(y_train,num_clases=3)\n",
    "y_valid= dense_to_one_hot(y_valid,num_clases=3)"
   ]
  },
  {
   "cell_type": "code",
   "execution_count": 10,
   "metadata": {},
   "outputs": [
    {
     "name": "stderr",
     "output_type": "stream",
     "text": [
      "C:\\Users\\hp\\Anaconda3\\envs\\wbvenv36\\lib\\site-packages\\keras_preprocessing\\image\\image_data_generator.py:349: UserWarning: This ImageDataGenerator specifies `featurewise_std_normalization`, which overrides setting of `featurewise_center`.\n",
      "  warnings.warn('This ImageDataGenerator specifies '\n"
     ]
    }
   ],
   "source": [
    "#Image data generation for the training \n",
    "datagen = ImageDataGenerator(\n",
    "               featurewise_center = False, \n",
    "               samplewise_center = False,  # set each sample mean to 0\n",
    "               featurewise_std_normalization = True,  \n",
    "               samplewise_std_normalization = False)  \n",
    "\n",
    "datagen.fit(x_train) \n",
    "for i in range(len(x_test)):\n",
    "      x_test[i] = datagen.standardize(x_test[i])"
   ]
  },
  {
   "cell_type": "code",
   "execution_count": 11,
   "metadata": {
    "scrolled": true
   },
   "outputs": [
    {
     "name": "stdout",
     "output_type": "stream",
     "text": [
      "WARNING:tensorflow:From C:\\Users\\hp\\AppData\\Roaming\\Python\\Python36\\site-packages\\keras\\backend\\tensorflow_backend.py:4070: The name tf.nn.max_pool is deprecated. Please use tf.nn.max_pool2d instead.\n",
      "\n",
      "WARNING:tensorflow:From C:\\Users\\hp\\AppData\\Roaming\\Python\\Python36\\site-packages\\keras\\backend\\tensorflow_backend.py:422: The name tf.global_variables is deprecated. Please use tf.compat.v1.global_variables instead.\n",
      "\n",
      "Epoch 1/50\n",
      "32/32 [==============================] - 3s 106ms/step - loss: 1.0872 - accuracy: 0.3604 - val_loss: 1.0359 - val_accuracy: 0.5609\n",
      "Epoch 2/50\n",
      "32/32 [==============================] - 1s 44ms/step - loss: 1.0662 - accuracy: 0.4219 - val_loss: 1.1592 - val_accuracy: 0.4691\n",
      "Epoch 3/50\n",
      "32/32 [==============================] - 2s 54ms/step - loss: 1.0192 - accuracy: 0.5064 - val_loss: 0.7917 - val_accuracy: 0.5669\n",
      "Epoch 4/50\n",
      "32/32 [==============================] - 2s 48ms/step - loss: 0.9814 - accuracy: 0.5371 - val_loss: 0.9687 - val_accuracy: 0.5309\n",
      "Epoch 5/50\n",
      "32/32 [==============================] - 1s 47ms/step - loss: 0.9548 - accuracy: 0.5488 - val_loss: 0.7179 - val_accuracy: 0.6008\n",
      "Epoch 6/50\n",
      "32/32 [==============================] - 1s 46ms/step - loss: 0.8965 - accuracy: 0.5908 - val_loss: 0.6715 - val_accuracy: 0.5788\n",
      "Epoch 7/50\n",
      "32/32 [==============================] - 1s 45ms/step - loss: 0.9032 - accuracy: 0.5879 - val_loss: 0.8354 - val_accuracy: 0.6108\n",
      "Epoch 8/50\n",
      "32/32 [==============================] - 1s 44ms/step - loss: 0.8412 - accuracy: 0.6405 - val_loss: 0.5923 - val_accuracy: 0.6527\n",
      "Epoch 9/50\n",
      "32/32 [==============================] - 1s 47ms/step - loss: 0.7960 - accuracy: 0.6670 - val_loss: 0.7710 - val_accuracy: 0.6088\n",
      "Epoch 10/50\n",
      "32/32 [==============================] - 1s 44ms/step - loss: 0.8025 - accuracy: 0.6543 - val_loss: 0.5264 - val_accuracy: 0.6627\n",
      "Epoch 11/50\n",
      "32/32 [==============================] - 1s 44ms/step - loss: 0.7412 - accuracy: 0.6807 - val_loss: 0.7535 - val_accuracy: 0.6687\n",
      "Epoch 12/50\n",
      "32/32 [==============================] - 1s 44ms/step - loss: 0.7825 - accuracy: 0.6641 - val_loss: 0.7121 - val_accuracy: 0.7285\n",
      "Epoch 13/50\n",
      "32/32 [==============================] - 1s 45ms/step - loss: 0.7861 - accuracy: 0.6670 - val_loss: 0.7707 - val_accuracy: 0.7086\n",
      "Epoch 14/50\n",
      "32/32 [==============================] - 1s 45ms/step - loss: 0.7552 - accuracy: 0.6846 - val_loss: 0.5087 - val_accuracy: 0.7246\n",
      "Epoch 15/50\n",
      "32/32 [==============================] - 1s 44ms/step - loss: 0.7879 - accuracy: 0.6465 - val_loss: 0.8439 - val_accuracy: 0.7265\n",
      "Epoch 16/50\n",
      "32/32 [==============================] - 1s 44ms/step - loss: 0.7135 - accuracy: 0.7002 - val_loss: 0.5750 - val_accuracy: 0.7146\n",
      "Epoch 17/50\n",
      "32/32 [==============================] - 1s 44ms/step - loss: 0.7367 - accuracy: 0.6943 - val_loss: 0.5390 - val_accuracy: 0.6906\n",
      "Epoch 18/50\n",
      "32/32 [==============================] - 1s 46ms/step - loss: 0.6893 - accuracy: 0.7150 - val_loss: 0.9083 - val_accuracy: 0.7605\n",
      "Epoch 19/50\n",
      "32/32 [==============================] - 1s 45ms/step - loss: 0.7799 - accuracy: 0.6709 - val_loss: 0.7250 - val_accuracy: 0.6747\n",
      "Epoch 20/50\n",
      "32/32 [==============================] - 1s 44ms/step - loss: 0.7294 - accuracy: 0.7041 - val_loss: 0.6680 - val_accuracy: 0.7106\n",
      "Epoch 21/50\n",
      "32/32 [==============================] - 1s 45ms/step - loss: 0.6728 - accuracy: 0.7256 - val_loss: 0.6986 - val_accuracy: 0.7465\n",
      "Epoch 22/50\n",
      "32/32 [==============================] - 1s 45ms/step - loss: 0.6982 - accuracy: 0.6875 - val_loss: 0.6589 - val_accuracy: 0.7285\n",
      "Epoch 23/50\n",
      "32/32 [==============================] - 1s 46ms/step - loss: 0.7625 - accuracy: 0.6572 - val_loss: 0.7012 - val_accuracy: 0.7166\n",
      "Epoch 24/50\n",
      "32/32 [==============================] - 1s 44ms/step - loss: 0.6927 - accuracy: 0.7256 - val_loss: 0.4017 - val_accuracy: 0.7784\n",
      "Epoch 25/50\n",
      "32/32 [==============================] - 1s 44ms/step - loss: 0.6709 - accuracy: 0.7295 - val_loss: 0.4659 - val_accuracy: 0.7665\n",
      "Epoch 26/50\n",
      "32/32 [==============================] - 1s 45ms/step - loss: 0.6102 - accuracy: 0.7500 - val_loss: 0.3867 - val_accuracy: 0.7545\n",
      "Epoch 27/50\n",
      "32/32 [==============================] - 1s 47ms/step - loss: 0.6716 - accuracy: 0.7275 - val_loss: 0.3817 - val_accuracy: 0.7625\n",
      "Epoch 28/50\n",
      "32/32 [==============================] - 1s 44ms/step - loss: 0.5944 - accuracy: 0.7637 - val_loss: 0.5476 - val_accuracy: 0.7705\n",
      "Epoch 29/50\n",
      "32/32 [==============================] - 1s 46ms/step - loss: 0.5964 - accuracy: 0.7679 - val_loss: 0.8538 - val_accuracy: 0.7685\n",
      "Epoch 30/50\n",
      "32/32 [==============================] - 2s 47ms/step - loss: 0.6517 - accuracy: 0.7246 - val_loss: 0.4660 - val_accuracy: 0.8064\n",
      "Epoch 31/50\n",
      "32/32 [==============================] - 1s 47ms/step - loss: 0.6094 - accuracy: 0.7529 - val_loss: 0.3497 - val_accuracy: 0.7585\n",
      "Epoch 32/50\n",
      "32/32 [==============================] - 1s 44ms/step - loss: 0.6093 - accuracy: 0.7483 - val_loss: 0.2723 - val_accuracy: 0.7764\n",
      "Epoch 33/50\n",
      "32/32 [==============================] - 1s 44ms/step - loss: 0.6735 - accuracy: 0.7373 - val_loss: 0.9234 - val_accuracy: 0.7126\n",
      "Epoch 34/50\n",
      "32/32 [==============================] - 1s 44ms/step - loss: 0.6762 - accuracy: 0.7051 - val_loss: 0.7930 - val_accuracy: 0.7405\n",
      "Epoch 35/50\n",
      "32/32 [==============================] - 1s 46ms/step - loss: 0.6445 - accuracy: 0.7256 - val_loss: 0.6911 - val_accuracy: 0.7625\n",
      "Epoch 36/50\n",
      "32/32 [==============================] - 2s 49ms/step - loss: 0.6626 - accuracy: 0.7199 - val_loss: 0.4987 - val_accuracy: 0.7625\n",
      "Epoch 37/50\n",
      "32/32 [==============================] - 1s 45ms/step - loss: 0.5737 - accuracy: 0.7607 - val_loss: 0.3932 - val_accuracy: 0.7545\n",
      "Epoch 38/50\n",
      "32/32 [==============================] - 1s 44ms/step - loss: 0.6306 - accuracy: 0.7305 - val_loss: 0.8437 - val_accuracy: 0.7465\n",
      "Epoch 39/50\n",
      "32/32 [==============================] - 1s 44ms/step - loss: 0.6538 - accuracy: 0.7207 - val_loss: 0.3913 - val_accuracy: 0.7505\n",
      "Epoch 40/50\n",
      "32/32 [==============================] - 1s 47ms/step - loss: 0.6548 - accuracy: 0.7295 - val_loss: 0.5102 - val_accuracy: 0.7425\n",
      "Epoch 41/50\n",
      "32/32 [==============================] - 1s 45ms/step - loss: 0.6590 - accuracy: 0.7080 - val_loss: 0.8505 - val_accuracy: 0.7146\n",
      "Epoch 42/50\n",
      "32/32 [==============================] - 1s 45ms/step - loss: 0.7169 - accuracy: 0.6904 - val_loss: 0.6493 - val_accuracy: 0.7565\n",
      "Epoch 43/50\n",
      "32/32 [==============================] - 1s 45ms/step - loss: 0.6284 - accuracy: 0.7480 - val_loss: 0.8030 - val_accuracy: 0.7525\n",
      "Epoch 44/50\n",
      "32/32 [==============================] - 1s 45ms/step - loss: 0.6361 - accuracy: 0.7568 - val_loss: 0.7669 - val_accuracy: 0.7445\n",
      "Epoch 45/50\n",
      "32/32 [==============================] - 1s 45ms/step - loss: 0.6803 - accuracy: 0.7189 - val_loss: 0.6891 - val_accuracy: 0.7525\n",
      "Epoch 46/50\n",
      "32/32 [==============================] - 1s 45ms/step - loss: 0.6646 - accuracy: 0.7197 - val_loss: 0.5371 - val_accuracy: 0.7505\n",
      "Epoch 47/50\n",
      "32/32 [==============================] - 1s 45ms/step - loss: 0.7626 - accuracy: 0.6729 - val_loss: 0.6869 - val_accuracy: 0.7425\n",
      "Epoch 48/50\n",
      "32/32 [==============================] - 1s 44ms/step - loss: 0.6351 - accuracy: 0.7405 - val_loss: 0.4900 - val_accuracy: 0.7465\n",
      "Epoch 49/50\n",
      "32/32 [==============================] - 2s 47ms/step - loss: 0.6441 - accuracy: 0.7354 - val_loss: 0.6055 - val_accuracy: 0.7166\n",
      "Epoch 50/50\n",
      "32/32 [==============================] - 1s 45ms/step - loss: 0.6926 - accuracy: 0.7090 - val_loss: 0.7261 - val_accuracy: 0.7605\n"
     ]
    }
   ],
   "source": [
    "#Defining hyperparameters\n",
    "batch_Size = 32\n",
    "steps_Per_Epoch = 32\n",
    "numEpochs = 50\n",
    "\n",
    "#Instantating VGG19 model\n",
    "model = VGG19((224,224,3),classes=3) #VGG19_dense for revised VGG19, VGG19 for VGG19. Please pay attention to VGG16(), chnage the input shape and class number in VGG.py.\n",
    "\n",
    "#Creating an optimizers\n",
    "adaDelta = keras.optimizers.Adadelta(lr=1.0, rho=0.95)\n",
    "sgd = SGD(lr=0.01, decay=1e-6, momentum=0.95, nesterov=True)\n",
    "model.compile(optimizer = sgd , loss = 'categorical_crossentropy', metrics = ['accuracy'])\n",
    "\n",
    "#Creating early stopping \n",
    "earlystop = EarlyStopping(monitor = 'val_accuracy', min_delta = 0, patience = 50, verbose = 1, mode = 'auto', restore_best_weights = True)       \n",
    "\n",
    "train_generator = datagen.flow(x_train, y_train, batch_size = batch_Size)\n",
    "validation_generator = datagen.flow(x_valid, y_valid, batch_size = batch_Size)\n",
    "\n",
    "# Model training\n",
    "history = model.fit_generator(\n",
    "    train_generator,\n",
    "    steps_per_epoch = steps_Per_Epoch,\n",
    "    validation_data = validation_generator, \n",
    "    validation_steps = 16,\n",
    "    epochs = numEpochs,\n",
    "    shuffle = True, \n",
    "    verbose = 1)"
   ]
  },
  {
   "cell_type": "code",
   "execution_count": 12,
   "metadata": {},
   "outputs": [],
   "source": [
    "modelPath = \"VGG19_COVID19.h5\"\n",
    "resultPath = 'VGG19_COVID19.txt'"
   ]
  },
  {
   "cell_type": "code",
   "execution_count": 13,
   "metadata": {},
   "outputs": [
    {
     "name": "stdout",
     "output_type": "stream",
     "text": [
      "Epoch     0 | LossA: 1.09(+0.00%) \u001b[0m\t| LossAB: 1.04(+0.00%) \u001b[0m\t\n",
      "Epoch     1 | LossA: \u001b[32m1.07(-1.93%) ▼\u001b[0m\t| LossAB: \u001b[91m1.16(+11.90%) ▲\u001b[0m\t\n",
      "Epoch     2 | LossA: \u001b[32m1.02(-4.40%) ▼\u001b[0m\t| LossAB: \u001b[32m0.79(-31.70%) ▼\u001b[0m\t\n",
      "Epoch     3 | LossA: \u001b[32m0.98(-3.71%) ▼\u001b[0m\t| LossAB: \u001b[91m0.97(+22.35%) ▲\u001b[0m\t\n",
      "Epoch     4 | LossA: \u001b[32m0.95(-2.71%) ▼\u001b[0m\t| LossAB: \u001b[32m0.72(-25.89%) ▼\u001b[0m\t\n",
      "Epoch     5 | LossA: \u001b[32m0.90(-6.11%) ▼\u001b[0m\t| LossAB: \u001b[32m0.67(-6.46%) ▼\u001b[0m\t\n",
      "Epoch     6 | LossA: \u001b[91m0.90(+0.75%) ▲\u001b[0m\t| LossAB: \u001b[91m0.84(+24.39%) ▲\u001b[0m\t\n",
      "Epoch     7 | LossA: \u001b[32m0.84(-6.90%) ▼\u001b[0m\t| LossAB: \u001b[32m0.59(-29.10%) ▼\u001b[0m\t\n",
      "Epoch     8 | LossA: \u001b[32m0.80(-5.34%) ▼\u001b[0m\t| LossAB: \u001b[91m0.77(+30.17%) ▲\u001b[0m\t\n",
      "Epoch     9 | LossA: \u001b[91m0.80(+0.75%) ▲\u001b[0m\t| LossAB: \u001b[32m0.53(-31.73%) ▼\u001b[0m\t\n",
      "Epoch    10 | LossA: \u001b[32m0.74(-7.58%) ▼\u001b[0m\t| LossAB: \u001b[91m0.75(+43.14%) ▲\u001b[0m\t\n",
      "Epoch    11 | LossA: \u001b[91m0.78(+5.57%) ▲\u001b[0m\t| LossAB: \u001b[32m0.71(-5.49%) ▼\u001b[0m\t\n",
      "Epoch    12 | LossA: \u001b[91m0.79(+0.46%) ▲\u001b[0m\t| LossAB: \u001b[91m0.77(+8.23%) ▲\u001b[0m\t\n",
      "Epoch    13 | LossA: \u001b[32m0.76(-3.93%) ▼\u001b[0m\t| LossAB: \u001b[32m0.51(-33.99%) ▼\u001b[0m\t\n",
      "Epoch    14 | LossA: \u001b[91m0.79(+4.34%) ▲\u001b[0m\t| LossAB: \u001b[91m0.84(+65.88%) ▲\u001b[0m\t\n",
      "Epoch    15 | LossA: \u001b[32m0.71(-9.44%) ▼\u001b[0m\t| LossAB: \u001b[32m0.57(-31.86%) ▼\u001b[0m\t\n",
      "Epoch    16 | LossA: \u001b[91m0.74(+3.25%) ▲\u001b[0m\t| LossAB: \u001b[32m0.54(-6.27%) ▼\u001b[0m\t\n",
      "Epoch    17 | LossA: \u001b[32m0.69(-6.34%) ▼\u001b[0m\t| LossAB: \u001b[91m0.91(+68.53%) ▲\u001b[0m\t\n",
      "Epoch    18 | LossA: \u001b[91m0.78(+13.09%) ▲\u001b[0m\t| LossAB: \u001b[32m0.72(-20.18%) ▼\u001b[0m\t\n",
      "Epoch    19 | LossA: \u001b[32m0.73(-6.52%) ▼\u001b[0m\t| LossAB: \u001b[32m0.67(-7.86%) ▼\u001b[0m\t\n",
      "Epoch    20 | LossA: \u001b[32m0.67(-7.76%) ▼\u001b[0m\t| LossAB: \u001b[91m0.70(+4.57%) ▲\u001b[0m\t\n",
      "Epoch    21 | LossA: \u001b[91m0.70(+3.78%) ▲\u001b[0m\t| LossAB: \u001b[32m0.66(-5.68%) ▼\u001b[0m\t\n",
      "Epoch    22 | LossA: \u001b[91m0.76(+9.18%) ▲\u001b[0m\t| LossAB: \u001b[91m0.70(+6.43%) ▲\u001b[0m\t\n",
      "Epoch    23 | LossA: \u001b[32m0.69(-9.14%) ▼\u001b[0m\t| LossAB: \u001b[32m0.40(-42.72%) ▼\u001b[0m\t\n",
      "Epoch    24 | LossA: \u001b[32m0.67(-3.15%) ▼\u001b[0m\t| LossAB: \u001b[91m0.47(+15.99%) ▲\u001b[0m\t\n",
      "Epoch    25 | LossA: \u001b[32m0.61(-9.04%) ▼\u001b[0m\t| LossAB: \u001b[32m0.39(-17.00%) ▼\u001b[0m\t\n",
      "Epoch    26 | LossA: \u001b[91m0.67(+10.07%) ▲\u001b[0m\t| LossAB: \u001b[32m0.38(-1.29%) ▼\u001b[0m\t\n",
      "Epoch    27 | LossA: \u001b[32m0.59(-11.49%) ▼\u001b[0m\t| LossAB: \u001b[91m0.55(+43.46%) ▲\u001b[0m\t\n",
      "Epoch    28 | LossA: \u001b[91m0.60(+0.43%) ▲\u001b[0m\t| LossAB: \u001b[91m0.85(+55.93%) ▲\u001b[0m\t\n",
      "Epoch    29 | LossA: \u001b[91m0.65(+9.16%) ▲\u001b[0m\t| LossAB: \u001b[32m0.47(-45.42%) ▼\u001b[0m\t\n",
      "Epoch    30 | LossA: \u001b[32m0.61(-6.49%) ▼\u001b[0m\t| LossAB: \u001b[32m0.35(-24.96%) ▼\u001b[0m\t\n",
      "Epoch    31 | LossA: \u001b[91m0.61(+0.03%) ▲\u001b[0m\t| LossAB: \u001b[32m0.27(-22.13%) ▼\u001b[0m\t\n",
      "Epoch    32 | LossA: \u001b[91m0.67(+10.49%) ▲\u001b[0m\t| LossAB: \u001b[91m0.92(+239.15%) ▲\u001b[0m\t\n",
      "Epoch    33 | LossA: \u001b[91m0.68(+0.40%) ▲\u001b[0m\t| LossAB: \u001b[32m0.79(-14.12%) ▼\u001b[0m\t\n",
      "Epoch    34 | LossA: \u001b[32m0.64(-4.68%) ▼\u001b[0m\t| LossAB: \u001b[32m0.69(-12.85%) ▼\u001b[0m\t\n",
      "Epoch    35 | LossA: \u001b[91m0.66(+2.79%) ▲\u001b[0m\t| LossAB: \u001b[32m0.50(-27.84%) ▼\u001b[0m\t\n",
      "Epoch    36 | LossA: \u001b[32m0.57(-13.40%) ▼\u001b[0m\t| LossAB: \u001b[32m0.39(-21.15%) ▼\u001b[0m\t\n",
      "Epoch    37 | LossA: \u001b[91m0.63(+9.92%) ▲\u001b[0m\t| LossAB: \u001b[91m0.84(+114.56%) ▲\u001b[0m\t\n",
      "Epoch    38 | LossA: \u001b[91m0.65(+3.67%) ▲\u001b[0m\t| LossAB: \u001b[32m0.39(-53.62%) ▼\u001b[0m\t\n",
      "Epoch    39 | LossA: \u001b[91m0.65(+0.16%) ▲\u001b[0m\t| LossAB: \u001b[91m0.51(+30.38%) ▲\u001b[0m\t\n",
      "Epoch    40 | LossA: \u001b[91m0.66(+0.64%) ▲\u001b[0m\t| LossAB: \u001b[91m0.85(+66.71%) ▲\u001b[0m\t\n",
      "Epoch    41 | LossA: \u001b[91m0.72(+8.79%) ▲\u001b[0m\t| LossAB: \u001b[32m0.65(-23.66%) ▼\u001b[0m\t\n",
      "Epoch    42 | LossA: \u001b[32m0.63(-12.35%) ▼\u001b[0m\t| LossAB: \u001b[91m0.80(+23.67%) ▲\u001b[0m\t\n",
      "Epoch    43 | LossA: \u001b[91m0.64(+1.22%) ▲\u001b[0m\t| LossAB: \u001b[32m0.77(-4.50%) ▼\u001b[0m\t\n",
      "Epoch    44 | LossA: \u001b[91m0.68(+6.98%) ▲\u001b[0m\t| LossAB: \u001b[32m0.69(-10.14%) ▼\u001b[0m\t\n",
      "Epoch    45 | LossA: \u001b[32m0.66(-2.33%) ▼\u001b[0m\t| LossAB: \u001b[32m0.54(-22.06%) ▼\u001b[0m\t\n",
      "Epoch    46 | LossA: \u001b[91m0.76(+14.75%) ▲\u001b[0m\t| LossAB: \u001b[91m0.69(+27.88%) ▲\u001b[0m\t\n",
      "Epoch    47 | LossA: \u001b[32m0.64(-16.68%) ▼\u001b[0m\t| LossAB: \u001b[32m0.49(-28.67%) ▼\u001b[0m\t\n",
      "Epoch    48 | LossA: \u001b[91m0.64(+1.36%) ▲\u001b[0m\t| LossAB: \u001b[91m0.61(+23.58%) ▲\u001b[0m\t\n",
      "300/300 [==============================] - 0s 1ms/step\n",
      "Accuracy: 0.7799999713897705\n"
     ]
    }
   ],
   "source": [
    "y_test_oh = dense_to_one_hot(y_test, num_clases=3)\n",
    "\n",
    "# visualizing losses and accuracy\n",
    "train_loss = history.history['loss']\n",
    "val_loss = history.history['val_loss']\n",
    "\n",
    "#Observing the losses but can be commented out as it's not mandatory \n",
    "reporter = lossprettifier.LossPrettifier(show_percentage=True)\n",
    "\n",
    "for i in range(numEpochs-1):\n",
    "    reporter(epoch=i, LossA = train_loss[i], LossAB = val_loss[i])\n",
    "\n",
    "# Model evaluation \n",
    "score, acc = model.evaluate(x_test, y_test_oh, batch_size=batch_Size)\n",
    "print(\"Accuracy:\", acc)\n",
    "\n",
    "#if acc>0.675:\n",
    "model.save_weights(modelPath)"
   ]
  },
  {
   "cell_type": "code",
   "execution_count": 14,
   "metadata": {},
   "outputs": [
    {
     "name": "stdout",
     "output_type": "stream",
     "text": [
      "              precision    recall  f1-score   support\n",
      "\n",
      "           0       0.76      0.88      0.81       100\n",
      "           1       0.75      0.80      0.78       100\n",
      "           2       0.85      0.66      0.74       100\n",
      "\n",
      "    accuracy                           0.78       300\n",
      "   macro avg       0.79      0.78      0.78       300\n",
      "weighted avg       0.79      0.78      0.78       300\n",
      "\n"
     ]
    }
   ],
   "source": [
    "y_pred = model.predict(x_test)\n",
    "y_pred = y_pred.reshape(len(y_test), 3)\n",
    "y_pred = np.argmax(y_pred, axis=1)\n",
    "\n",
    "# Writing results on file\n",
    "f = open(resultPath,'a') #create classification report\n",
    "f.write(classification_report(y_test, y_pred))\n",
    "f.write(str(sklm.cohen_kappa_score(y_test, y_pred))+\",\"+str(acc)+\",\"+str(score)+\"\\n\")\n",
    "\n",
    "#Print class-wise classification metrics\n",
    "print(classification_report(y_test, y_pred))"
   ]
  },
  {
   "cell_type": "code",
   "execution_count": 15,
   "metadata": {},
   "outputs": [
    {
     "data": {
      "image/png": "[encoded data removed]",
      "text/plain": [
       "<Figure size 432x288 with 2 Axes>"
      ]
     },
     "metadata": {
      "needs_background": "light"
     },
     "output_type": "display_data"
    }
   ],
   "source": [
    "from sklearn.metrics import confusion_matrix, ConfusionMatrixDisplay\n",
    "cm = confusion_matrix(y_test, y_pred)\n",
    "disp = ConfusionMatrixDisplay(confusion_matrix=cm, display_labels=np.array(['normal', 'COVID19', 'pneumonia']))\n",
    "disp.plot(cmap='Blues') \n",
    "disp.ax_.get_images()[0].set_clim(0, 100)"
   ]
  },
  {
   "cell_type": "code",
   "execution_count": 16,
   "metadata": {},
   "outputs": [],
   "source": [
    "f.close()"
   ]
  }
 ],
 "metadata": {
  "kernelspec": {
   "display_name": "wbvenv36",
   "language": "python",
   "name": "wbvenv36"
  },
  "language_info": {
   "codemirror_mode": {
    "name": "ipython",
    "version": 3
   },
   "file_extension": ".py",
   "mimetype": "text/x-python",
   "name": "python",
   "nbconvert_exporter": "python",
   "pygments_lexer": "ipython3",
   "version": "3.6.12"
  }
 },
 "nbformat": 4,
 "nbformat_minor": 2
}

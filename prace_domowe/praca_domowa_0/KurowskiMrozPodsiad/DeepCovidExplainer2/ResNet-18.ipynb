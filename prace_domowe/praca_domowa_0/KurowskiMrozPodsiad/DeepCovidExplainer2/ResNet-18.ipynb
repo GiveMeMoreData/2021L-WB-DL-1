{
 "cells": [
  {
   "cell_type": "code",
   "execution_count": 2,
   "metadata": {},
   "outputs": [],
   "source": [
    "import cv2\n",
    "import numpy as np\n",
    "import matplotlib.pyplot as plt\n",
    "import os"
   ]
  },
  {
   "cell_type": "code",
   "execution_count": 2,
   "metadata": {},
   "outputs": [
    {
     "name": "stderr",
     "output_type": "stream",
     "text": [
      "Using TensorFlow backend.\n",
      "C:\\Users\\Aleksander Podsiad\\.conda\\envs\\WB_env\\lib\\site-packages\\tensorflow\\python\\framework\\dtypes.py:516: FutureWarning: Passing (type, 1) or '1type' as a synonym of type is deprecated; in a future version of numpy, it will be understood as (type, (1,)) / '(1,)type'.\n",
      "  _np_qint8 = np.dtype([(\"qint8\", np.int8, 1)])\n",
      "C:\\Users\\Aleksander Podsiad\\.conda\\envs\\WB_env\\lib\\site-packages\\tensorflow\\python\\framework\\dtypes.py:517: FutureWarning: Passing (type, 1) or '1type' as a synonym of type is deprecated; in a future version of numpy, it will be understood as (type, (1,)) / '(1,)type'.\n",
      "  _np_quint8 = np.dtype([(\"quint8\", np.uint8, 1)])\n",
      "C:\\Users\\Aleksander Podsiad\\.conda\\envs\\WB_env\\lib\\site-packages\\tensorflow\\python\\framework\\dtypes.py:518: FutureWarning: Passing (type, 1) or '1type' as a synonym of type is deprecated; in a future version of numpy, it will be understood as (type, (1,)) / '(1,)type'.\n",
      "  _np_qint16 = np.dtype([(\"qint16\", np.int16, 1)])\n",
      "C:\\Users\\Aleksander Podsiad\\.conda\\envs\\WB_env\\lib\\site-packages\\tensorflow\\python\\framework\\dtypes.py:519: FutureWarning: Passing (type, 1) or '1type' as a synonym of type is deprecated; in a future version of numpy, it will be understood as (type, (1,)) / '(1,)type'.\n",
      "  _np_quint16 = np.dtype([(\"quint16\", np.uint16, 1)])\n",
      "C:\\Users\\Aleksander Podsiad\\.conda\\envs\\WB_env\\lib\\site-packages\\tensorflow\\python\\framework\\dtypes.py:520: FutureWarning: Passing (type, 1) or '1type' as a synonym of type is deprecated; in a future version of numpy, it will be understood as (type, (1,)) / '(1,)type'.\n",
      "  _np_qint32 = np.dtype([(\"qint32\", np.int32, 1)])\n",
      "C:\\Users\\Aleksander Podsiad\\.conda\\envs\\WB_env\\lib\\site-packages\\tensorflow\\python\\framework\\dtypes.py:525: FutureWarning: Passing (type, 1) or '1type' as a synonym of type is deprecated; in a future version of numpy, it will be understood as (type, (1,)) / '(1,)type'.\n",
      "  np_resource = np.dtype([(\"resource\", np.ubyte, 1)])\n",
      "C:\\Users\\Aleksander Podsiad\\.conda\\envs\\WB_env\\lib\\site-packages\\tensorboard\\compat\\tensorflow_stub\\dtypes.py:541: FutureWarning: Passing (type, 1) or '1type' as a synonym of type is deprecated; in a future version of numpy, it will be understood as (type, (1,)) / '(1,)type'.\n",
      "  _np_qint8 = np.dtype([(\"qint8\", np.int8, 1)])\n",
      "C:\\Users\\Aleksander Podsiad\\.conda\\envs\\WB_env\\lib\\site-packages\\tensorboard\\compat\\tensorflow_stub\\dtypes.py:542: FutureWarning: Passing (type, 1) or '1type' as a synonym of type is deprecated; in a future version of numpy, it will be understood as (type, (1,)) / '(1,)type'.\n",
      "  _np_quint8 = np.dtype([(\"quint8\", np.uint8, 1)])\n",
      "C:\\Users\\Aleksander Podsiad\\.conda\\envs\\WB_env\\lib\\site-packages\\tensorboard\\compat\\tensorflow_stub\\dtypes.py:543: FutureWarning: Passing (type, 1) or '1type' as a synonym of type is deprecated; in a future version of numpy, it will be understood as (type, (1,)) / '(1,)type'.\n",
      "  _np_qint16 = np.dtype([(\"qint16\", np.int16, 1)])\n",
      "C:\\Users\\Aleksander Podsiad\\.conda\\envs\\WB_env\\lib\\site-packages\\tensorboard\\compat\\tensorflow_stub\\dtypes.py:544: FutureWarning: Passing (type, 1) or '1type' as a synonym of type is deprecated; in a future version of numpy, it will be understood as (type, (1,)) / '(1,)type'.\n",
      "  _np_quint16 = np.dtype([(\"quint16\", np.uint16, 1)])\n",
      "C:\\Users\\Aleksander Podsiad\\.conda\\envs\\WB_env\\lib\\site-packages\\tensorboard\\compat\\tensorflow_stub\\dtypes.py:545: FutureWarning: Passing (type, 1) or '1type' as a synonym of type is deprecated; in a future version of numpy, it will be understood as (type, (1,)) / '(1,)type'.\n",
      "  _np_qint32 = np.dtype([(\"qint32\", np.int32, 1)])\n",
      "C:\\Users\\Aleksander Podsiad\\.conda\\envs\\WB_env\\lib\\site-packages\\tensorboard\\compat\\tensorflow_stub\\dtypes.py:550: FutureWarning: Passing (type, 1) or '1type' as a synonym of type is deprecated; in a future version of numpy, it will be understood as (type, (1,)) / '(1,)type'.\n",
      "  np_resource = np.dtype([(\"resource\", np.ubyte, 1)])\n"
     ]
    }
   ],
   "source": [
    "import sys\n",
    "sys.path.insert(0,'..')\n",
    "from utils import lossprettifier\n",
    "from Classifier.ResNet import *"
   ]
  },
  {
   "cell_type": "code",
   "execution_count": 3,
   "metadata": {},
   "outputs": [],
   "source": [
    "x_train = np.load('data/x_train.npy')\n",
    "y_train = np.load('data/y_train.npy')\n",
    "x_test = np.load('data/x_test.npy')\n",
    "y_test = np.load('data/y_test.npy')"
   ]
  },
  {
   "cell_type": "code",
   "execution_count": 4,
   "metadata": {
    "scrolled": true
   },
   "outputs": [
    {
     "data": {
      "text/plain": [
       "(30, 224, 224, 3)"
      ]
     },
     "execution_count": 4,
     "metadata": {},
     "output_type": "execute_result"
    }
   ],
   "source": [
    "x_test.shape"
   ]
  },
  {
   "cell_type": "code",
   "execution_count": 5,
   "metadata": {},
   "outputs": [],
   "source": [
    "#x_train /= 255????"
   ]
  },
  {
   "cell_type": "code",
   "execution_count": 6,
   "metadata": {},
   "outputs": [],
   "source": [
    "from __future__ import print_function\n",
    "\n",
    "import numpy as np\n",
    "from random import shuffle\n",
    "import time\n",
    "import csv\n",
    "from PIL import Image\n",
    "import os\n",
    "import tensorflow as tf\n",
    "import keras\n",
    "from keras.callbacks import EarlyStopping, LearningRateScheduler\n",
    "from keras import initializers\n",
    "from keras.optimizers import SGD\n",
    "from keras.preprocessing import sequence\n",
    "from keras.utils import np_utils\n",
    "from keras.models import Sequential,load_model,Model\n",
    "from keras.layers import Dense, Dropout, Activation, Flatten\n",
    "from keras.layers import *\n",
    "from keras.callbacks import CSVLogger\n",
    "from keras import callbacks\n",
    "from keras.preprocessing.image import ImageDataGenerator\n",
    "\n",
    "from sklearn.metrics import classification_report\n",
    "from sklearn.model_selection import train_test_split\n",
    "import sklearn.metrics as sklm\n",
    "#import lossprettifier\n",
    "#from ResNet import *"
   ]
  },
  {
   "cell_type": "code",
   "execution_count": 7,
   "metadata": {},
   "outputs": [],
   "source": [
    "# for reproducibility\n",
    "np.random.seed(3768)\n",
    "\n",
    "# use this environment flag to change which GPU to use \n",
    "os.environ[\"CUDA_DEVICE_ORDER\"]=\"PCI_BUS_ID\"\n",
    "os.environ[\"CUDA_VISIBLE_DEVICES\"]=\"0\"  # specify which GPU(s) to be used\n",
    "\n",
    "#Get TensorFlow session\n",
    "def get_session(): \n",
    "  config = tf.ConfigProto() \n",
    "  config.gpu_options.allow_growth = True \n",
    "  return tf.Session(config=config) \n",
    "  \n",
    "# One hot encoding of labels \n",
    "def dense_to_one_hot(labels_dense,num_clases=4):\n",
    "  return np.eye(num_clases)[labels_dense]"
   ]
  },
  {
   "cell_type": "code",
   "execution_count": 8,
   "metadata": {},
   "outputs": [],
   "source": [
    "# Preparing training and test sets\n",
    "x_train, x_valid, y_train, y_valid = train_test_split(x_train, y_train, test_size=0.10, random_state=42)"
   ]
  },
  {
   "cell_type": "code",
   "execution_count": 9,
   "metadata": {},
   "outputs": [],
   "source": [
    "y_train = dense_to_one_hot(y_train,num_clases=4)\n",
    "y_valid= dense_to_one_hot(y_valid,num_clases=4)"
   ]
  },
  {
   "cell_type": "code",
   "execution_count": 10,
   "metadata": {},
   "outputs": [
    {
     "name": "stderr",
     "output_type": "stream",
     "text": [
      "C:\\Users\\Aleksander Podsiad\\.conda\\envs\\WB_env\\lib\\site-packages\\keras_preprocessing\\image\\image_data_generator.py:349: UserWarning: This ImageDataGenerator specifies `featurewise_std_normalization`, which overrides setting of `featurewise_center`.\n",
      "  warnings.warn('This ImageDataGenerator specifies '\n"
     ]
    }
   ],
   "source": [
    "#Image data generation for the training \n",
    "datagen = ImageDataGenerator(\n",
    "               featurewise_center = False, \n",
    "               samplewise_center = False,  # set each sample mean to 0\n",
    "               featurewise_std_normalization = True,  \n",
    "               samplewise_std_normalization = False)  \n",
    "\n",
    "datagen.fit(x_train) \n",
    "for i in range(len(x_test)):\n",
    "      x_test[i] = datagen.standardize(x_test[i])"
   ]
  },
  {
   "cell_type": "code",
   "execution_count": 11,
   "metadata": {},
   "outputs": [
    {
     "name": "stdout",
     "output_type": "stream",
     "text": [
      "WARNING:tensorflow:From C:\\Users\\Aleksander Podsiad\\.conda\\envs\\WB_env\\lib\\site-packages\\keras\\backend\\tensorflow_backend.py:4070: The name tf.nn.max_pool is deprecated. Please use tf.nn.max_pool2d instead.\n",
      "\n",
      "reshaping via a convolution...\n",
      "reshaping via a convolution...\n",
      "reshaping via a convolution...\n",
      "reshaping via a convolution...\n",
      "WARNING:tensorflow:From C:\\Users\\Aleksander Podsiad\\.conda\\envs\\WB_env\\lib\\site-packages\\keras\\backend\\tensorflow_backend.py:422: The name tf.global_variables is deprecated. Please use tf.compat.v1.global_variables instead.\n",
      "\n",
      "Epoch 1/50\n",
      "32/32 [==============================] - 9s 283ms/step - loss: 3.8369 - accuracy: 0.6031 - val_loss: 166.7694 - val_accuracy: 0.4000\n",
      "Epoch 2/50\n",
      "32/32 [==============================] - 5s 150ms/step - loss: 3.2129 - accuracy: 0.9286 - val_loss: 91.9243 - val_accuracy: 0.3000\n",
      "Epoch 3/50\n",
      "32/32 [==============================] - 5s 148ms/step - loss: 2.9655 - accuracy: 0.9979 - val_loss: 44.9503 - val_accuracy: 0.3000\n",
      "Epoch 4/50\n",
      "32/32 [==============================] - 5s 149ms/step - loss: 2.9375 - accuracy: 0.9989 - val_loss: 24.7767 - val_accuracy: 0.3000\n",
      "Epoch 5/50\n",
      "32/32 [==============================] - 5s 150ms/step - loss: 2.9219 - accuracy: 1.0000 - val_loss: 10.7516 - val_accuracy: 0.4333\n",
      "Epoch 6/50\n",
      "32/32 [==============================] - 5s 151ms/step - loss: 2.9156 - accuracy: 1.0000 - val_loss: 5.6936 - val_accuracy: 0.6667\n",
      "Epoch 7/50\n",
      "32/32 [==============================] - 5s 149ms/step - loss: 2.9064 - accuracy: 1.0000 - val_loss: 5.4569 - val_accuracy: 0.6667\n",
      "Epoch 8/50\n",
      "32/32 [==============================] - 5s 149ms/step - loss: 2.9089 - accuracy: 0.9979 - val_loss: 4.8621 - val_accuracy: 0.6000\n",
      "Epoch 9/50\n",
      "32/32 [==============================] - 5s 150ms/step - loss: 2.9455 - accuracy: 0.9825 - val_loss: 4.7113 - val_accuracy: 0.6333\n",
      "Epoch 10/50\n",
      "32/32 [==============================] - 5s 151ms/step - loss: 2.9587 - accuracy: 0.9814 - val_loss: 5.0475 - val_accuracy: 0.5667\n",
      "Epoch 11/50\n",
      "32/32 [==============================] - 5s 146ms/step - loss: 2.9100 - accuracy: 0.9946 - val_loss: 4.4110 - val_accuracy: 0.7667\n",
      "Epoch 12/50\n",
      "32/32 [==============================] - 5s 150ms/step - loss: 2.8855 - accuracy: 0.9969 - val_loss: 4.4280 - val_accuracy: 0.7000\n",
      "Epoch 13/50\n",
      "32/32 [==============================] - 5s 149ms/step - loss: 2.8745 - accuracy: 0.9979 - val_loss: 4.4986 - val_accuracy: 0.7000\n",
      "Epoch 14/50\n",
      "32/32 [==============================] - 5s 150ms/step - loss: 2.8604 - accuracy: 1.0000 - val_loss: 4.1005 - val_accuracy: 0.7000\n",
      "Epoch 15/50\n",
      "32/32 [==============================] - 5s 150ms/step - loss: 2.8506 - accuracy: 1.0000 - val_loss: 4.2106 - val_accuracy: 0.7667\n",
      "Epoch 16/50\n",
      "32/32 [==============================] - 5s 151ms/step - loss: 2.8436 - accuracy: 1.0000 - val_loss: 3.9265 - val_accuracy: 0.7000\n",
      "Epoch 17/50\n",
      "32/32 [==============================] - 5s 151ms/step - loss: 2.8351 - accuracy: 1.0000 - val_loss: 3.7873 - val_accuracy: 0.7667\n",
      "Epoch 18/50\n",
      "32/32 [==============================] - 5s 149ms/step - loss: 2.8344 - accuracy: 0.9989 - val_loss: 4.9544 - val_accuracy: 0.6000\n",
      "Epoch 19/50\n",
      "32/32 [==============================] - 5s 153ms/step - loss: 2.8535 - accuracy: 0.9897 - val_loss: 5.4964 - val_accuracy: 0.6333\n",
      "Epoch 20/50\n",
      "32/32 [==============================] - 5s 150ms/step - loss: 2.8235 - accuracy: 0.9989 - val_loss: 5.0281 - val_accuracy: 0.6333\n",
      "Epoch 21/50\n",
      "32/32 [==============================] - 5s 150ms/step - loss: 2.8228 - accuracy: 0.9958 - val_loss: 4.2119 - val_accuracy: 0.6333\n",
      "Epoch 22/50\n",
      "32/32 [==============================] - 5s 149ms/step - loss: 2.8165 - accuracy: 0.9958 - val_loss: 4.0463 - val_accuracy: 0.7667\n",
      "Epoch 23/50\n",
      "32/32 [==============================] - 5s 148ms/step - loss: 2.8089 - accuracy: 0.9969 - val_loss: 4.4532 - val_accuracy: 0.7667\n",
      "Epoch 24/50\n",
      "32/32 [==============================] - 5s 150ms/step - loss: 2.8001 - accuracy: 0.9979 - val_loss: 4.6846 - val_accuracy: 0.6333\n",
      "Epoch 25/50\n",
      "32/32 [==============================] - 5s 150ms/step - loss: 2.7840 - accuracy: 1.0000 - val_loss: 4.6027 - val_accuracy: 0.6333\n",
      "Epoch 26/50\n",
      "32/32 [==============================] - 5s 151ms/step - loss: 2.7737 - accuracy: 1.0000 - val_loss: 4.4364 - val_accuracy: 0.6667\n",
      "Epoch 27/50\n",
      "32/32 [==============================] - 5s 150ms/step - loss: 2.7650 - accuracy: 1.0000 - val_loss: 4.2239 - val_accuracy: 0.7333\n",
      "Epoch 28/50\n",
      "32/32 [==============================] - 5s 152ms/step - loss: 2.7578 - accuracy: 1.0000 - val_loss: 4.1558 - val_accuracy: 0.7333\n",
      "Epoch 29/50\n",
      "32/32 [==============================] - 5s 149ms/step - loss: 2.7518 - accuracy: 1.0000 - val_loss: 4.0516 - val_accuracy: 0.7000\n",
      "Epoch 30/50\n",
      "32/32 [==============================] - 5s 150ms/step - loss: 2.7451 - accuracy: 1.0000 - val_loss: 4.1908 - val_accuracy: 0.7000\n",
      "Epoch 31/50\n",
      "32/32 [==============================] - 5s 151ms/step - loss: 2.7371 - accuracy: 1.0000 - val_loss: 4.3783 - val_accuracy: 0.7333\n",
      "Epoch 32/50\n",
      "32/32 [==============================] - 5s 149ms/step - loss: 2.7326 - accuracy: 0.9989 - val_loss: 4.3647 - val_accuracy: 0.6667\n",
      "Epoch 33/50\n",
      "32/32 [==============================] - 5s 150ms/step - loss: 2.7240 - accuracy: 1.0000 - val_loss: 4.0417 - val_accuracy: 0.7000\n",
      "Epoch 34/50\n",
      "32/32 [==============================] - 5s 151ms/step - loss: 2.7169 - accuracy: 1.0000 - val_loss: 3.9542 - val_accuracy: 0.7000\n",
      "Epoch 35/50\n",
      "32/32 [==============================] - 5s 151ms/step - loss: 2.7098 - accuracy: 1.0000 - val_loss: 3.8958 - val_accuracy: 0.7667\n",
      "Epoch 36/50\n",
      "32/32 [==============================] - 5s 150ms/step - loss: 2.7025 - accuracy: 1.0000 - val_loss: 3.9644 - val_accuracy: 0.8000\n",
      "Epoch 37/50\n",
      "32/32 [==============================] - 5s 148ms/step - loss: 2.6951 - accuracy: 1.0000 - val_loss: 4.0001 - val_accuracy: 0.7667\n",
      "Epoch 38/50\n",
      "32/32 [==============================] - 5s 152ms/step - loss: 2.6912 - accuracy: 1.0000 - val_loss: 3.8986 - val_accuracy: 0.7333\n",
      "Epoch 39/50\n",
      "32/32 [==============================] - 5s 150ms/step - loss: 2.6884 - accuracy: 0.9979 - val_loss: 3.7797 - val_accuracy: 0.7333\n",
      "Epoch 40/50\n",
      "32/32 [==============================] - 5s 149ms/step - loss: 2.6907 - accuracy: 0.9948 - val_loss: 4.8167 - val_accuracy: 0.6333\n",
      "Epoch 41/50\n",
      "32/32 [==============================] - 5s 149ms/step - loss: 2.6752 - accuracy: 0.9989 - val_loss: 4.3870 - val_accuracy: 0.7000\n",
      "Epoch 42/50\n",
      "32/32 [==============================] - 5s 149ms/step - loss: 2.7043 - accuracy: 0.9895 - val_loss: 6.1524 - val_accuracy: 0.6333\n",
      "Epoch 43/50\n",
      "32/32 [==============================] - 5s 150ms/step - loss: 2.6874 - accuracy: 0.9907 - val_loss: 4.6263 - val_accuracy: 0.7667\n",
      "Epoch 44/50\n",
      "32/32 [==============================] - 5s 149ms/step - loss: 2.6676 - accuracy: 0.9959 - val_loss: 4.1802 - val_accuracy: 0.7000\n",
      "Epoch 45/50\n",
      "32/32 [==============================] - 5s 150ms/step - loss: 2.6829 - accuracy: 0.9905 - val_loss: 4.6371 - val_accuracy: 0.6000\n",
      "Epoch 46/50\n",
      "32/32 [==============================] - 5s 147ms/step - loss: 2.6549 - accuracy: 0.9916 - val_loss: 4.7743 - val_accuracy: 0.6333\n",
      "Epoch 47/50\n",
      "32/32 [==============================] - 5s 153ms/step - loss: 2.6480 - accuracy: 0.9959 - val_loss: 5.5995 - val_accuracy: 0.6667\n",
      "Epoch 48/50\n",
      "32/32 [==============================] - 5s 150ms/step - loss: 2.6319 - accuracy: 0.9959 - val_loss: 5.4591 - val_accuracy: 0.6667\n",
      "Epoch 49/50\n",
      "32/32 [==============================] - 5s 148ms/step - loss: 2.6317 - accuracy: 0.9968 - val_loss: 5.3575 - val_accuracy: 0.6000\n",
      "Epoch 50/50\n",
      "32/32 [==============================] - 5s 150ms/step - loss: 2.6244 - accuracy: 0.9959 - val_loss: 4.5721 - val_accuracy: 0.5667\n"
     ]
    }
   ],
   "source": [
    "#Defining hyperparameters\n",
    "batch_Size = 32\n",
    "steps_Per_Epoch = 32\n",
    "numEpochs = 50\n",
    "\n",
    "#Instantating ResNet18 model\n",
    "model = ResNet18((224, 224, 3), 4) \n",
    "\n",
    "#Creating an optimizers\n",
    "adaDelta = keras.optimizers.Adadelta(lr=1.0, rho=0.95)\n",
    "sgd = SGD(lr=0.01, decay=1e-6, momentum=0.95, nesterov=True)\n",
    "model.compile(optimizer = sgd , loss = 'categorical_crossentropy', metrics = ['accuracy'])\n",
    "\n",
    "#Creating early stopping \n",
    "earlystop = EarlyStopping(monitor = 'val_accuracy', min_delta = 0, patience = 50, verbose = 1, mode = 'auto', restore_best_weights = True)       \n",
    "\n",
    "train_generator = datagen.flow(x_train, y_train, batch_size = batch_Size)\n",
    "validation_generator = datagen.flow(x_valid, y_valid, batch_size = batch_Size)\n",
    "\n",
    "# Model training\n",
    "history = model.fit_generator(\n",
    "    train_generator,\n",
    "    steps_per_epoch = steps_Per_Epoch,\n",
    "    validation_data = validation_generator, \n",
    "    validation_steps = 16,\n",
    "    epochs = numEpochs,\n",
    "    shuffle = True, \n",
    "    verbose = 1)"
   ]
  },
  {
   "cell_type": "code",
   "execution_count": 12,
   "metadata": {},
   "outputs": [],
   "source": [
    "modelPath = \"ResNet18_COVID19.h5\"\n",
    "resultPath = 'ResNet18_COVID19.txt'"
   ]
  },
  {
   "cell_type": "code",
   "execution_count": 13,
   "metadata": {},
   "outputs": [
    {
     "name": "stdout",
     "output_type": "stream",
     "text": [
      "Epoch     0 | LossA: 3.84(+0.00%) \u001b[0m\t| LossAB: 166.77(+0.00%) \u001b[0m\t\n",
      "Epoch     1 | LossA: \u001b[32m3.20(-16.60%) ▼\u001b[0m\t| LossAB: \u001b[32m91.92(-44.88%) ▼\u001b[0m\t\n",
      "Epoch     2 | LossA: \u001b[32m2.96(-7.42%) ▼\u001b[0m\t| LossAB: \u001b[32m44.95(-51.10%) ▼\u001b[0m\t\n",
      "Epoch     3 | LossA: \u001b[32m2.94(-0.93%) ▼\u001b[0m\t| LossAB: \u001b[32m24.78(-44.88%) ▼\u001b[0m\t\n",
      "Epoch     4 | LossA: \u001b[32m2.92(-0.50%) ▼\u001b[0m\t| LossAB: \u001b[32m10.75(-56.61%) ▼\u001b[0m\t\n",
      "Epoch     5 | LossA: \u001b[32m2.91(-0.25%) ▼\u001b[0m\t| LossAB: \u001b[32m5.69(-47.04%) ▼\u001b[0m\t\n",
      "Epoch     6 | LossA: \u001b[32m2.91(-0.30%) ▼\u001b[0m\t| LossAB: \u001b[32m5.46(-4.16%) ▼\u001b[0m\t\n",
      "Epoch     7 | LossA: \u001b[32m2.91(-0.00%) ▼\u001b[0m\t| LossAB: \u001b[32m4.86(-10.90%) ▼\u001b[0m\t\n",
      "Epoch     8 | LossA: \u001b[91m2.94(+1.22%) ▲\u001b[0m\t| LossAB: \u001b[32m4.71(-3.10%) ▼\u001b[0m\t\n",
      "Epoch     9 | LossA: \u001b[91m2.95(+0.27%) ▲\u001b[0m\t| LossAB: \u001b[91m5.05(+7.14%) ▲\u001b[0m\t\n",
      "Epoch    10 | LossA: \u001b[32m2.91(-1.44%) ▼\u001b[0m\t| LossAB: \u001b[32m4.41(-12.61%) ▼\u001b[0m\t\n",
      "Epoch    11 | LossA: \u001b[32m2.89(-0.73%) ▼\u001b[0m\t| LossAB: \u001b[91m4.43(+0.39%) ▲\u001b[0m\t\n",
      "Epoch    12 | LossA: \u001b[32m2.87(-0.40%) ▼\u001b[0m\t| LossAB: \u001b[91m4.50(+1.59%) ▲\u001b[0m\t\n",
      "Epoch    13 | LossA: \u001b[32m2.86(-0.49%) ▼\u001b[0m\t| LossAB: \u001b[32m4.10(-8.85%) ▼\u001b[0m\t\n",
      "Epoch    14 | LossA: \u001b[32m2.85(-0.35%) ▼\u001b[0m\t| LossAB: \u001b[91m4.21(+2.69%) ▲\u001b[0m\t\n",
      "Epoch    15 | LossA: \u001b[32m2.84(-0.25%) ▼\u001b[0m\t| LossAB: \u001b[32m3.93(-6.75%) ▼\u001b[0m\t\n",
      "Epoch    16 | LossA: \u001b[32m2.84(-0.28%) ▼\u001b[0m\t| LossAB: \u001b[32m3.79(-3.55%) ▼\u001b[0m\t\n",
      "Epoch    17 | LossA: \u001b[32m2.83(-0.06%) ▼\u001b[0m\t| LossAB: \u001b[91m4.95(+30.82%) ▲\u001b[0m\t\n",
      "Epoch    18 | LossA: \u001b[91m2.85(+0.74%) ▲\u001b[0m\t| LossAB: \u001b[91m5.50(+10.94%) ▲\u001b[0m\t\n",
      "Epoch    19 | LossA: \u001b[32m2.82(-1.11%) ▼\u001b[0m\t| LossAB: \u001b[32m5.03(-8.52%) ▼\u001b[0m\t\n",
      "Epoch    20 | LossA: \u001b[32m2.82(-0.15%) ▼\u001b[0m\t| LossAB: \u001b[32m4.21(-16.23%) ▼\u001b[0m\t\n",
      "Epoch    21 | LossA: \u001b[32m2.82(-0.06%) ▼\u001b[0m\t| LossAB: \u001b[32m4.05(-3.93%) ▼\u001b[0m\t\n",
      "Epoch    22 | LossA: \u001b[32m2.81(-0.36%) ▼\u001b[0m\t| LossAB: \u001b[91m4.45(+10.05%) ▲\u001b[0m\t\n",
      "Epoch    23 | LossA: \u001b[32m2.80(-0.24%) ▼\u001b[0m\t| LossAB: \u001b[91m4.68(+5.20%) ▲\u001b[0m\t\n",
      "Epoch    24 | LossA: \u001b[32m2.78(-0.56%) ▼\u001b[0m\t| LossAB: \u001b[32m4.60(-1.75%) ▼\u001b[0m\t\n",
      "Epoch    25 | LossA: \u001b[32m2.77(-0.38%) ▼\u001b[0m\t| LossAB: \u001b[32m4.44(-3.61%) ▼\u001b[0m\t\n",
      "Epoch    26 | LossA: \u001b[32m2.76(-0.32%) ▼\u001b[0m\t| LossAB: \u001b[32m4.22(-4.79%) ▼\u001b[0m\t\n",
      "Epoch    27 | LossA: \u001b[32m2.76(-0.26%) ▼\u001b[0m\t| LossAB: \u001b[32m4.16(-1.61%) ▼\u001b[0m\t\n",
      "Epoch    28 | LossA: \u001b[32m2.75(-0.23%) ▼\u001b[0m\t| LossAB: \u001b[32m4.05(-2.51%) ▼\u001b[0m\t\n",
      "Epoch    29 | LossA: \u001b[32m2.74(-0.23%) ▼\u001b[0m\t| LossAB: \u001b[91m4.19(+3.44%) ▲\u001b[0m\t\n",
      "Epoch    30 | LossA: \u001b[32m2.74(-0.29%) ▼\u001b[0m\t| LossAB: \u001b[91m4.38(+4.47%) ▲\u001b[0m\t\n",
      "Epoch    31 | LossA: \u001b[32m2.73(-0.15%) ▼\u001b[0m\t| LossAB: \u001b[32m4.36(-0.31%) ▼\u001b[0m\t\n",
      "Epoch    32 | LossA: \u001b[32m2.72(-0.34%) ▼\u001b[0m\t| LossAB: \u001b[32m4.04(-7.40%) ▼\u001b[0m\t\n",
      "Epoch    33 | LossA: \u001b[32m2.72(-0.24%) ▼\u001b[0m\t| LossAB: \u001b[32m3.95(-2.17%) ▼\u001b[0m\t\n",
      "Epoch    34 | LossA: \u001b[32m2.71(-0.27%) ▼\u001b[0m\t| LossAB: \u001b[32m3.90(-1.48%) ▼\u001b[0m\t\n",
      "Epoch    35 | LossA: \u001b[32m2.70(-0.27%) ▼\u001b[0m\t| LossAB: \u001b[91m3.96(+1.76%) ▲\u001b[0m\t\n",
      "Epoch    36 | LossA: \u001b[32m2.70(-0.27%) ▼\u001b[0m\t| LossAB: \u001b[91m4.00(+0.90%) ▲\u001b[0m\t\n",
      "Epoch    37 | LossA: \u001b[32m2.69(-0.19%) ▼\u001b[0m\t| LossAB: \u001b[32m3.90(-2.54%) ▼\u001b[0m\t\n",
      "Epoch    38 | LossA: \u001b[32m2.69(-0.09%) ▼\u001b[0m\t| LossAB: \u001b[32m3.78(-3.05%) ▼\u001b[0m\t\n",
      "Epoch    39 | LossA: \u001b[32m2.69(-0.00%) ▼\u001b[0m\t| LossAB: \u001b[91m4.82(+27.44%) ▲\u001b[0m\t\n",
      "Epoch    40 | LossA: \u001b[32m2.67(-0.53%) ▼\u001b[0m\t| LossAB: \u001b[32m4.39(-8.92%) ▼\u001b[0m\t\n",
      "Epoch    41 | LossA: \u001b[91m2.70(+0.83%) ▲\u001b[0m\t| LossAB: \u001b[91m6.15(+40.24%) ▲\u001b[0m\t\n",
      "Epoch    42 | LossA: \u001b[32m2.69(-0.24%) ▼\u001b[0m\t| LossAB: \u001b[32m4.63(-24.81%) ▼\u001b[0m\t\n",
      "Epoch    43 | LossA: \u001b[32m2.67(-0.84%) ▼\u001b[0m\t| LossAB: \u001b[32m4.18(-9.64%) ▼\u001b[0m\t\n",
      "Epoch    44 | LossA: \u001b[91m2.68(+0.34%) ▲\u001b[0m\t| LossAB: \u001b[91m4.64(+10.93%) ▲\u001b[0m\t\n",
      "Epoch    45 | LossA: \u001b[32m2.65(-0.77%) ▼\u001b[0m\t| LossAB: \u001b[91m4.77(+2.96%) ▲\u001b[0m\t\n",
      "Epoch    46 | LossA: \u001b[32m2.65(-0.28%) ▼\u001b[0m\t| LossAB: \u001b[91m5.60(+17.28%) ▲\u001b[0m\t\n",
      "Epoch    47 | LossA: \u001b[32m2.63(-0.58%) ▼\u001b[0m\t| LossAB: \u001b[32m5.46(-2.51%) ▼\u001b[0m\t\n",
      "Epoch    48 | LossA: \u001b[32m2.63(-0.10%) ▼\u001b[0m\t| LossAB: \u001b[32m5.36(-1.86%) ▼\u001b[0m\t\n",
      "30/30 [==============================] - 0s 2ms/step\n",
      "Accuracy: 0.800000011920929\n"
     ]
    }
   ],
   "source": [
    "# visualizing losses and accuracy\n",
    "train_loss = history.history['loss']\n",
    "val_loss = history.history['val_loss']\n",
    "\n",
    "y_test_oh = dense_to_one_hot(y_test,num_clases=4)\n",
    "\n",
    "#Observing the losses but can be commented out as it's not mandatory \n",
    "reporter = lossprettifier.LossPrettifier(show_percentage=True)\n",
    "\n",
    "for i in range(numEpochs-1):\n",
    "    reporter(epoch=i, LossA = train_loss[i], LossAB = val_loss[i])\n",
    "\n",
    "# Model evaluation \n",
    "score, acc = model.evaluate(x_test, y_test_oh, batch_size=batch_Size)\n",
    "print(\"Accuracy:\", acc)\n",
    "\n",
    "#if acc>0.675:\n",
    "model.save_weights(modelPath)"
   ]
  },
  {
   "cell_type": "code",
   "execution_count": 14,
   "metadata": {},
   "outputs": [
    {
     "name": "stdout",
     "output_type": "stream",
     "text": [
      "              precision    recall  f1-score   support\n",
      "\n",
      "           0       0.75      0.90      0.82        10\n",
      "           1       0.89      0.80      0.84        10\n",
      "           2       0.78      0.70      0.74        10\n",
      "\n",
      "    accuracy                           0.80        30\n",
      "   macro avg       0.81      0.80      0.80        30\n",
      "weighted avg       0.81      0.80      0.80        30\n",
      "\n"
     ]
    }
   ],
   "source": [
    "y_pred = model.predict(x_test)\n",
    "#y_pred = y_pred.reshape(len(y_test), 4)\n",
    "y_pred = np.argmax(y_pred, axis=1)\n",
    "\n",
    "# Writing results on file\n",
    "f = open(resultPath,'a') #create classification report\n",
    "f.write(classification_report(y_test, y_pred))\n",
    "f.write(str(sklm.cohen_kappa_score(y_test, y_pred))+\",\"+str(acc)+\",\"+str(score)+\"\\n\")\n",
    "\n",
    "#Print class-wise classification metrics\n",
    "print(classification_report(y_test, y_pred))"
   ]
  },
  {
   "cell_type": "code",
   "execution_count": 16,
   "metadata": {},
   "outputs": [],
   "source": [
    "f.close()"
   ]
  }
 ],
 "metadata": {
  "kernelspec": {
   "display_name": "Python 3",
   "language": "python",
   "name": "python3"
  },
  "language_info": {
   "codemirror_mode": {
    "name": "ipython",
    "version": 3
   },
   "file_extension": ".py",
   "mimetype": "text/x-python",
   "name": "python",
   "nbconvert_exporter": "python",
   "pygments_lexer": "ipython3",
   "version": "3.6.12"
  }
 },
 "nbformat": 4,
 "nbformat_minor": 2
}

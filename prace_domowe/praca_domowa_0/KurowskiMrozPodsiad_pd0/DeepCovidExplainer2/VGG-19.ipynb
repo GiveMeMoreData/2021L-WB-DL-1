{
 "cells": [
  {
   "cell_type": "code",
   "execution_count": 1,
   "metadata": {},
   "outputs": [],
   "source": [
    "import cv2\n",
    "import numpy as np\n",
    "import matplotlib.pyplot as plt\n",
    "import os"
   ]
  },
  {
   "cell_type": "code",
   "execution_count": 2,
   "metadata": {},
   "outputs": [
    {
     "name": "stderr",
     "output_type": "stream",
     "text": [
      "Using TensorFlow backend.\n",
      "C:\\Users\\Aleksander Podsiad\\.conda\\envs\\WB_env\\lib\\site-packages\\tensorflow\\python\\framework\\dtypes.py:516: FutureWarning: Passing (type, 1) or '1type' as a synonym of type is deprecated; in a future version of numpy, it will be understood as (type, (1,)) / '(1,)type'.\n",
      "  _np_qint8 = np.dtype([(\"qint8\", np.int8, 1)])\n",
      "C:\\Users\\Aleksander Podsiad\\.conda\\envs\\WB_env\\lib\\site-packages\\tensorflow\\python\\framework\\dtypes.py:517: FutureWarning: Passing (type, 1) or '1type' as a synonym of type is deprecated; in a future version of numpy, it will be understood as (type, (1,)) / '(1,)type'.\n",
      "  _np_quint8 = np.dtype([(\"quint8\", np.uint8, 1)])\n",
      "C:\\Users\\Aleksander Podsiad\\.conda\\envs\\WB_env\\lib\\site-packages\\tensorflow\\python\\framework\\dtypes.py:518: FutureWarning: Passing (type, 1) or '1type' as a synonym of type is deprecated; in a future version of numpy, it will be understood as (type, (1,)) / '(1,)type'.\n",
      "  _np_qint16 = np.dtype([(\"qint16\", np.int16, 1)])\n",
      "C:\\Users\\Aleksander Podsiad\\.conda\\envs\\WB_env\\lib\\site-packages\\tensorflow\\python\\framework\\dtypes.py:519: FutureWarning: Passing (type, 1) or '1type' as a synonym of type is deprecated; in a future version of numpy, it will be understood as (type, (1,)) / '(1,)type'.\n",
      "  _np_quint16 = np.dtype([(\"quint16\", np.uint16, 1)])\n",
      "C:\\Users\\Aleksander Podsiad\\.conda\\envs\\WB_env\\lib\\site-packages\\tensorflow\\python\\framework\\dtypes.py:520: FutureWarning: Passing (type, 1) or '1type' as a synonym of type is deprecated; in a future version of numpy, it will be understood as (type, (1,)) / '(1,)type'.\n",
      "  _np_qint32 = np.dtype([(\"qint32\", np.int32, 1)])\n",
      "C:\\Users\\Aleksander Podsiad\\.conda\\envs\\WB_env\\lib\\site-packages\\tensorflow\\python\\framework\\dtypes.py:525: FutureWarning: Passing (type, 1) or '1type' as a synonym of type is deprecated; in a future version of numpy, it will be understood as (type, (1,)) / '(1,)type'.\n",
      "  np_resource = np.dtype([(\"resource\", np.ubyte, 1)])\n",
      "C:\\Users\\Aleksander Podsiad\\.conda\\envs\\WB_env\\lib\\site-packages\\tensorboard\\compat\\tensorflow_stub\\dtypes.py:541: FutureWarning: Passing (type, 1) or '1type' as a synonym of type is deprecated; in a future version of numpy, it will be understood as (type, (1,)) / '(1,)type'.\n",
      "  _np_qint8 = np.dtype([(\"qint8\", np.int8, 1)])\n",
      "C:\\Users\\Aleksander Podsiad\\.conda\\envs\\WB_env\\lib\\site-packages\\tensorboard\\compat\\tensorflow_stub\\dtypes.py:542: FutureWarning: Passing (type, 1) or '1type' as a synonym of type is deprecated; in a future version of numpy, it will be understood as (type, (1,)) / '(1,)type'.\n",
      "  _np_quint8 = np.dtype([(\"quint8\", np.uint8, 1)])\n",
      "C:\\Users\\Aleksander Podsiad\\.conda\\envs\\WB_env\\lib\\site-packages\\tensorboard\\compat\\tensorflow_stub\\dtypes.py:543: FutureWarning: Passing (type, 1) or '1type' as a synonym of type is deprecated; in a future version of numpy, it will be understood as (type, (1,)) / '(1,)type'.\n",
      "  _np_qint16 = np.dtype([(\"qint16\", np.int16, 1)])\n",
      "C:\\Users\\Aleksander Podsiad\\.conda\\envs\\WB_env\\lib\\site-packages\\tensorboard\\compat\\tensorflow_stub\\dtypes.py:544: FutureWarning: Passing (type, 1) or '1type' as a synonym of type is deprecated; in a future version of numpy, it will be understood as (type, (1,)) / '(1,)type'.\n",
      "  _np_quint16 = np.dtype([(\"quint16\", np.uint16, 1)])\n",
      "C:\\Users\\Aleksander Podsiad\\.conda\\envs\\WB_env\\lib\\site-packages\\tensorboard\\compat\\tensorflow_stub\\dtypes.py:545: FutureWarning: Passing (type, 1) or '1type' as a synonym of type is deprecated; in a future version of numpy, it will be understood as (type, (1,)) / '(1,)type'.\n",
      "  _np_qint32 = np.dtype([(\"qint32\", np.int32, 1)])\n",
      "C:\\Users\\Aleksander Podsiad\\.conda\\envs\\WB_env\\lib\\site-packages\\tensorboard\\compat\\tensorflow_stub\\dtypes.py:550: FutureWarning: Passing (type, 1) or '1type' as a synonym of type is deprecated; in a future version of numpy, it will be understood as (type, (1,)) / '(1,)type'.\n",
      "  np_resource = np.dtype([(\"resource\", np.ubyte, 1)])\n"
     ]
    }
   ],
   "source": [
    "import sys\n",
    "sys.path.insert(0,'..')\n",
    "from utils import lossprettifier\n",
    "from Classifier.VGG import *"
   ]
  },
  {
   "cell_type": "code",
   "execution_count": 3,
   "metadata": {},
   "outputs": [],
   "source": [
    "x_train = np.load('data/x_train.npy')\n",
    "y_train = np.load('data/y_train.npy')\n",
    "x_test = np.load('data/x_test.npy')\n",
    "y_test = np.load('data/y_test.npy')"
   ]
  },
  {
   "cell_type": "code",
   "execution_count": 4,
   "metadata": {},
   "outputs": [
    {
     "name": "stdout",
     "output_type": "stream",
     "text": [
      "(300, 224, 224, 3)\n",
      "(30, 224, 224, 3)\n"
     ]
    }
   ],
   "source": [
    "print(x_train.shape)\n",
    "print(x_test.shape)"
   ]
  },
  {
   "cell_type": "code",
   "execution_count": 5,
   "metadata": {},
   "outputs": [
    {
     "name": "stdout",
     "output_type": "stream",
     "text": [
      "(300,)\n",
      "(30,)\n"
     ]
    }
   ],
   "source": [
    "print(y_train.shape)\n",
    "print(y_test.shape)"
   ]
  },
  {
   "cell_type": "code",
   "execution_count": null,
   "metadata": {},
   "outputs": [],
   "source": [
    "#x_train /= 255????"
   ]
  },
  {
   "cell_type": "code",
   "execution_count": 8,
   "metadata": {},
   "outputs": [],
   "source": [
    "from __future__ import print_function\n",
    "\n",
    "import numpy as np\n",
    "from random import shuffle\n",
    "import time\n",
    "import csv\n",
    "from PIL import Image\n",
    "import os\n",
    "import tensorflow as tf\n",
    "import keras\n",
    "from keras.callbacks import EarlyStopping, LearningRateScheduler\n",
    "from keras import initializers\n",
    "from keras.optimizers import SGD\n",
    "from keras.preprocessing import sequence\n",
    "from keras.utils import np_utils\n",
    "from keras.models import Sequential,load_model,Model\n",
    "from keras.layers import Dense, Dropout, Activation, Flatten\n",
    "from keras.layers import *\n",
    "from keras.callbacks import CSVLogger\n",
    "from keras import callbacks\n",
    "from keras.preprocessing.image import ImageDataGenerator\n",
    "\n",
    "from sklearn.metrics import classification_report\n",
    "from sklearn.model_selection import train_test_split\n",
    "import sklearn.metrics as sklm\n",
    "#import lossprettifier\n",
    "#from VGG import *"
   ]
  },
  {
   "cell_type": "code",
   "execution_count": 9,
   "metadata": {},
   "outputs": [],
   "source": [
    "# for reproducibility\n",
    "np.random.seed(3768)\n",
    "\n",
    "# use this environment flag to change which GPU to use \n",
    "os.environ[\"CUDA_DEVICE_ORDER\"]=\"PCI_BUS_ID\"\n",
    "os.environ[\"CUDA_VISIBLE_DEVICES\"]=\"0\"  # specify which GPU(s) to be used\n",
    "\n",
    "#Get TensorFlow session\n",
    "def get_session(): \n",
    "  config = tf.ConfigProto() \n",
    "  config.gpu_options.allow_growth = True \n",
    "  return tf.Session(config=config) \n",
    "  \n",
    "# One hot encoding of labels \n",
    "def dense_to_one_hot(labels_dense,num_clases=4):\n",
    "  return np.eye(num_clases)[labels_dense]"
   ]
  },
  {
   "cell_type": "code",
   "execution_count": 10,
   "metadata": {},
   "outputs": [],
   "source": [
    "# Preparing training and test sets\n",
    "x_train, x_valid, y_train, y_valid = train_test_split(x_train, y_train, test_size=0.10, random_state=42)"
   ]
  },
  {
   "cell_type": "code",
   "execution_count": 11,
   "metadata": {},
   "outputs": [],
   "source": [
    "y_train = dense_to_one_hot(y_train,num_clases=4)\n",
    "y_valid= dense_to_one_hot(y_valid,num_clases=4)"
   ]
  },
  {
   "cell_type": "code",
   "execution_count": 12,
   "metadata": {},
   "outputs": [
    {
     "name": "stderr",
     "output_type": "stream",
     "text": [
      "C:\\Users\\Aleksander Podsiad\\.conda\\envs\\WB_env\\lib\\site-packages\\keras_preprocessing\\image\\image_data_generator.py:349: UserWarning: This ImageDataGenerator specifies `featurewise_std_normalization`, which overrides setting of `featurewise_center`.\n",
      "  warnings.warn('This ImageDataGenerator specifies '\n"
     ]
    }
   ],
   "source": [
    "#Image data generation for the training \n",
    "datagen = ImageDataGenerator(\n",
    "               featurewise_center = False, \n",
    "               samplewise_center = False,  # set each sample mean to 0\n",
    "               featurewise_std_normalization = True,  \n",
    "               samplewise_std_normalization = False)  \n",
    "\n",
    "datagen.fit(x_train) \n",
    "for i in range(len(x_test)):\n",
    "      x_test[i] = datagen.standardize(x_test[i])"
   ]
  },
  {
   "cell_type": "code",
   "execution_count": 13,
   "metadata": {},
   "outputs": [
    {
     "name": "stdout",
     "output_type": "stream",
     "text": [
      "WARNING:tensorflow:From C:\\Users\\Aleksander Podsiad\\.conda\\envs\\WB_env\\lib\\site-packages\\keras\\backend\\tensorflow_backend.py:4070: The name tf.nn.max_pool is deprecated. Please use tf.nn.max_pool2d instead.\n",
      "\n",
      "WARNING:tensorflow:From C:\\Users\\Aleksander Podsiad\\.conda\\envs\\WB_env\\lib\\site-packages\\keras\\backend\\tensorflow_backend.py:422: The name tf.global_variables is deprecated. Please use tf.compat.v1.global_variables instead.\n",
      "\n",
      "Epoch 1/50\n",
      "32/32 [==============================] - 14s 435ms/step - loss: 1.1676 - accuracy: 0.3487 - val_loss: 1.1039 - val_accuracy: 0.2000\n",
      "Epoch 2/50\n",
      "32/32 [==============================] - 3s 89ms/step - loss: 0.9785 - accuracy: 0.5299 - val_loss: 1.0274 - val_accuracy: 0.6667\n",
      "Epoch 3/50\n",
      "32/32 [==============================] - 3s 92ms/step - loss: 0.7889 - accuracy: 0.6629 - val_loss: 0.9961 - val_accuracy: 0.6000\n",
      "Epoch 4/50\n",
      "32/32 [==============================] - 3s 92ms/step - loss: 0.6167 - accuracy: 0.7363 - val_loss: 1.2100 - val_accuracy: 0.6667\n",
      "Epoch 5/50\n",
      "32/32 [==============================] - 3s 87ms/step - loss: 0.6039 - accuracy: 0.7458 - val_loss: 1.4537 - val_accuracy: 0.5667\n",
      "Epoch 6/50\n",
      "32/32 [==============================] - 3s 91ms/step - loss: 0.4441 - accuracy: 0.8235 - val_loss: 1.5641 - val_accuracy: 0.5667\n",
      "Epoch 7/50\n",
      "32/32 [==============================] - 3s 92ms/step - loss: 0.3221 - accuracy: 0.8649 - val_loss: 1.7538 - val_accuracy: 0.6333\n",
      "Epoch 8/50\n",
      "32/32 [==============================] - 3s 90ms/step - loss: 0.2601 - accuracy: 0.8979 - val_loss: 1.6001 - val_accuracy: 0.6667\n",
      "Epoch 9/50\n",
      "32/32 [==============================] - 3s 90ms/step - loss: 0.3806 - accuracy: 0.8718 - val_loss: 1.6997 - val_accuracy: 0.5667\n",
      "Epoch 10/50\n",
      "32/32 [==============================] - 3s 87ms/step - loss: 0.2894 - accuracy: 0.8928 - val_loss: 3.9431 - val_accuracy: 0.5667\n",
      "Epoch 11/50\n",
      "32/32 [==============================] - 3s 92ms/step - loss: 0.3542 - accuracy: 0.8634 - val_loss: 1.8979 - val_accuracy: 0.6667\n",
      "Epoch 12/50\n",
      "32/32 [==============================] - 3s 90ms/step - loss: 0.2928 - accuracy: 0.9010 - val_loss: 2.0922 - val_accuracy: 0.6667\n",
      "Epoch 13/50\n",
      "32/32 [==============================] - 3s 91ms/step - loss: 0.3234 - accuracy: 0.8676 - val_loss: 2.9199 - val_accuracy: 0.5667\n",
      "Epoch 14/50\n",
      "32/32 [==============================] - 3s 91ms/step - loss: 0.3021 - accuracy: 0.9055 - val_loss: 1.7118 - val_accuracy: 0.6667\n",
      "Epoch 15/50\n",
      "32/32 [==============================] - 3s 90ms/step - loss: 0.3715 - accuracy: 0.8495 - val_loss: 2.5564 - val_accuracy: 0.6333\n",
      "Epoch 16/50\n",
      "32/32 [==============================] - 3s 90ms/step - loss: 0.2348 - accuracy: 0.9212 - val_loss: 2.4358 - val_accuracy: 0.5667\n",
      "Epoch 17/50\n",
      "32/32 [==============================] - 3s 90ms/step - loss: 0.1612 - accuracy: 0.9286 - val_loss: 5.7902 - val_accuracy: 0.6333\n",
      "Epoch 18/50\n",
      "32/32 [==============================] - 3s 92ms/step - loss: 0.2148 - accuracy: 0.9186 - val_loss: 2.6743 - val_accuracy: 0.6333\n",
      "Epoch 19/50\n",
      "32/32 [==============================] - 3s 91ms/step - loss: 0.2936 - accuracy: 0.8948 - val_loss: 1.8287 - val_accuracy: 0.6333\n",
      "Epoch 20/50\n",
      "32/32 [==============================] - 3s 90ms/step - loss: 0.1676 - accuracy: 0.9349 - val_loss: 2.6928 - val_accuracy: 0.6667\n",
      "Epoch 21/50\n",
      "32/32 [==============================] - 3s 94ms/step - loss: 0.1996 - accuracy: 0.9402 - val_loss: 2.2592 - val_accuracy: 0.6333\n",
      "Epoch 22/50\n",
      "32/32 [==============================] - 3s 91ms/step - loss: 0.2317 - accuracy: 0.9433 - val_loss: 2.9976 - val_accuracy: 0.6667\n",
      "Epoch 23/50\n",
      "32/32 [==============================] - 3s 90ms/step - loss: 0.2189 - accuracy: 0.9454 - val_loss: 7.6505 - val_accuracy: 0.5333\n",
      "Epoch 24/50\n",
      "32/32 [==============================] - 3s 92ms/step - loss: 0.4920 - accuracy: 0.8155 - val_loss: 1.7068 - val_accuracy: 0.6000\n",
      "Epoch 25/50\n",
      "32/32 [==============================] - 3s 89ms/step - loss: 0.3471 - accuracy: 0.8540 - val_loss: 2.7820 - val_accuracy: 0.6333\n",
      "Epoch 26/50\n",
      "32/32 [==============================] - 3s 93ms/step - loss: 0.2548 - accuracy: 0.9062 - val_loss: 1.9585 - val_accuracy: 0.6000\n",
      "Epoch 27/50\n",
      "32/32 [==============================] - 3s 91ms/step - loss: 0.1455 - accuracy: 0.9401 - val_loss: 3.4353 - val_accuracy: 0.5333\n",
      "Epoch 28/50\n",
      "32/32 [==============================] - 3s 90ms/step - loss: 0.1669 - accuracy: 0.9454 - val_loss: 3.2927 - val_accuracy: 0.5667\n",
      "Epoch 29/50\n",
      "32/32 [==============================] - 3s 95ms/step - loss: 0.2368 - accuracy: 0.9124 - val_loss: 2.0852 - val_accuracy: 0.6333\n",
      "Epoch 30/50\n",
      "32/32 [==============================] - 3s 90ms/step - loss: 0.2526 - accuracy: 0.9202 - val_loss: 2.8048 - val_accuracy: 0.6000\n",
      "Epoch 31/50\n",
      "32/32 [==============================] - 3s 92ms/step - loss: 0.1658 - accuracy: 0.9485 - val_loss: 2.1731 - val_accuracy: 0.6333\n",
      "Epoch 32/50\n",
      "32/32 [==============================] - 3s 91ms/step - loss: 0.3443 - accuracy: 0.8771 - val_loss: 2.3929 - val_accuracy: 0.6000\n",
      "Epoch 33/50\n",
      "32/32 [==============================] - 3s 92ms/step - loss: 0.2738 - accuracy: 0.9000 - val_loss: 2.3287 - val_accuracy: 0.5333\n",
      "Epoch 34/50\n",
      "32/32 [==============================] - 3s 88ms/step - loss: 0.3020 - accuracy: 0.8866 - val_loss: 2.3681 - val_accuracy: 0.6333\n",
      "Epoch 35/50\n",
      "32/32 [==============================] - 3s 90ms/step - loss: 0.1606 - accuracy: 0.9443 - val_loss: 3.4107 - val_accuracy: 0.6333\n",
      "Epoch 36/50\n",
      "32/32 [==============================] - 3s 92ms/step - loss: 0.0827 - accuracy: 0.9737 - val_loss: 4.6956 - val_accuracy: 0.5667\n",
      "Epoch 37/50\n",
      "32/32 [==============================] - 3s 92ms/step - loss: 0.3710 - accuracy: 0.8732 - val_loss: 2.2342 - val_accuracy: 0.5333\n",
      "Epoch 38/50\n",
      "32/32 [==============================] - 3s 91ms/step - loss: 0.2682 - accuracy: 0.8992 - val_loss: 2.7595 - val_accuracy: 0.5667\n",
      "Epoch 39/50\n",
      "32/32 [==============================] - 3s 90ms/step - loss: 0.2908 - accuracy: 0.8981 - val_loss: 1.9601 - val_accuracy: 0.6333\n",
      "Epoch 40/50\n",
      "32/32 [==============================] - 3s 89ms/step - loss: 0.1283 - accuracy: 0.9495 - val_loss: 2.6484 - val_accuracy: 0.5000\n",
      "Epoch 41/50\n",
      "32/32 [==============================] - 3s 87ms/step - loss: 0.0696 - accuracy: 0.9748 - val_loss: 4.1017 - val_accuracy: 0.6000\n",
      "Epoch 42/50\n",
      "32/32 [==============================] - 3s 89ms/step - loss: 0.0722 - accuracy: 0.9773 - val_loss: 4.2717 - val_accuracy: 0.5667\n",
      "Epoch 43/50\n",
      "32/32 [==============================] - 3s 86ms/step - loss: 0.1895 - accuracy: 0.9359 - val_loss: 1.9126 - val_accuracy: 0.5333\n",
      "Epoch 44/50\n",
      "32/32 [==============================] - 3s 91ms/step - loss: 0.1052 - accuracy: 0.9580 - val_loss: 3.4759 - val_accuracy: 0.6333\n",
      "Epoch 45/50\n",
      "32/32 [==============================] - 3s 90ms/step - loss: 0.0533 - accuracy: 0.9825 - val_loss: 4.7169 - val_accuracy: 0.5667\n",
      "Epoch 46/50\n",
      "32/32 [==============================] - 3s 87ms/step - loss: 0.0975 - accuracy: 0.9670 - val_loss: 3.4636 - val_accuracy: 0.6000\n",
      "Epoch 47/50\n",
      "32/32 [==============================] - 3s 93ms/step - loss: 0.1358 - accuracy: 0.9569 - val_loss: 2.6158 - val_accuracy: 0.6333\n",
      "Epoch 48/50\n",
      "32/32 [==============================] - 3s 92ms/step - loss: 0.1023 - accuracy: 0.9691 - val_loss: 2.8075 - val_accuracy: 0.6000\n",
      "Epoch 49/50\n",
      "32/32 [==============================] - 3s 89ms/step - loss: 0.0680 - accuracy: 0.9800 - val_loss: 3.7615 - val_accuracy: 0.6333\n",
      "Epoch 50/50\n",
      "32/32 [==============================] - 3s 88ms/step - loss: 0.1153 - accuracy: 0.9598 - val_loss: 2.7260 - val_accuracy: 0.6333\n"
     ]
    }
   ],
   "source": [
    "#Defining hyperparameters\n",
    "batch_Size = 32\n",
    "steps_Per_Epoch = 32\n",
    "numEpochs = 50\n",
    "\n",
    "#Instantating VGG19 model\n",
    "model = VGG19((224,224,3),4) #VGG19_dense for revised VGG19, VGG19 for VGG19. Please pay attention to VGG16(), chnage the input shape and class number in VGG.py.\n",
    "\n",
    "#Creating an optimizers\n",
    "adaDelta = keras.optimizers.Adadelta(lr=1.0, rho=0.95)\n",
    "sgd = SGD(lr=0.01, decay=1e-6, momentum=0.95, nesterov=True)\n",
    "model.compile(optimizer = sgd , loss = 'categorical_crossentropy', metrics = ['accuracy'])\n",
    "\n",
    "#Creating early stopping \n",
    "earlystop = EarlyStopping(monitor = 'val_accuracy', min_delta = 0, patience = 50, verbose = 1, mode = 'auto', restore_best_weights = True)       \n",
    "\n",
    "train_generator = datagen.flow(x_train, y_train, batch_size = batch_Size)\n",
    "validation_generator = datagen.flow(x_valid, y_valid, batch_size = batch_Size)\n",
    "\n",
    "# Model training\n",
    "history = model.fit_generator(\n",
    "    train_generator,\n",
    "    steps_per_epoch = steps_Per_Epoch,\n",
    "    validation_data = validation_generator, \n",
    "    validation_steps = 16,\n",
    "    epochs = numEpochs,\n",
    "    shuffle = True, \n",
    "    verbose = 1)"
   ]
  },
  {
   "cell_type": "code",
   "execution_count": 14,
   "metadata": {},
   "outputs": [],
   "source": [
    "modelPath = \"VGG19_COVID19.h5\"\n",
    "resultPath = 'VGG19_COVID19.txt'"
   ]
  },
  {
   "cell_type": "code",
   "execution_count": 15,
   "metadata": {},
   "outputs": [
    {
     "name": "stdout",
     "output_type": "stream",
     "text": [
      "Epoch     0 | LossA: 1.17(+0.00%) \u001b[0m\t| LossAB: 1.10(+0.00%) \u001b[0m\t\n",
      "Epoch     1 | LossA: \u001b[32m0.97(-16.69%) ▼\u001b[0m\t| LossAB: \u001b[32m1.03(-6.93%) ▼\u001b[0m\t\n",
      "Epoch     2 | LossA: \u001b[32m0.79(-18.63%) ▼\u001b[0m\t| LossAB: \u001b[32m1.00(-3.05%) ▼\u001b[0m\t\n",
      "Epoch     3 | LossA: \u001b[32m0.63(-20.86%) ▼\u001b[0m\t| LossAB: \u001b[91m1.21(+21.48%) ▲\u001b[0m\t\n",
      "Epoch     4 | LossA: \u001b[32m0.61(-3.23%) ▼\u001b[0m\t| LossAB: \u001b[91m1.45(+20.13%) ▲\u001b[0m\t\n",
      "Epoch     5 | LossA: \u001b[32m0.45(-25.83%) ▼\u001b[0m\t| LossAB: \u001b[91m1.56(+7.60%) ▲\u001b[0m\t\n",
      "Epoch     6 | LossA: \u001b[32m0.33(-27.38%) ▼\u001b[0m\t| LossAB: \u001b[91m1.75(+12.13%) ▲\u001b[0m\t\n",
      "Epoch     7 | LossA: \u001b[32m0.26(-21.01%) ▼\u001b[0m\t| LossAB: \u001b[32m1.60(-8.76%) ▼\u001b[0m\t\n",
      "Epoch     8 | LossA: \u001b[91m0.38(+48.75%) ▲\u001b[0m\t| LossAB: \u001b[91m1.70(+6.22%) ▲\u001b[0m\t\n",
      "Epoch     9 | LossA: \u001b[32m0.29(-24.04%) ▼\u001b[0m\t| LossAB: \u001b[91m3.94(+131.98%) ▲\u001b[0m\t\n",
      "Epoch    10 | LossA: \u001b[91m0.36(+22.88%) ▲\u001b[0m\t| LossAB: \u001b[32m1.90(-51.87%) ▼\u001b[0m\t\n",
      "Epoch    11 | LossA: \u001b[32m0.29(-19.09%) ▼\u001b[0m\t| LossAB: \u001b[91m2.09(+10.24%) ▲\u001b[0m\t\n",
      "Epoch    12 | LossA: \u001b[91m0.32(+9.84%) ▲\u001b[0m\t| LossAB: \u001b[91m2.92(+39.56%) ▲\u001b[0m\t\n",
      "Epoch    13 | LossA: \u001b[32m0.30(-6.90%) ▼\u001b[0m\t| LossAB: \u001b[32m1.71(-41.37%) ▼\u001b[0m\t\n",
      "Epoch    14 | LossA: \u001b[91m0.37(+26.30%) ▲\u001b[0m\t| LossAB: \u001b[91m2.56(+49.34%) ▲\u001b[0m\t\n",
      "Epoch    15 | LossA: \u001b[32m0.23(-37.15%) ▼\u001b[0m\t| LossAB: \u001b[32m2.44(-4.72%) ▼\u001b[0m\t\n",
      "Epoch    16 | LossA: \u001b[32m0.17(-27.75%) ▼\u001b[0m\t| LossAB: \u001b[91m5.79(+137.72%) ▲\u001b[0m\t\n",
      "Epoch    17 | LossA: \u001b[91m0.21(+24.10%) ▲\u001b[0m\t| LossAB: \u001b[32m2.67(-53.81%) ▼\u001b[0m\t\n",
      "Epoch    18 | LossA: \u001b[91m0.29(+37.02%) ▲\u001b[0m\t| LossAB: \u001b[32m1.83(-31.62%) ▼\u001b[0m\t\n",
      "Epoch    19 | LossA: \u001b[32m0.17(-41.75%) ▼\u001b[0m\t| LossAB: \u001b[91m2.69(+47.25%) ▲\u001b[0m\t\n",
      "Epoch    20 | LossA: \u001b[91m0.20(+21.92%) ▲\u001b[0m\t| LossAB: \u001b[32m2.26(-16.10%) ▼\u001b[0m\t\n",
      "Epoch    21 | LossA: \u001b[91m0.22(+7.39%) ▲\u001b[0m\t| LossAB: \u001b[91m3.00(+32.68%) ▲\u001b[0m\t\n",
      "Epoch    22 | LossA: \u001b[32m0.22(-0.65%) ▼\u001b[0m\t| LossAB: \u001b[91m7.65(+155.22%) ▲\u001b[0m\t\n",
      "Epoch    23 | LossA: \u001b[91m0.49(+124.54%) ▲\u001b[0m\t| LossAB: \u001b[32m1.71(-77.69%) ▼\u001b[0m\t\n",
      "Epoch    24 | LossA: \u001b[32m0.35(-28.40%) ▼\u001b[0m\t| LossAB: \u001b[91m2.78(+63.00%) ▲\u001b[0m\t\n",
      "Epoch    25 | LossA: \u001b[32m0.26(-27.38%) ▼\u001b[0m\t| LossAB: \u001b[32m1.96(-29.60%) ▼\u001b[0m\t\n",
      "Epoch    26 | LossA: \u001b[32m0.15(-42.69%) ▼\u001b[0m\t| LossAB: \u001b[91m3.44(+75.41%) ▲\u001b[0m\t\n",
      "Epoch    27 | LossA: \u001b[91m0.17(+13.26%) ▲\u001b[0m\t| LossAB: \u001b[32m3.29(-4.15%) ▼\u001b[0m\t\n",
      "Epoch    28 | LossA: \u001b[91m0.23(+36.52%) ▲\u001b[0m\t| LossAB: \u001b[32m2.09(-36.67%) ▼\u001b[0m\t\n",
      "Epoch    29 | LossA: \u001b[91m0.25(+12.09%) ▲\u001b[0m\t| LossAB: \u001b[91m2.80(+34.51%) ▲\u001b[0m\t\n",
      "Epoch    30 | LossA: \u001b[32m0.16(-37.11%) ▼\u001b[0m\t| LossAB: \u001b[32m2.17(-22.52%) ▼\u001b[0m\t\n",
      "Epoch    31 | LossA: \u001b[91m0.35(+116.93%) ▲\u001b[0m\t| LossAB: \u001b[91m2.39(+10.11%) ▲\u001b[0m\t\n",
      "Epoch    32 | LossA: \u001b[32m0.28(-20.33%) ▼\u001b[0m\t| LossAB: \u001b[32m2.33(-2.68%) ▼\u001b[0m\t\n",
      "Epoch    33 | LossA: \u001b[91m0.30(+7.69%) ▲\u001b[0m\t| LossAB: \u001b[91m2.37(+1.69%) ▲\u001b[0m\t\n",
      "Epoch    34 | LossA: \u001b[32m0.15(-48.00%) ▼\u001b[0m\t| LossAB: \u001b[91m3.41(+44.03%) ▲\u001b[0m\t\n",
      "Epoch    35 | LossA: \u001b[32m0.08(-47.15%) ▼\u001b[0m\t| LossAB: \u001b[91m4.70(+37.67%) ▲\u001b[0m\t\n",
      "Epoch    36 | LossA: \u001b[91m0.36(+346.22%) ▲\u001b[0m\t| LossAB: \u001b[32m2.23(-52.42%) ▼\u001b[0m\t\n",
      "Epoch    37 | LossA: \u001b[32m0.27(-25.25%) ▼\u001b[0m\t| LossAB: \u001b[91m2.76(+23.51%) ▲\u001b[0m\t\n",
      "Epoch    38 | LossA: \u001b[91m0.28(+2.40%) ▲\u001b[0m\t| LossAB: \u001b[32m1.96(-28.97%) ▼\u001b[0m\t\n",
      "Epoch    39 | LossA: \u001b[32m0.13(-52.96%) ▼\u001b[0m\t| LossAB: \u001b[91m2.65(+35.12%) ▲\u001b[0m\t\n",
      "Epoch    40 | LossA: \u001b[32m0.07(-43.94%) ▼\u001b[0m\t| LossAB: \u001b[91m4.10(+54.87%) ▲\u001b[0m\t\n",
      "Epoch    41 | LossA: \u001b[32m0.07(-4.53%) ▼\u001b[0m\t| LossAB: \u001b[91m4.27(+4.14%) ▲\u001b[0m\t\n",
      "Epoch    42 | LossA: \u001b[91m0.20(+178.95%) ▲\u001b[0m\t| LossAB: \u001b[32m1.91(-55.23%) ▼\u001b[0m\t\n",
      "Epoch    43 | LossA: \u001b[32m0.10(-47.35%) ▼\u001b[0m\t| LossAB: \u001b[91m3.48(+81.74%) ▲\u001b[0m\t\n",
      "Epoch    44 | LossA: \u001b[32m0.05(-47.73%) ▼\u001b[0m\t| LossAB: \u001b[91m4.72(+35.70%) ▲\u001b[0m\t\n",
      "Epoch    45 | LossA: \u001b[91m0.10(+90.50%) ▲\u001b[0m\t| LossAB: \u001b[32m3.46(-26.57%) ▼\u001b[0m\t\n",
      "Epoch    46 | LossA: \u001b[91m0.14(+37.36%) ▲\u001b[0m\t| LossAB: \u001b[32m2.62(-24.48%) ▼\u001b[0m\t\n",
      "Epoch    47 | LossA: \u001b[32m0.11(-25.40%) ▼\u001b[0m\t| LossAB: \u001b[91m2.81(+7.33%) ▲\u001b[0m\t\n",
      "Epoch    48 | LossA: \u001b[32m0.07(-31.97%) ▼\u001b[0m\t| LossAB: \u001b[91m3.76(+33.98%) ▲\u001b[0m\t\n",
      "30/30 [==============================] - 0s 1ms/step\n",
      "Accuracy: 0.699999988079071\n"
     ]
    }
   ],
   "source": [
    "y_test_oh = dense_to_one_hot(y_test, num_clases=4)\n",
    "\n",
    "# visualizing losses and accuracy\n",
    "train_loss = history.history['loss']\n",
    "val_loss = history.history['val_loss']\n",
    "\n",
    "#Observing the losses but can be commented out as it's not mandatory \n",
    "reporter = lossprettifier.LossPrettifier(show_percentage=True)\n",
    "\n",
    "for i in range(numEpochs-1):\n",
    "    reporter(epoch=i, LossA = train_loss[i], LossAB = val_loss[i])\n",
    "\n",
    "# Model evaluation \n",
    "score, acc = model.evaluate(x_test, y_test_oh, batch_size=batch_Size)\n",
    "print(\"Accuracy:\", acc)\n",
    "\n",
    "#if acc>0.675:\n",
    "model.save_weights(modelPath)"
   ]
  },
  {
   "cell_type": "code",
   "execution_count": 16,
   "metadata": {},
   "outputs": [
    {
     "name": "stdout",
     "output_type": "stream",
     "text": [
      "              precision    recall  f1-score   support\n",
      "\n",
      "           0       0.75      0.90      0.82        10\n",
      "           1       0.60      0.90      0.72        10\n",
      "           2       1.00      0.30      0.46        10\n",
      "\n",
      "    accuracy                           0.70        30\n",
      "   macro avg       0.78      0.70      0.67        30\n",
      "weighted avg       0.78      0.70      0.67        30\n",
      "\n"
     ]
    }
   ],
   "source": [
    "y_pred = model.predict(x_test)\n",
    "y_pred = y_pred.reshape(len(y_test), 4)\n",
    "y_pred = np.argmax(y_pred, axis=1)\n",
    "\n",
    "# Writing results on file\n",
    "f = open(resultPath,'a') #create classification report\n",
    "f.write(classification_report(y_test, y_pred))\n",
    "f.write(str(sklm.cohen_kappa_score(y_test, y_pred))+\",\"+str(acc)+\",\"+str(score)+\"\\n\")\n",
    "\n",
    "#Print class-wise classification metrics\n",
    "print(classification_report(y_test, y_pred))"
   ]
  },
  {
   "cell_type": "code",
   "execution_count": 17,
   "metadata": {},
   "outputs": [],
   "source": [
    "f.close()"
   ]
  }
 ],
 "metadata": {
  "kernelspec": {
   "display_name": "Python 3",
   "language": "python",
   "name": "python3"
  },
  "language_info": {
   "codemirror_mode": {
    "name": "ipython",
    "version": 3
   },
   "file_extension": ".py",
   "mimetype": "text/x-python",
   "name": "python",
   "nbconvert_exporter": "python",
   "pygments_lexer": "ipython3",
   "version": "3.6.12"
  }
 },
 "nbformat": 4,
 "nbformat_minor": 2
}

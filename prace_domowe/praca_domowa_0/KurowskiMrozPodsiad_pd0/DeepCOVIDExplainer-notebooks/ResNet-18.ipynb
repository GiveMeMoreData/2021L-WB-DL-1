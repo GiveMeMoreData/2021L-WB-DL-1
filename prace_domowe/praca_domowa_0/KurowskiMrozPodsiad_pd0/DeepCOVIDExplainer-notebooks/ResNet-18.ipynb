{
 "cells": [
  {
   "cell_type": "code",
   "execution_count": 1,
   "metadata": {},
   "outputs": [],
   "source": [
    "import cv2\n",
    "import numpy as np\n",
    "import matplotlib.pyplot as plt\n",
    "import os"
   ]
  },
  {
   "cell_type": "code",
   "execution_count": 2,
   "metadata": {},
   "outputs": [],
   "source": [
    "x_train = np.load('data/x_train.npy')\n",
    "y_train = np.load('data/y_train.npy')\n",
    "x_test = np.load('data/x_test.npy')\n",
    "y_test = np.load('data/y_test.npy')"
   ]
  },
  {
   "cell_type": "code",
   "execution_count": 3,
   "metadata": {},
   "outputs": [
    {
     "data": {
      "text/plain": [
       "(30, 224, 224, 3)"
      ]
     },
     "execution_count": 3,
     "metadata": {},
     "output_type": "execute_result"
    }
   ],
   "source": [
    "x_test.shape"
   ]
  },
  {
   "cell_type": "code",
   "execution_count": 4,
   "metadata": {},
   "outputs": [],
   "source": [
    "#x_train /= 255????"
   ]
  },
  {
   "cell_type": "code",
   "execution_count": 5,
   "metadata": {},
   "outputs": [
    {
     "name": "stderr",
     "output_type": "stream",
     "text": [
      "C:\\Users\\hp\\Anaconda3\\envs\\wbvenv36\\lib\\site-packages\\tensorflow\\python\\framework\\dtypes.py:516: FutureWarning: Passing (type, 1) or '1type' as a synonym of type is deprecated; in a future version of numpy, it will be understood as (type, (1,)) / '(1,)type'.\n",
      "  _np_qint8 = np.dtype([(\"qint8\", np.int8, 1)])\n",
      "C:\\Users\\hp\\Anaconda3\\envs\\wbvenv36\\lib\\site-packages\\tensorflow\\python\\framework\\dtypes.py:517: FutureWarning: Passing (type, 1) or '1type' as a synonym of type is deprecated; in a future version of numpy, it will be understood as (type, (1,)) / '(1,)type'.\n",
      "  _np_quint8 = np.dtype([(\"quint8\", np.uint8, 1)])\n",
      "C:\\Users\\hp\\Anaconda3\\envs\\wbvenv36\\lib\\site-packages\\tensorflow\\python\\framework\\dtypes.py:518: FutureWarning: Passing (type, 1) or '1type' as a synonym of type is deprecated; in a future version of numpy, it will be understood as (type, (1,)) / '(1,)type'.\n",
      "  _np_qint16 = np.dtype([(\"qint16\", np.int16, 1)])\n",
      "C:\\Users\\hp\\Anaconda3\\envs\\wbvenv36\\lib\\site-packages\\tensorflow\\python\\framework\\dtypes.py:519: FutureWarning: Passing (type, 1) or '1type' as a synonym of type is deprecated; in a future version of numpy, it will be understood as (type, (1,)) / '(1,)type'.\n",
      "  _np_quint16 = np.dtype([(\"quint16\", np.uint16, 1)])\n",
      "C:\\Users\\hp\\Anaconda3\\envs\\wbvenv36\\lib\\site-packages\\tensorflow\\python\\framework\\dtypes.py:520: FutureWarning: Passing (type, 1) or '1type' as a synonym of type is deprecated; in a future version of numpy, it will be understood as (type, (1,)) / '(1,)type'.\n",
      "  _np_qint32 = np.dtype([(\"qint32\", np.int32, 1)])\n",
      "C:\\Users\\hp\\Anaconda3\\envs\\wbvenv36\\lib\\site-packages\\tensorflow\\python\\framework\\dtypes.py:525: FutureWarning: Passing (type, 1) or '1type' as a synonym of type is deprecated; in a future version of numpy, it will be understood as (type, (1,)) / '(1,)type'.\n",
      "  np_resource = np.dtype([(\"resource\", np.ubyte, 1)])\n",
      "C:\\Users\\hp\\Anaconda3\\envs\\wbvenv36\\lib\\site-packages\\tensorboard\\compat\\tensorflow_stub\\dtypes.py:541: FutureWarning: Passing (type, 1) or '1type' as a synonym of type is deprecated; in a future version of numpy, it will be understood as (type, (1,)) / '(1,)type'.\n",
      "  _np_qint8 = np.dtype([(\"qint8\", np.int8, 1)])\n",
      "C:\\Users\\hp\\Anaconda3\\envs\\wbvenv36\\lib\\site-packages\\tensorboard\\compat\\tensorflow_stub\\dtypes.py:542: FutureWarning: Passing (type, 1) or '1type' as a synonym of type is deprecated; in a future version of numpy, it will be understood as (type, (1,)) / '(1,)type'.\n",
      "  _np_quint8 = np.dtype([(\"quint8\", np.uint8, 1)])\n",
      "C:\\Users\\hp\\Anaconda3\\envs\\wbvenv36\\lib\\site-packages\\tensorboard\\compat\\tensorflow_stub\\dtypes.py:543: FutureWarning: Passing (type, 1) or '1type' as a synonym of type is deprecated; in a future version of numpy, it will be understood as (type, (1,)) / '(1,)type'.\n",
      "  _np_qint16 = np.dtype([(\"qint16\", np.int16, 1)])\n",
      "C:\\Users\\hp\\Anaconda3\\envs\\wbvenv36\\lib\\site-packages\\tensorboard\\compat\\tensorflow_stub\\dtypes.py:544: FutureWarning: Passing (type, 1) or '1type' as a synonym of type is deprecated; in a future version of numpy, it will be understood as (type, (1,)) / '(1,)type'.\n",
      "  _np_quint16 = np.dtype([(\"quint16\", np.uint16, 1)])\n",
      "C:\\Users\\hp\\Anaconda3\\envs\\wbvenv36\\lib\\site-packages\\tensorboard\\compat\\tensorflow_stub\\dtypes.py:545: FutureWarning: Passing (type, 1) or '1type' as a synonym of type is deprecated; in a future version of numpy, it will be understood as (type, (1,)) / '(1,)type'.\n",
      "  _np_qint32 = np.dtype([(\"qint32\", np.int32, 1)])\n",
      "C:\\Users\\hp\\Anaconda3\\envs\\wbvenv36\\lib\\site-packages\\tensorboard\\compat\\tensorflow_stub\\dtypes.py:550: FutureWarning: Passing (type, 1) or '1type' as a synonym of type is deprecated; in a future version of numpy, it will be understood as (type, (1,)) / '(1,)type'.\n",
      "  np_resource = np.dtype([(\"resource\", np.ubyte, 1)])\n",
      "Using TensorFlow backend.\n"
     ]
    }
   ],
   "source": [
    "from __future__ import print_function\n",
    "\n",
    "import numpy as np\n",
    "from random import shuffle\n",
    "import time\n",
    "import csv\n",
    "from PIL import Image\n",
    "import os\n",
    "import tensorflow as tf\n",
    "import keras\n",
    "from keras.callbacks import EarlyStopping, LearningRateScheduler\n",
    "from keras import initializers\n",
    "from keras.optimizers import SGD\n",
    "from keras.preprocessing import sequence\n",
    "from keras.utils import np_utils\n",
    "from keras.models import Sequential,load_model,Model\n",
    "from keras.layers import Dense, Dropout, Activation, Flatten\n",
    "from keras.layers import *\n",
    "from keras.callbacks import CSVLogger\n",
    "from keras import callbacks\n",
    "from keras.preprocessing.image import ImageDataGenerator\n",
    "\n",
    "from sklearn.metrics import classification_report\n",
    "from sklearn.model_selection import train_test_split\n",
    "import sklearn.metrics as sklm\n",
    "import sys\n",
    "sys.path.insert(0,'..')\n",
    "from utils import lossprettifier\n",
    "from Classifier.ResNet import *"
   ]
  },
  {
   "cell_type": "code",
   "execution_count": 6,
   "metadata": {},
   "outputs": [],
   "source": [
    "# for reproducibility\n",
    "np.random.seed(3768)\n",
    "\n",
    "# use this environment flag to change which GPU to use \n",
    "os.environ[\"CUDA_DEVICE_ORDER\"]=\"PCI_BUS_ID\"\n",
    "os.environ[\"CUDA_VISIBLE_DEVICES\"]=\"0\"  # specify which GPU(s) to be used\n",
    "\n",
    "#Get TensorFlow session\n",
    "def get_session(): \n",
    "  config = tf.ConfigProto() \n",
    "  config.gpu_options.allow_growth = True \n",
    "  return tf.Session(config=config) \n",
    "  \n",
    "# One hot encoding of labels \n",
    "def dense_to_one_hot(labels_dense,num_clases=4):\n",
    "  return np.eye(num_clases)[labels_dense]"
   ]
  },
  {
   "cell_type": "code",
   "execution_count": 7,
   "metadata": {},
   "outputs": [],
   "source": [
    "# Preparing training and test sets\n",
    "x_train, x_valid, y_train, y_valid = train_test_split(x_train, y_train, test_size=0.10, random_state=42)"
   ]
  },
  {
   "cell_type": "code",
   "execution_count": 8,
   "metadata": {},
   "outputs": [],
   "source": [
    "y_train = dense_to_one_hot(y_train,num_clases=4)\n",
    "y_valid= dense_to_one_hot(y_valid,num_clases=4)"
   ]
  },
  {
   "cell_type": "code",
   "execution_count": 9,
   "metadata": {},
   "outputs": [
    {
     "name": "stderr",
     "output_type": "stream",
     "text": [
      "C:\\Users\\hp\\Anaconda3\\envs\\wbvenv36\\lib\\site-packages\\keras_preprocessing\\image\\image_data_generator.py:349: UserWarning: This ImageDataGenerator specifies `featurewise_std_normalization`, which overrides setting of `featurewise_center`.\n",
      "  warnings.warn('This ImageDataGenerator specifies '\n"
     ]
    }
   ],
   "source": [
    "#Image data generation for the training \n",
    "datagen = ImageDataGenerator(\n",
    "               featurewise_center = False, \n",
    "               samplewise_center = False,  # set each sample mean to 0\n",
    "               featurewise_std_normalization = True,  \n",
    "               samplewise_std_normalization = False)  \n",
    "\n",
    "datagen.fit(x_train) \n",
    "for i in range(len(x_test)):\n",
    "      x_test[i] = datagen.standardize(x_test[i])"
   ]
  },
  {
   "cell_type": "code",
   "execution_count": 10,
   "metadata": {},
   "outputs": [
    {
     "name": "stdout",
     "output_type": "stream",
     "text": [
      "WARNING:tensorflow:From C:\\Users\\hp\\AppData\\Roaming\\Python\\Python36\\site-packages\\keras\\backend\\tensorflow_backend.py:4070: The name tf.nn.max_pool is deprecated. Please use tf.nn.max_pool2d instead.\n",
      "\n",
      "reshaping via a convolution...\n",
      "reshaping via a convolution...\n",
      "reshaping via a convolution...\n",
      "reshaping via a convolution...\n",
      "WARNING:tensorflow:From C:\\Users\\hp\\AppData\\Roaming\\Python\\Python36\\site-packages\\keras\\backend\\tensorflow_backend.py:422: The name tf.global_variables is deprecated. Please use tf.compat.v1.global_variables instead.\n",
      "\n",
      "Epoch 1/50\n",
      "32/32 [==============================] - 20s 637ms/step - loss: 3.8589 - accuracy: 0.5903 - val_loss: 123.1791 - val_accuracy: 0.3333\n",
      "Epoch 2/50\n",
      "32/32 [==============================] - 5s 155ms/step - loss: 3.2788 - accuracy: 0.9041 - val_loss: 120.2422 - val_accuracy: 0.3333\n",
      "Epoch 3/50\n",
      "32/32 [==============================] - 5s 150ms/step - loss: 2.9896 - accuracy: 0.9905 - val_loss: 66.7019 - val_accuracy: 0.3333\n",
      "Epoch 4/50\n",
      "32/32 [==============================] - 5s 153ms/step - loss: 2.9650 - accuracy: 0.9918 - val_loss: 22.4536 - val_accuracy: 0.3333\n",
      "Epoch 5/50\n",
      "32/32 [==============================] - 5s 154ms/step - loss: 2.9528 - accuracy: 0.9918 - val_loss: 17.2466 - val_accuracy: 0.3667\n",
      "Epoch 6/50\n",
      "32/32 [==============================] - 5s 154ms/step - loss: 2.9333 - accuracy: 0.9968 - val_loss: 8.3205 - val_accuracy: 0.5000\n",
      "Epoch 7/50\n",
      "32/32 [==============================] - 5s 154ms/step - loss: 2.9252 - accuracy: 0.9969 - val_loss: 7.0959 - val_accuracy: 0.6000\n",
      "Epoch 8/50\n",
      "32/32 [==============================] - 5s 151ms/step - loss: 2.9272 - accuracy: 0.9926 - val_loss: 4.7615 - val_accuracy: 0.6000\n",
      "Epoch 9/50\n",
      "32/32 [==============================] - 5s 150ms/step - loss: 2.9091 - accuracy: 0.9948 - val_loss: 5.0097 - val_accuracy: 0.5667\n",
      "Epoch 10/50\n",
      "32/32 [==============================] - 5s 150ms/step - loss: 2.8996 - accuracy: 0.9979 - val_loss: 4.7186 - val_accuracy: 0.6333\n",
      "Epoch 11/50\n",
      "32/32 [==============================] - 5s 152ms/step - loss: 2.8829 - accuracy: 0.9989 - val_loss: 4.4970 - val_accuracy: 0.6667\n",
      "Epoch 12/50\n",
      "32/32 [==============================] - 5s 151ms/step - loss: 2.8760 - accuracy: 0.9989 - val_loss: 4.3031 - val_accuracy: 0.7000\n",
      "Epoch 13/50\n",
      "32/32 [==============================] - 5s 155ms/step - loss: 2.8642 - accuracy: 1.0000 - val_loss: 4.3791 - val_accuracy: 0.6667\n",
      "Epoch 14/50\n",
      "32/32 [==============================] - 5s 151ms/step - loss: 2.8570 - accuracy: 1.0000 - val_loss: 4.5109 - val_accuracy: 0.6333\n",
      "Epoch 15/50\n",
      "32/32 [==============================] - 5s 154ms/step - loss: 2.8484 - accuracy: 1.0000 - val_loss: 4.4554 - val_accuracy: 0.6667\n",
      "Epoch 16/50\n",
      "32/32 [==============================] - 5s 152ms/step - loss: 2.8412 - accuracy: 1.0000 - val_loss: 4.4883 - val_accuracy: 0.6333\n",
      "Epoch 17/50\n",
      "32/32 [==============================] - 5s 150ms/step - loss: 2.8551 - accuracy: 0.9948 - val_loss: 5.0050 - val_accuracy: 0.6333\n",
      "Epoch 18/50\n",
      "32/32 [==============================] - 5s 148ms/step - loss: 2.8507 - accuracy: 0.9895 - val_loss: 5.4847 - val_accuracy: 0.5667\n",
      "Epoch 19/50\n",
      "32/32 [==============================] - 5s 150ms/step - loss: 2.8427 - accuracy: 0.9897 - val_loss: 4.2537 - val_accuracy: 0.7000\n",
      "Epoch 20/50\n",
      "32/32 [==============================] - 5s 151ms/step - loss: 2.8183 - accuracy: 0.9989 - val_loss: 4.3045 - val_accuracy: 0.7000\n",
      "Epoch 21/50\n",
      "32/32 [==============================] - 5s 147ms/step - loss: 2.8157 - accuracy: 0.9989 - val_loss: 4.0507 - val_accuracy: 0.6667\n",
      "Epoch 22/50\n",
      "32/32 [==============================] - 5s 148ms/step - loss: 2.8049 - accuracy: 0.9979 - val_loss: 4.4707 - val_accuracy: 0.6000\n",
      "Epoch 23/50\n",
      "32/32 [==============================] - 5s 151ms/step - loss: 2.8106 - accuracy: 0.9948 - val_loss: 5.3652 - val_accuracy: 0.7667\n",
      "Epoch 24/50\n",
      "32/32 [==============================] - 5s 151ms/step - loss: 2.7998 - accuracy: 0.9948 - val_loss: 4.7633 - val_accuracy: 0.6333\n",
      "Epoch 25/50\n",
      "32/32 [==============================] - 5s 148ms/step - loss: 2.7867 - accuracy: 0.9958 - val_loss: 5.3340 - val_accuracy: 0.5667\n",
      "Epoch 26/50\n",
      "32/32 [==============================] - 5s 150ms/step - loss: 2.7833 - accuracy: 0.9989 - val_loss: 5.5270 - val_accuracy: 0.6333\n",
      "Epoch 27/50\n",
      "32/32 [==============================] - 5s 151ms/step - loss: 2.7720 - accuracy: 0.9990 - val_loss: 4.6627 - val_accuracy: 0.6333\n",
      "Epoch 28/50\n",
      "32/32 [==============================] - 5s 150ms/step - loss: 2.7608 - accuracy: 1.0000 - val_loss: 4.2539 - val_accuracy: 0.6667\n",
      "Epoch 29/50\n",
      "32/32 [==============================] - 5s 151ms/step - loss: 2.7517 - accuracy: 1.0000 - val_loss: 4.5936 - val_accuracy: 0.7000\n",
      "Epoch 30/50\n",
      "32/32 [==============================] - 5s 147ms/step - loss: 2.7471 - accuracy: 1.0000 - val_loss: 4.4168 - val_accuracy: 0.6333\n",
      "Epoch 31/50\n",
      "32/32 [==============================] - 5s 152ms/step - loss: 2.7407 - accuracy: 1.0000 - val_loss: 4.4614 - val_accuracy: 0.5667\n",
      "Epoch 32/50\n",
      "32/32 [==============================] - 5s 150ms/step - loss: 2.7343 - accuracy: 0.9979 - val_loss: 4.1924 - val_accuracy: 0.6667\n",
      "Epoch 33/50\n",
      "32/32 [==============================] - 5s 151ms/step - loss: 2.7309 - accuracy: 0.9969 - val_loss: 4.4232 - val_accuracy: 0.6000\n",
      "Epoch 34/50\n",
      "32/32 [==============================] - 5s 150ms/step - loss: 2.7178 - accuracy: 1.0000 - val_loss: 4.2015 - val_accuracy: 0.7000\n",
      "Epoch 35/50\n",
      "32/32 [==============================] - 5s 147ms/step - loss: 2.7101 - accuracy: 1.0000 - val_loss: 4.3697 - val_accuracy: 0.6667\n",
      "Epoch 36/50\n",
      "32/32 [==============================] - 5s 154ms/step - loss: 2.7041 - accuracy: 0.9990 - val_loss: 4.3580 - val_accuracy: 0.7333\n",
      "Epoch 37/50\n",
      "32/32 [==============================] - 5s 149ms/step - loss: 2.6957 - accuracy: 1.0000 - val_loss: 4.2616 - val_accuracy: 0.7333\n",
      "Epoch 38/50\n",
      "32/32 [==============================] - 5s 149ms/step - loss: 2.6892 - accuracy: 1.0000 - val_loss: 4.1374 - val_accuracy: 0.6667\n",
      "Epoch 39/50\n",
      "32/32 [==============================] - 5s 148ms/step - loss: 2.6819 - accuracy: 1.0000 - val_loss: 4.0908 - val_accuracy: 0.6667\n",
      "Epoch 40/50\n",
      "32/32 [==============================] - 5s 151ms/step - loss: 2.6752 - accuracy: 1.0000 - val_loss: 4.1419 - val_accuracy: 0.6333\n",
      "Epoch 41/50\n",
      "32/32 [==============================] - 5s 148ms/step - loss: 2.6680 - accuracy: 1.0000 - val_loss: 4.1932 - val_accuracy: 0.6333\n",
      "Epoch 42/50\n",
      "32/32 [==============================] - 5s 148ms/step - loss: 2.6616 - accuracy: 1.0000 - val_loss: 4.1891 - val_accuracy: 0.6000\n",
      "Epoch 43/50\n",
      "32/32 [==============================] - 5s 151ms/step - loss: 2.6546 - accuracy: 1.0000 - val_loss: 4.2495 - val_accuracy: 0.6333\n",
      "Epoch 44/50\n",
      "32/32 [==============================] - 5s 150ms/step - loss: 2.6496 - accuracy: 1.0000 - val_loss: 4.7393 - val_accuracy: 0.5667\n",
      "Epoch 45/50\n",
      "32/32 [==============================] - 5s 151ms/step - loss: 2.6865 - accuracy: 0.9926 - val_loss: 4.7479 - val_accuracy: 0.5333\n",
      "Epoch 46/50\n",
      "32/32 [==============================] - 5s 152ms/step - loss: 2.6957 - accuracy: 0.9758 - val_loss: 4.9297 - val_accuracy: 0.6333\n",
      "Epoch 47/50\n",
      "32/32 [==============================] - 5s 151ms/step - loss: 2.6512 - accuracy: 0.9938 - val_loss: 4.9101 - val_accuracy: 0.6667\n",
      "Epoch 48/50\n",
      "32/32 [==============================] - 5s 149ms/step - loss: 2.6597 - accuracy: 0.9887 - val_loss: 5.3010 - val_accuracy: 0.5667\n",
      "Epoch 49/50\n",
      "32/32 [==============================] - 5s 151ms/step - loss: 2.6557 - accuracy: 0.9839 - val_loss: 5.4178 - val_accuracy: 0.6000\n",
      "Epoch 50/50\n",
      "32/32 [==============================] - 5s 151ms/step - loss: 2.6580 - accuracy: 0.9835 - val_loss: 5.8811 - val_accuracy: 0.6333\n"
     ]
    }
   ],
   "source": [
    "#Defining hyperparameters\n",
    "batch_Size = 32\n",
    "steps_Per_Epoch = 32\n",
    "numEpochs = 50\n",
    "\n",
    "#Instantating ResNet18 model\n",
    "model = ResNet18((224, 224, 3), 4) \n",
    "\n",
    "#Creating an optimizers\n",
    "adaDelta = keras.optimizers.Adadelta(lr=1.0, rho=0.95)\n",
    "sgd = SGD(lr=0.01, decay=1e-6, momentum=0.95, nesterov=True)\n",
    "model.compile(optimizer = sgd , loss = 'categorical_crossentropy', metrics = ['accuracy'])\n",
    "\n",
    "#Creating early stopping \n",
    "earlystop = EarlyStopping(monitor = 'val_accuracy', min_delta = 0, patience = 50, verbose = 1, mode = 'auto', restore_best_weights = True)       \n",
    "\n",
    "train_generator = datagen.flow(x_train, y_train, batch_size = batch_Size)\n",
    "validation_generator = datagen.flow(x_valid, y_valid, batch_size = batch_Size)\n",
    "\n",
    "# Model training\n",
    "history = model.fit_generator(\n",
    "    train_generator,\n",
    "    steps_per_epoch = steps_Per_Epoch,\n",
    "    validation_data = validation_generator, \n",
    "    validation_steps = 16,\n",
    "    epochs = numEpochs,\n",
    "    shuffle = True, \n",
    "    verbose = 1)"
   ]
  },
  {
   "cell_type": "code",
   "execution_count": 11,
   "metadata": {},
   "outputs": [],
   "source": [
    "modelPath = \"ResNet18_COVID19.h5\"\n",
    "resultPath = 'ResNet18_COVID19.txt'"
   ]
  },
  {
   "cell_type": "code",
   "execution_count": 12,
   "metadata": {},
   "outputs": [
    {
     "name": "stdout",
     "output_type": "stream",
     "text": [
      "Epoch     0 | LossA: 3.87(+0.00%) \u001b[0m\t| LossAB: 123.18(+0.00%) \u001b[0m\t\n",
      "Epoch     1 | LossA: \u001b[32m3.27(-15.53%) ▼\u001b[0m\t| LossAB: \u001b[32m120.24(-2.38%) ▼\u001b[0m\t\n",
      "Epoch     2 | LossA: \u001b[32m2.99(-8.62%) ▼\u001b[0m\t| LossAB: \u001b[32m66.70(-44.53%) ▼\u001b[0m\t\n",
      "Epoch     3 | LossA: \u001b[32m2.96(-0.87%) ▼\u001b[0m\t| LossAB: \u001b[32m22.45(-66.34%) ▼\u001b[0m\t\n",
      "Epoch     4 | LossA: \u001b[32m2.95(-0.22%) ▼\u001b[0m\t| LossAB: \u001b[32m17.25(-23.19%) ▼\u001b[0m\t\n",
      "Epoch     5 | LossA: \u001b[32m2.93(-0.75%) ▼\u001b[0m\t| LossAB: \u001b[32m8.32(-51.76%) ▼\u001b[0m\t\n",
      "Epoch     6 | LossA: \u001b[32m2.92(-0.22%) ▼\u001b[0m\t| LossAB: \u001b[32m7.10(-14.72%) ▼\u001b[0m\t\n",
      "Epoch     7 | LossA: \u001b[91m2.93(+0.05%) ▲\u001b[0m\t| LossAB: \u001b[32m4.76(-32.90%) ▼\u001b[0m\t\n",
      "Epoch     8 | LossA: \u001b[32m2.91(-0.57%) ▼\u001b[0m\t| LossAB: \u001b[91m5.01(+5.21%) ▲\u001b[0m\t\n",
      "Epoch     9 | LossA: \u001b[32m2.90(-0.41%) ▼\u001b[0m\t| LossAB: \u001b[32m4.72(-5.81%) ▼\u001b[0m\t\n",
      "Epoch    10 | LossA: \u001b[32m2.88(-0.51%) ▼\u001b[0m\t| LossAB: \u001b[32m4.50(-4.70%) ▼\u001b[0m\t\n",
      "Epoch    11 | LossA: \u001b[32m2.88(-0.25%) ▼\u001b[0m\t| LossAB: \u001b[32m4.30(-4.31%) ▼\u001b[0m\t\n",
      "Epoch    12 | LossA: \u001b[32m2.86(-0.39%) ▼\u001b[0m\t| LossAB: \u001b[91m4.38(+1.77%) ▲\u001b[0m\t\n",
      "Epoch    13 | LossA: \u001b[32m2.86(-0.25%) ▼\u001b[0m\t| LossAB: \u001b[91m4.51(+3.01%) ▲\u001b[0m\t\n",
      "Epoch    14 | LossA: \u001b[32m2.85(-0.30%) ▼\u001b[0m\t| LossAB: \u001b[32m4.46(-1.23%) ▼\u001b[0m\t\n",
      "Epoch    15 | LossA: \u001b[32m2.84(-0.25%) ▼\u001b[0m\t| LossAB: \u001b[91m4.49(+0.74%) ▲\u001b[0m\t\n",
      "Epoch    16 | LossA: \u001b[91m2.85(+0.40%) ▲\u001b[0m\t| LossAB: \u001b[91m5.01(+11.51%) ▲\u001b[0m\t\n",
      "Epoch    17 | LossA: \u001b[32m2.85(-0.04%) ▼\u001b[0m\t| LossAB: \u001b[91m5.48(+9.58%) ▲\u001b[0m\t\n",
      "Epoch    18 | LossA: \u001b[32m2.84(-0.34%) ▼\u001b[0m\t| LossAB: \u001b[32m4.25(-22.44%) ▼\u001b[0m\t\n",
      "Epoch    19 | LossA: \u001b[32m2.82(-0.83%) ▼\u001b[0m\t| LossAB: \u001b[91m4.30(+1.20%) ▲\u001b[0m\t\n",
      "Epoch    20 | LossA: \u001b[32m2.81(-0.18%) ▼\u001b[0m\t| LossAB: \u001b[32m4.05(-5.90%) ▼\u001b[0m\t\n",
      "Epoch    21 | LossA: \u001b[32m2.81(-0.28%) ▼\u001b[0m\t| LossAB: \u001b[91m4.47(+10.37%) ▲\u001b[0m\t\n",
      "Epoch    22 | LossA: \u001b[91m2.81(+0.10%) ▲\u001b[0m\t| LossAB: \u001b[91m5.37(+20.01%) ▲\u001b[0m\t\n",
      "Epoch    23 | LossA: \u001b[32m2.80(-0.32%) ▼\u001b[0m\t| LossAB: \u001b[32m4.76(-11.22%) ▼\u001b[0m\t\n",
      "Epoch    24 | LossA: \u001b[32m2.79(-0.45%) ▼\u001b[0m\t| LossAB: \u001b[91m5.33(+11.98%) ▲\u001b[0m\t\n",
      "Epoch    25 | LossA: \u001b[32m2.78(-0.22%) ▼\u001b[0m\t| LossAB: \u001b[91m5.53(+3.62%) ▲\u001b[0m\t\n",
      "Epoch    26 | LossA: \u001b[32m2.77(-0.29%) ▼\u001b[0m\t| LossAB: \u001b[32m4.66(-15.64%) ▼\u001b[0m\t\n",
      "Epoch    27 | LossA: \u001b[32m2.76(-0.41%) ▼\u001b[0m\t| LossAB: \u001b[32m4.25(-8.77%) ▼\u001b[0m\t\n",
      "Epoch    28 | LossA: \u001b[32m2.75(-0.33%) ▼\u001b[0m\t| LossAB: \u001b[91m4.59(+7.98%) ▲\u001b[0m\t\n",
      "Epoch    29 | LossA: \u001b[32m2.75(-0.22%) ▼\u001b[0m\t| LossAB: \u001b[32m4.42(-3.85%) ▼\u001b[0m\t\n",
      "Epoch    30 | LossA: \u001b[32m2.74(-0.18%) ▼\u001b[0m\t| LossAB: \u001b[91m4.46(+1.01%) ▲\u001b[0m\t\n",
      "Epoch    31 | LossA: \u001b[32m2.73(-0.24%) ▼\u001b[0m\t| LossAB: \u001b[32m4.19(-6.03%) ▼\u001b[0m\t\n",
      "Epoch    32 | LossA: \u001b[32m2.73(-0.11%) ▼\u001b[0m\t| LossAB: \u001b[91m4.42(+5.51%) ▲\u001b[0m\t\n",
      "Epoch    33 | LossA: \u001b[32m2.72(-0.49%) ▼\u001b[0m\t| LossAB: \u001b[32m4.20(-5.01%) ▼\u001b[0m\t\n",
      "Epoch    34 | LossA: \u001b[32m2.71(-0.28%) ▼\u001b[0m\t| LossAB: \u001b[91m4.37(+4.00%) ▲\u001b[0m\t\n",
      "Epoch    35 | LossA: \u001b[32m2.70(-0.22%) ▼\u001b[0m\t| LossAB: \u001b[32m4.36(-0.27%) ▼\u001b[0m\t\n",
      "Epoch    36 | LossA: \u001b[32m2.70(-0.31%) ▼\u001b[0m\t| LossAB: \u001b[32m4.26(-2.21%) ▼\u001b[0m\t\n",
      "Epoch    37 | LossA: \u001b[32m2.69(-0.25%) ▼\u001b[0m\t| LossAB: \u001b[32m4.14(-2.91%) ▼\u001b[0m\t\n",
      "Epoch    38 | LossA: \u001b[32m2.68(-0.27%) ▼\u001b[0m\t| LossAB: \u001b[32m4.09(-1.13%) ▼\u001b[0m\t\n",
      "Epoch    39 | LossA: \u001b[32m2.68(-0.25%) ▼\u001b[0m\t| LossAB: \u001b[91m4.14(+1.25%) ▲\u001b[0m\t\n",
      "Epoch    40 | LossA: \u001b[32m2.67(-0.26%) ▼\u001b[0m\t| LossAB: \u001b[91m4.19(+1.24%) ▲\u001b[0m\t\n",
      "Epoch    41 | LossA: \u001b[32m2.66(-0.25%) ▼\u001b[0m\t| LossAB: \u001b[32m4.19(-0.10%) ▼\u001b[0m\t\n",
      "Epoch    42 | LossA: \u001b[32m2.65(-0.26%) ▼\u001b[0m\t| LossAB: \u001b[91m4.25(+1.44%) ▲\u001b[0m\t\n",
      "Epoch    43 | LossA: \u001b[32m2.65(-0.22%) ▼\u001b[0m\t| LossAB: \u001b[91m4.74(+11.53%) ▲\u001b[0m\t\n",
      "Epoch    44 | LossA: \u001b[91m2.68(+1.14%) ▲\u001b[0m\t| LossAB: \u001b[91m4.75(+0.18%) ▲\u001b[0m\t\n",
      "Epoch    45 | LossA: \u001b[91m2.70(+0.66%) ▲\u001b[0m\t| LossAB: \u001b[91m4.93(+3.83%) ▲\u001b[0m\t\n",
      "Epoch    46 | LossA: \u001b[32m2.65(-1.84%) ▼\u001b[0m\t| LossAB: \u001b[32m4.91(-0.40%) ▼\u001b[0m\t\n",
      "Epoch    47 | LossA: \u001b[91m2.66(+0.32%) ▲\u001b[0m\t| LossAB: \u001b[91m5.30(+7.96%) ▲\u001b[0m\t\n",
      "Epoch    48 | LossA: \u001b[32m2.65(-0.06%) ▼\u001b[0m\t| LossAB: \u001b[91m5.42(+2.20%) ▲\u001b[0m\t\n",
      "30/30 [==============================] - 0s 2ms/step\n",
      "Accuracy: 0.5333333611488342\n"
     ]
    }
   ],
   "source": [
    "# visualizing losses and accuracy\n",
    "train_loss = history.history['loss']\n",
    "val_loss = history.history['val_loss']\n",
    "\n",
    "y_test_oh = dense_to_one_hot(y_test,num_clases=4)\n",
    "\n",
    "#Observing the losses but can be commented out as it's not mandatory \n",
    "reporter = lossprettifier.LossPrettifier(show_percentage=True)\n",
    "\n",
    "for i in range(numEpochs-1):\n",
    "    reporter(epoch=i, LossA = train_loss[i], LossAB = val_loss[i])\n",
    "\n",
    "# Model evaluation \n",
    "score, acc = model.evaluate(x_test, y_test_oh, batch_size=batch_Size)\n",
    "print(\"Accuracy:\", acc)\n",
    "\n",
    "#if acc>0.675:\n",
    "model.save_weights(modelPath)"
   ]
  },
  {
   "cell_type": "code",
   "execution_count": 13,
   "metadata": {},
   "outputs": [
    {
     "name": "stdout",
     "output_type": "stream",
     "text": [
      "              precision    recall  f1-score   support\n",
      "\n",
      "           0       0.75      0.60      0.67        10\n",
      "           1       0.47      0.70      0.56        10\n",
      "           2       0.43      0.30      0.35        10\n",
      "\n",
      "    accuracy                           0.53        30\n",
      "   macro avg       0.55      0.53      0.53        30\n",
      "weighted avg       0.55      0.53      0.53        30\n",
      "\n"
     ]
    }
   ],
   "source": [
    "y_pred = model.predict(x_test)\n",
    "#y_pred = y_pred.reshape(len(y_test), 4)\n",
    "y_pred = np.argmax(y_pred, axis=1)\n",
    "\n",
    "# Writing results on file\n",
    "f = open(resultPath,'a') #create classification report\n",
    "f.write(classification_report(y_test, y_pred))\n",
    "f.write(str(sklm.cohen_kappa_score(y_test, y_pred))+\",\"+str(acc)+\",\"+str(score)+\"\\n\")\n",
    "\n",
    "#Print class-wise classification metrics\n",
    "print(classification_report(y_test, y_pred))"
   ]
  },
  {
   "cell_type": "code",
   "execution_count": null,
   "metadata": {},
   "outputs": [],
   "source": []
  }
 ],
 "metadata": {
  "kernelspec": {
   "display_name": "wbvenv36",
   "language": "python",
   "name": "wbvenv36"
  },
  "language_info": {
   "codemirror_mode": {
    "name": "ipython",
    "version": 3
   },
   "file_extension": ".py",
   "mimetype": "text/x-python",
   "name": "python",
   "nbconvert_exporter": "python",
   "pygments_lexer": "ipython3",
   "version": "3.6.12"
  }
 },
 "nbformat": 4,
 "nbformat_minor": 2
}

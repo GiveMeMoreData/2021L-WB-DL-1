{
 "cells": [
  {
   "cell_type": "code",
   "execution_count": 2,
   "metadata": {},
   "outputs": [],
   "source": [
    "import pylidc as pl\n",
    "import numpy as np\n",
    "from tqdm import tqdm"
   ]
  },
  {
   "cell_type": "code",
   "execution_count": 3,
   "metadata": {},
   "outputs": [
    {
     "name": "stderr",
     "output_type": "stream",
     "text": [
      "100%|██████████| 200/200 [18:41<00:00,  5.61s/it]\n"
     ]
    }
   ],
   "source": [
    "# start, stop, id\n",
    "part = (300,500,1)\n",
    "X = []\n",
    "Y = []\n",
    "for scan in tqdm(pl.query(pl.Scan).filter(pl.Scan.id >= part[0], pl.Scan.id < part[1]).all()):\n",
    "    vol = scan.to_volume(verbose=False)\n",
    "    slices = [x.bbox()[2] for x in scan.annotations]\n",
    "    indexes = [list(range(slice.start, slice.stop)) for slice in slices]\n",
    "    #flatten\n",
    "    indexes = np.unique([index for l in indexes for index in l])\n",
    "    mask = np.zeros(vol.shape)\n",
    "    for ann in scan.annotations:\n",
    "        mask[ann.bbox()] += ann.boolean_mask()\n",
    "    mask = mask > 0\n",
    "    for z in indexes:\n",
    "        cmsk = np.zeros((mask.shape[0], mask.shape[1], 2), dtype='bool')\n",
    "        cmsk[:,:, 0] = mask[:,:,z]\n",
    "        cmsk[:,:, 1] = np.logical_not(mask[:,:,z])\n",
    "        X.append(vol[:,:,z])\n",
    "        Y.append(cmsk)\n",
    "partdb = {'X': X, 'Y': Y}\n",
    "np.savez_compressed('lidc-part' + str(part[2]), db=partdb)"
   ]
  },
  {
   "cell_type": "code",
   "execution_count": null,
   "metadata": {},
   "outputs": [],
   "source": []
  },
  {
   "cell_type": "markdown",
   "metadata": {},
   "source": [
    "## Joining parts"
   ]
  },
  {
   "cell_type": "code",
   "execution_count": 5,
   "metadata": {},
   "outputs": [],
   "source": [
    "db = np.load('lidc-part' + str(3) + '.npz', allow_pickle=True)['db'][()]"
   ]
  },
  {
   "cell_type": "code",
   "execution_count": 3,
   "metadata": {},
   "outputs": [
    {
     "name": "stderr",
     "output_type": "stream",
     "text": [
      "100%|██████████| 4/4 [01:34<00:00, 23.57s/it]\n"
     ]
    }
   ],
   "source": [
    "X = []\n",
    "Y = []\n",
    "for i in tqdm(range(4)):\n",
    "    db = np.load('lidc-part' + str(i) + '.npz', allow_pickle=True)['db'][()]\n",
    "    X = X + db['X']\n",
    "    Y = Y + db['Y']"
   ]
  },
  {
   "cell_type": "code",
   "execution_count": 7,
   "metadata": {},
   "outputs": [],
   "source": [
    "# shuffle\n",
    "idx = np.random.permutation(len(X))\n",
    "X = [X[i] for i in idx]\n",
    "Y = [Y[i] for i in idx]"
   ]
  },
  {
   "cell_type": "code",
   "execution_count": 8,
   "metadata": {},
   "outputs": [
    {
     "name": "stdout",
     "output_type": "stream",
     "text": [
      "Saving validation set ...\n",
      "Saving training set ...\n"
     ]
    }
   ],
   "source": [
    "bound = int(len(X)*0.8)\n",
    "# split and save to pklz\n",
    "print('Saving validation set ...')\n",
    "valdb = {'X': X[bound:], 'Y': Y[bound:]}\n",
    "np.savez_compressed('lidc-val', db=valdb)\n",
    "print('Saving training set ...')\n",
    "traindb = {'X': X[:bound], 'Y': Y[:bound]}\n",
    "np.savez_compressed('lidc-train', db=traindb)"
   ]
  },
  {
   "cell_type": "markdown",
   "metadata": {},
   "source": [
    "## Calculate weights"
   ]
  },
  {
   "cell_type": "code",
   "execution_count": 9,
   "metadata": {},
   "outputs": [],
   "source": [
    "all_masks = np.array(traindb.get('Y'))"
   ]
  },
  {
   "cell_type": "code",
   "execution_count": 10,
   "metadata": {},
   "outputs": [
    {
     "data": {
      "text/plain": [
       "(11708, 512, 512, 2)"
      ]
     },
     "execution_count": 10,
     "metadata": {},
     "output_type": "execute_result"
    }
   ],
   "source": [
    "all_masks.shape"
   ]
  },
  {
   "cell_type": "code",
   "execution_count": 11,
   "metadata": {},
   "outputs": [
    {
     "data": {
      "text/plain": [
       "array([6.59386779e-04, 9.99340613e-01])"
      ]
     },
     "execution_count": 11,
     "metadata": {},
     "output_type": "execute_result"
    }
   ],
   "source": [
    "freq = np.mean(all_masks, axis=(0,1,2))\n",
    "freq"
   ]
  },
  {
   "cell_type": "code",
   "execution_count": 12,
   "metadata": {},
   "outputs": [
    {
     "data": {
      "text/plain": [
       "array([7.58280294e+02, 5.00329911e-01])"
      ]
     },
     "execution_count": 12,
     "metadata": {},
     "output_type": "execute_result"
    }
   ],
   "source": [
    "weights = np.median(freq)/freq\n",
    "weights"
   ]
  }
 ],
 "metadata": {
  "kernelspec": {
   "display_name": "Python 3",
   "language": "python",
   "name": "python3"
  },
  "language_info": {
   "codemirror_mode": {
    "name": "ipython",
    "version": 3
   },
   "file_extension": ".py",
   "mimetype": "text/x-python",
   "name": "python",
   "nbconvert_exporter": "python",
   "pygments_lexer": "ipython3",
   "version": "3.8.5"
  }
 },
 "nbformat": 4,
 "nbformat_minor": 4
}

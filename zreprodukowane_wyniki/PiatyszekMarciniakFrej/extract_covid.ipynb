{
 "cells": [
  {
   "cell_type": "code",
   "execution_count": 9,
   "metadata": {},
   "outputs": [],
   "source": [
    "import glob\n",
    "import numpy as np\n",
    "from PIL import Image"
   ]
  },
  {
   "cell_type": "code",
   "execution_count": 11,
   "metadata": {},
   "outputs": [],
   "source": [
    "# Paths are properly named, we do not need to sort them\n",
    "images = glob.glob('COVID19-DL/dataset/im/256/*')\n",
    "masks = glob.glob('COVID19-DL/dataset/mask/multi/256/*')"
   ]
  },
  {
   "cell_type": "code",
   "execution_count": 49,
   "metadata": {},
   "outputs": [],
   "source": [
    "classes = [85, 170, 255, 0]"
   ]
  },
  {
   "cell_type": "code",
   "execution_count": 50,
   "metadata": {},
   "outputs": [],
   "source": [
    "X = []\n",
    "Y = []\n",
    "for index in range(len(images)):\n",
    "    img = Image.open(images[index])\n",
    "    im = np.asarray(img, dtype='float32') / 255\n",
    "    mask = Image.open(masks[index]).convert('L')\n",
    "    cmsk = np.zeros((im.shape[0], im.shape[1], len(classes)), dtype='bool')\n",
    "    for i in range(len(classes)):\n",
    "        cmsk[:,:,i] = np.asarray(mask) == classes[i]\n",
    "    if im.ndim != 3: # b&w -> RGB\n",
    "        im = np.repeat(im[:,:,None], 3, axis=-1)\n",
    "    X.append(im)\n",
    "    Y.append(cmsk)"
   ]
  },
  {
   "cell_type": "code",
   "execution_count": 51,
   "metadata": {},
   "outputs": [],
   "source": [
    "# shuffle\n",
    "idx = np.random.permutation(len(X))\n",
    "X = [X[i] for i in idx]\n",
    "Y = [Y[i] for i in idx]"
   ]
  },
  {
   "cell_type": "code",
   "execution_count": 52,
   "metadata": {},
   "outputs": [
    {
     "name": "stdout",
     "output_type": "stream",
     "text": [
      "Saving validation set ...\n",
      "Saving training set ...\n"
     ]
    }
   ],
   "source": [
    "# split and save to pklz\n",
    "print('Saving validation set ...')\n",
    "valdb = {'X': X[int(len(X)*0.8):], 'Y': Y[int(len(X)*0.8):]}\n",
    "np.savez_compressed('covid-val', db=valdb)\n",
    "print('Saving training set ...')\n",
    "traindb = {'X': X[:int(len(X)*0.8)], 'Y': Y[:int(len(X)*0.8)]}\n",
    "np.savez_compressed('covid-train', db=traindb)"
   ]
  },
  {
   "cell_type": "markdown",
   "metadata": {},
   "source": [
    "## Calculate weights"
   ]
  },
  {
   "cell_type": "code",
   "execution_count": 53,
   "metadata": {},
   "outputs": [],
   "source": [
    "all_masks = np.array(traindb.get('Y'))"
   ]
  },
  {
   "cell_type": "code",
   "execution_count": 54,
   "metadata": {},
   "outputs": [
    {
     "data": {
      "text/plain": [
       "(80, 256, 256, 4)"
      ]
     },
     "execution_count": 54,
     "metadata": {},
     "output_type": "execute_result"
    }
   ],
   "source": [
    "all_masks.shape"
   ]
  },
  {
   "cell_type": "code",
   "execution_count": 71,
   "metadata": {},
   "outputs": [
    {
     "data": {
      "text/plain": [
       "array([0.04567184, 0.02231903, 0.00148087, 0.93052826])"
      ]
     },
     "execution_count": 71,
     "metadata": {},
     "output_type": "execute_result"
    }
   ],
   "source": [
    "freq = np.mean(all_masks, axis=(0,1,2))\n",
    "freq"
   ]
  },
  {
   "cell_type": "code",
   "execution_count": 72,
   "metadata": {},
   "outputs": [
    {
     "data": {
      "text/plain": [
       "array([ 0.74434125,  1.52315923, 22.95646574,  0.03653348])"
      ]
     },
     "execution_count": 72,
     "metadata": {},
     "output_type": "execute_result"
    }
   ],
   "source": [
    "weights = np.median(freq)/freq\n",
    "weights"
   ]
  }
 ],
 "metadata": {
  "kernelspec": {
   "display_name": "Python 3",
   "language": "python",
   "name": "python3"
  },
  "language_info": {
   "codemirror_mode": {
    "name": "ipython",
    "version": 3
   },
   "file_extension": ".py",
   "mimetype": "text/x-python",
   "name": "python",
   "nbconvert_exporter": "python",
   "pygments_lexer": "ipython3",
   "version": "3.8.5"
  }
 },
 "nbformat": 4,
 "nbformat_minor": 4
}

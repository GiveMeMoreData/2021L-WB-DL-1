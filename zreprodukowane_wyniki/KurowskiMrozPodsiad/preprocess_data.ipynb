{
 "cells": [
  {
   "cell_type": "code",
   "execution_count": 1,
   "metadata": {},
   "outputs": [],
   "source": [
    "import pandas as pd\n",
    "\n",
    "df_test = pd.read_csv('test_split.txt',\n",
    "                 delimiter = \" \",\n",
    "                index_col=False)\n",
    "df_test.columns = [\"number\", \"filename\", \"illness\", \"data\"]\n",
    "\n",
    "df_train = pd.read_csv('train_split.txt',\n",
    "                 delimiter = \" \",\n",
    "                index_col=False)\n",
    "df_train.columns = [\"number\", \"filename\", \"illness\", \"data\"]\n",
    "\n",
    "dict_test = pd.Series(df_test.illness.values,index=df_test.filename).to_dict() \n",
    "dict_train = pd.Series(df_train.illness.values,index=df_train.filename).to_dict()"
   ]
  },
  {
   "cell_type": "code",
   "execution_count": 2,
   "metadata": {},
   "outputs": [],
   "source": [
    "import os\n",
    "from PIL import Image\n",
    "from numpy import asarray\n",
    "import numpy as np\n",
    "\n",
    "img_path = os.path.join(\"data\", \"train\")\n",
    "names = df_train[\"filename\"]\n",
    "\n",
    "def load_images(names):\n",
    "    n_images = len(names)\n",
    "    images = np.zeros((n_images, 224, 224, 3))\n",
    "    labels = np.empty(n_images, dtype='object')\n",
    "    for i in range(n_images):\n",
    "        name = names[i]\n",
    "        image = Image.open(os.path.join(img_path, name))\n",
    "        image = image.convert('RGB').resize((224,224)) #thumbnail\n",
    "        image = asarray(image)\n",
    "        images[i] = image\n",
    "        labels[i] = dict_train[name]\n",
    "    return images, labels"
   ]
  },
  {
   "cell_type": "code",
   "execution_count": 3,
   "metadata": {},
   "outputs": [],
   "source": [
    "np.random.seed(2137)\n",
    "\n",
    "df1 = df_train[df_train[\"illness\"]==\"normal\"].sample(110)[\"filename\"]\n",
    "df2 = df_train[df_train[\"illness\"]==\"COVID-19\"].sample(110)[\"filename\"]\n",
    "df3 = df_train[df_train[\"illness\"]==\"pneumonia\"].sample(110)[\"filename\"]\n",
    "frames = [df1.head(100), df2.head(100), df3.head(100)]\n",
    "frames2 = [df1.tail(10), df2.tail(10), df3.tail(10)]\n",
    "\n",
    "names_train = pd.concat(frames).reset_index(drop=True)\n",
    "names_test = pd.concat(frames2).reset_index(drop=True)"
   ]
  },
  {
   "cell_type": "code",
   "execution_count": 4,
   "metadata": {},
   "outputs": [],
   "source": [
    "def encode(y):\n",
    "    y[y==\"normal\"]=0\n",
    "    y[y==\"COVID-19\"]=1\n",
    "    y[y==\"pneumonia\"]=2\n",
    "    return y.astype(int)"
   ]
  },
  {
   "cell_type": "code",
   "execution_count": 5,
   "metadata": {},
   "outputs": [],
   "source": [
    "img_path = os.path.join(\"data\", \"train\")\n",
    "\n",
    "names = names_train\n",
    "x_train, y_train = load_images(names)\n",
    "\n",
    "names = names_test\n",
    "x_test, y_test = load_images(names)\n",
    "\n",
    "y_train = encode(y_train)\n",
    "y_test = encode(y_test)"
   ]
  },
  {
   "cell_type": "code",
   "execution_count": 6,
   "metadata": {},
   "outputs": [],
   "source": [
    "np.save(\"data/x_train\", x_train)\n",
    "np.save(\"data/y_train\", y_train)\n",
    "np.save(\"data/x_test\", x_test)\n",
    "np.save(\"data/y_test\", y_test)"
   ]
  }
 ],
 "metadata": {
  "kernelspec": {
   "display_name": "Python 3",
   "language": "python",
   "name": "python3"
  },
  "language_info": {
   "codemirror_mode": {
    "name": "ipython",
    "version": 3
   },
   "file_extension": ".py",
   "mimetype": "text/x-python",
   "name": "python",
   "nbconvert_exporter": "python",
   "pygments_lexer": "ipython3",
   "version": "3.6.12"
  }
 },
 "nbformat": 4,
 "nbformat_minor": 4
}
